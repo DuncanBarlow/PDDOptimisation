{
 "cells": [
  {
   "cell_type": "code",
   "execution_count": null,
   "id": "a95ef6e2-a1f8-44fb-a915-ea1cbdbb25d5",
   "metadata": {},
   "outputs": [],
   "source": [
    "import numpy as np\n",
    "import training_data_generation as tdg\n",
    "import matplotlib.pyplot as plt\n",
    "%matplotlib inline\n",
    "plt.ion();\n",
    "import healpy as hp\n",
    "import utils_intensity_map as uim\n",
    "import utils_deck_generation as idg\n",
    "import netcdf_read_write as nrw\n",
    "import training_data_generation as tdg\n",
    "import utils_healpy as uhp\n",
    "import utils_optimizers as uopt\n",
    "import os\n",
    "%matplotlib inline\n",
    "np_complex = np.vectorize(complex)"
   ]
  },
  {
   "cell_type": "code",
   "execution_count": null,
   "id": "e4c2c545-7f69-415a-9ffd-0921a88d80a5",
   "metadata": {},
   "outputs": [],
   "source": [
    "diag_dir = \"../Data/test_run\"\n",
    "\n",
    "sys_params = tdg.define_system_params(diag_dir)"
   ]
  },
  {
   "cell_type": "code",
   "execution_count": null,
   "id": "1aff660c-f621-4a0b-91ff-2887e635410b",
   "metadata": {},
   "outputs": [],
   "source": [
    "def fitness_function(dataset, opt_params):\n",
    "    target_rms = opt_params[\"fitness_desired_rms\"]\n",
    "    norm_factor = opt_params[\"fitness_norm_factor\"]\n",
    "    number_of_timesteps = np.shape(dataset[\"rms\"][:,:])[1]\n",
    "\n",
    "    rms = dataset[\"rms\"][:,:]\n",
    "    avg_flux = dataset[\"avg_flux\"][:,:]\n",
    "    if opt_params[\"run_plasma_profile\"]:\n",
    "        target_flux = opt_params[\"fitness_desired_pressure_mbar\"]\n",
    "        indices = np.where(np.array(avg_flux) > opt_params[\"fitness_limit_broken_pressure_mbar\"])[0]\n",
    "        print(\"Fitness function detects broken runs: \", indices)\n",
    "        avg_flux[indices] = 0.0\n",
    "    else:\n",
    "        target_flux = opt_params[\"fitness_desired_power_per_steradian\"]\n",
    "\n",
    "    maxi_func = np.exp(-(rms/target_rms) + (avg_flux / target_flux) ** 0.25) * (avg_flux / target_flux) * norm_factor\n",
    "    return maxi_func"
   ]
  },
  {
   "cell_type": "code",
   "execution_count": null,
   "id": "cde9eccf-45d1-43d8-8783-f22a5ce3ebc4",
   "metadata": {},
   "outputs": [],
   "source": [
    "dataset, dataset_params, deck_gen_params, facility_spec = idg.load_data_dicts_from_file(sys_params)\n",
    "opt_params = uopt.define_optimizer_parameters(diag_dir, 0, 0, dataset_params, facility_spec, sys_params)\n",
    "\n",
    "fitness_temporal = fitness_function(dataset, opt_params)\n",
    "fitness_overall = uopt.fitness_function(dataset, opt_params)\n",
    "\n",
    "labels = [None] * dataset_params[\"num_examples\"]\n",
    "for iconfig in range(dataset_params[\"num_examples\"]):\n",
    "    labels[iconfig] = r\"SGO={:.2f} and $R_b$={:.2f} $\\mu m$\".format(deck_gen_params[\"beamspot_order\"][iconfig,0], deck_gen_params[\"beamspot_major_radius\"][iconfig,0])"
   ]
  },
  {
   "cell_type": "code",
   "execution_count": null,
   "id": "90152490-380f-4ec3-b86e-56dc2f28505c",
   "metadata": {},
   "outputs": [],
   "source": [
    "fig1, ax1 = plt.subplots(figsize=(7, 4), dpi=400)\n",
    "fig2, ax2 = plt.subplots(figsize=(7, 4), dpi=400)\n",
    "\n",
    "cut = 10\n",
    "ax1.semilogy(dataset_params[\"plasma_profile_times\"], fitness_temporal[:cut].T, label=labels[:cut])\n",
    "ax1.semilogy(dataset_params[\"plasma_profile_times\"], fitness_temporal[cut:].T, \":\", label=labels[cut:])\n",
    "ax2.plot(fitness_overall.T, label=labels)\n",
    "\n",
    "xlims = [0.,30.0]\n",
    "ylims = [0.01,10.0]\n",
    "\n",
    "ax1.set_xlim(xlims)\n",
    "ax1.set_ylim(ylims)\n",
    "ax1.set_xlabel(\"Time (ns)\")\n",
    "ax1.set_ylabel(\"Fitness\")\n",
    "ax1.legend(loc=\"best\")"
   ]
  },
  {
   "cell_type": "code",
   "execution_count": null,
   "id": "7d704b2c-cdaa-4108-b760-3077328b0457",
   "metadata": {},
   "outputs": [],
   "source": [
    "fig1, ax1 = plt.subplots(figsize=(7, 4), dpi=400)\n",
    "fig2, ax2 = plt.subplots(figsize=(7, 4), dpi=400)\n",
    "\n",
    "cut = 10\n",
    "ax1.semilogy(dataset_params[\"plasma_profile_times\"],dataset[\"rms\"][:cut].T * 100, label=labels[:cut])\n",
    "ax1.semilogy(dataset_params[\"plasma_profile_times\"],dataset[\"rms\"][cut:].T * 100, \":\", label=labels[cut:])\n",
    "ax2.plot(dataset_params[\"plasma_profile_times\"][1:],dataset[\"avg_flux\"][:cut,1:].T, label=labels[:cut])\n",
    "ax2.plot(dataset_params[\"plasma_profile_times\"][1:],dataset[\"avg_flux\"][cut:,1:].T, \":\", label=labels[cut:])\n",
    "\n",
    "xlims = [0.,30.0]\n",
    "ylims = [0.,100.0]\n",
    "\n",
    "ax1.set_xlim(xlims)\n",
    "#ax1.set_ylim(ylims)\n",
    "ax1.set_xlabel(\"Time (ns)\")\n",
    "ax1.set_ylabel(\"RMS ablation pressure (%)\")\n",
    "ax1.legend(loc=\"best\")\n",
    "#fig1.savefig(root+\"/\"+plot_dir + \"/\" + 'hydro_equivalent_intensity.png', bbox_inches='tight')\n",
    "\n",
    "ax2.set_xlim(xlims)\n",
    "ax2.set_xlabel(\"Time (ns)\")\n",
    "ax2.set_ylabel(\"Ablation pressure (Mbars)\")\n",
    "ax2.legend(loc=\"best\")\n",
    "#fig2.savefig(root+\"/\"+plot_dir + \"/\" + 'hydro_equivalent_ablation_pressure_estimate.png', bbox_inches='tight')"
   ]
  },
  {
   "cell_type": "code",
   "execution_count": null,
   "id": "db87efd7-b60d-4eca-a79a-117a1b2ee91b",
   "metadata": {},
   "outputs": [],
   "source": []
  },
  {
   "cell_type": "code",
   "execution_count": null,
   "id": "779aaf6a-d395-4193-acba-c50c0bd2131f",
   "metadata": {},
   "outputs": [],
   "source": []
  }
 ],
 "metadata": {
  "kernelspec": {
   "display_name": "Python 3 (ipykernel)",
   "language": "python",
   "name": "python3"
  },
  "language_info": {
   "codemirror_mode": {
    "name": "ipython",
    "version": 3
   },
   "file_extension": ".py",
   "mimetype": "text/x-python",
   "name": "python",
   "nbconvert_exporter": "python",
   "pygments_lexer": "ipython3",
   "version": "3.10.6"
  }
 },
 "nbformat": 4,
 "nbformat_minor": 5
}
