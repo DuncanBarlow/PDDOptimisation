{
 "cells": [
  {
   "cell_type": "code",
   "execution_count": null,
   "id": "379c4e88-e188-4cfe-beff-dfa78508c2d1",
   "metadata": {
    "tags": []
   },
   "outputs": [],
   "source": [
    "import numpy as np\n",
    "import training_data_generation as tdg\n",
    "import matplotlib.pyplot as plt\n",
    "import healpy as hp\n",
    "import utils_intensity_map as uim\n",
    "import utils_deck_generation as idg\n",
    "import netcdf_read_write as nrw\n",
    "import training_data_generation as tdg\n",
    "import utils_healpy as uhp\n",
    "import os\n",
    "%matplotlib inline\n",
    "\n",
    "savefile_type = \".png\""
   ]
  },
  {
   "cell_type": "code",
   "execution_count": null,
   "id": "32da9ce1-e970-4e26-a819-92db92620775",
   "metadata": {
    "tags": []
   },
   "outputs": [],
   "source": [
    "def critical_density(wavelength_l=351.0e-9):\n",
    "    epi_0 = 8.85e-12\n",
    "    mass_e = 9.11e-31\n",
    "    charge_e = 1.6e-19\n",
    "    c_s = 3.0e8\n",
    "    \n",
    "    omega_l = 2.0 * np.pi * c_s / wavelength_l\n",
    "    \n",
    "    n_crit = epi_0 * mass_e * omega_l**2 / charge_e**2\n",
    "    \n",
    "    print(\"Critical electron density for light wavelength {:.2f}nm is {:.2e}m^-3\".format(wavelength_l*1.0e9,n_crit))\n",
    "    \n",
    "    return n_crit\n",
    "\n",
    "\n",
    "wavelength_l = 351.0e-9\n",
    "n_crit = critical_density(wavelength_l)"
   ]
  },
  {
   "cell_type": "markdown",
   "id": "a2398154-45d5-42b2-a9da-c7b6c298c443",
   "metadata": {
    "jp-MarkdownHeadingCollapsed": true,
    "tags": []
   },
   "source": [
    "## Diagnose plasma profiles"
   ]
  },
  {
   "cell_type": "code",
   "execution_count": null,
   "id": "7838bc0d-ea11-4bd5-8933-b550c6265617",
   "metadata": {
    "tags": []
   },
   "outputs": [],
   "source": [
    "diag_dir = \"Data_240618a_N190204_003_4ns_new_weighting\"#\"Data_240805a_multi_N190204_003\" #\"Data_240618a_N190204_003_4ns_new_weighting\"\n",
    "iex = \"N190204_003\" #\"240806a_N190204_003_smaller_beams\" #\"N190204_003\"\n",
    "ind_profile = 0\n",
    "with_pointing_markers = True\n",
    "import_flipped = False\n",
    "old_format = True\n",
    "display_steradians = False\n",
    "sys_params = tdg.define_system_params(diag_dir)\n",
    "\n",
    "config_location = sys_params[\"data_dir\"] + \"/\" + sys_params[\"config_dir\"] + str(iex)\n",
    "run_location = config_location + \"/\" + sys_params[\"sim_dir\"] + str(ind_profile)"
   ]
  },
  {
   "cell_type": "code",
   "execution_count": null,
   "id": "216e68f0-7490-40ce-a317-74f3f69cc30e",
   "metadata": {
    "tags": []
   },
   "outputs": [],
   "source": [
    "sys_params = tdg.define_system_params(diag_dir)\n",
    "file_name = \"ifriit_1davg_input.nc\" #\"multi2ifriit.nc\" #\"ifriit_1davg_input.nc\"\n",
    "\n",
    "input_dir = run_location + \"/\" + file_name\n",
    "aster_profiles = nrw.read_general_netcdf(input_dir)\n",
    "\n",
    "for key in aster_profiles.keys():\n",
    "    print(key, np.shape(aster_profiles[key]))\n",
    "    \n",
    "#print(aster_profiles[\"vz\"])\n",
    "inc_aster = (np.abs(aster_profiles[\"ne\"] - n_crit)).argmin()"
   ]
  },
  {
   "cell_type": "code",
   "execution_count": null,
   "id": "4994f955-329b-4eb8-be53-e3da0cad8f33",
   "metadata": {
    "tags": []
   },
   "outputs": [],
   "source": [
    "fig, ax = plt.subplots()\n",
    "ax.plot([aster_profiles[\"xs\"][inc_aster], aster_profiles[\"xs\"][inc_aster]],[1.0e-8, 1.0],\"k:\")\n",
    "ax.semilogy(aster_profiles[\"xs\"], aster_profiles[\"ne\"][0,:]/np.max(aster_profiles[\"ne\"][0,:]))\n",
    "ax.semilogy(aster_profiles[\"xs\"], aster_profiles[\"te\"][0,:]/np.max(aster_profiles[\"te\"][0,:]))\n",
    "ax.semilogy(aster_profiles[\"xs\"], aster_profiles[\"ti\"][0,:]/np.max(aster_profiles[\"ti\"][0,:]))\n",
    "ax.semilogy(aster_profiles[\"xs\"], aster_profiles[\"vr\"][0,:]/np.max(aster_profiles[\"vr\"][0,:]))\n"
   ]
  },
  {
   "cell_type": "markdown",
   "id": "1cef1b76-cfd7-43fa-8828-9ee6decf6fc5",
   "metadata": {
    "jp-MarkdownHeadingCollapsed": true,
    "tags": []
   },
   "source": [
    "## Modify aster generated Ifriit inputs"
   ]
  },
  {
   "cell_type": "code",
   "execution_count": null,
   "id": "bf765990-24d6-41a0-b26f-ec36d898e8fd",
   "metadata": {
    "tags": []
   },
   "outputs": [],
   "source": [
    "\n",
    "output_filename = \"ifriit_1davg_input_fix_species.nc\"\n",
    "ncells = len(aster_profiles[\"xs\"])\n",
    "nmat = 2\n",
    "print(\"Hardcoded for CH!\")\n",
    "aster_profiles[\"atomic_index\"] = np.array([1.0, 12.011])\n",
    "aster_profiles[\"znuc\"] =         np.array([1.0, 6.0])\n",
    "aster_profiles[\"frac\"] = np.zeros((nmat,1,ncells))\n",
    "aster_profiles[\"frac\"][0,:,:] = 0.5\n",
    "aster_profiles[\"frac\"][1,:,:] = 0.5\n",
    "\n",
    "#nrw.save_general_netcdf(aster_profiles, run_location + \"/\" + output_filename, extra_dimension={'x': ncells, 'z':1, 'nel':nmat})"
   ]
  },
  {
   "cell_type": "markdown",
   "id": "6d4fcb02-e435-45be-ab66-a915a2112422",
   "metadata": {
    "jp-MarkdownHeadingCollapsed": true,
    "tags": []
   },
   "source": [
    "# Load profiles from multi"
   ]
  },
  {
   "cell_type": "code",
   "execution_count": null,
   "id": "28a4f64b-360d-4b04-98ac-44bc15157c29",
   "metadata": {},
   "outputs": [],
   "source": [
    "import utils_multi as um"
   ]
  },
  {
   "cell_type": "code",
   "execution_count": null,
   "id": "a3d55ae0-3ee5-484d-aa99-a4fd8ba3a396",
   "metadata": {
    "tags": []
   },
   "outputs": [],
   "source": [
    "eval_time_ns = 4.0 #0.5 #float(input()) #12.0#14.0\n",
    "ind_interfaces = [0]#[300, 670]\n",
    "print(\"!!! Hardcoded hydro evaluation time \" + str(eval_time_ns) + \"ns and DT-CH interface at cell:\" + str(ind_interfaces)+\" !!!!!!!!!!\")"
   ]
  },
  {
   "cell_type": "code",
   "execution_count": null,
   "id": "a48dc3a3-e84a-4eaf-9384-4d5d8aa58721",
   "metadata": {
    "tags": []
   },
   "outputs": [],
   "source": [
    "path = \"/cea/dsku/u-pelote/hal1/home/m5/barlowd/PC/duncan_work_folder/2407a_multi_build/2407a_multi/Data/Data_2408b_nif_pdd/240807a_N190204_003_reduced_energy/\"\n",
    "      #\"/cea/dsku/u-pelote/hal1/home/m5/barlowd/PC/duncan_work_folder/2407a_multi_build/2407a_multi/Data/Data_2412a_nif_wetted_foam_rosenberg/250128a_march_design/\"\n",
    "      #\"/cea/dsku/u-pelote/hal1/home/m5/barlowd/PC/duncan_work_folder/2407a_multi_build/2407a_multi/MULTI-IFE-2015/Data_2408c_nif_wetted_foam/240909b_pure_CH_better_resolution/\"\n",
    "      #240805a_N190204_003_wrong_beamspot/#240807a_N190204_003_reduced_energy/\n",
    "input_filename = \"multi_output.txt\" #\"multi_output.bin\"\n",
    "output_filename = \"multi2ifriit.nc\"\n",
    "\n",
    "multi_data = {}\n",
    "#multi_data = um.multi_read_bin(path+input_filename, multi_data)\n",
    "multi_data = um.multi_read_ascii(path+input_filename)\n",
    "multi_data = um.read_inputs(path+input_filename, multi_data)\n",
    "\n",
    "itime = np.argmin(np.abs(multi_data[\"time\"]*1.e9-eval_time_ns))\n",
    "ncells = len(multi_data[\"x\"][1,:])\n",
    "\n",
    "list_params = ['ne', 'te', 'ti', 'vr']\n",
    "list_colours = ['blue', 'orange', 'green', 'purple']\n",
    "line_styles = [\"-\",\":\"]"
   ]
  },
  {
   "cell_type": "markdown",
   "id": "231a37d4-2685-4b75-9226-c29c82723b85",
   "metadata": {
    "tags": []
   },
   "source": [
    "## Convert multi to ifriit inputs"
   ]
  },
  {
   "cell_type": "code",
   "execution_count": null,
   "id": "8c59afef-4eae-4e1d-8631-be0aa732f394",
   "metadata": {
    "tags": []
   },
   "outputs": [],
   "source": [
    "multi_nc, ncells, nmat = um.multi2ifriit_inputs(multi_data, itime, ind_interfaces)\n",
    "nrw.save_general_netcdf(multi_nc, path+output_filename, extra_dimension={'x': ncells, 'z':1, 'nel':nmat})\n",
    "multi_nc = 0\n",
    "multi_nc = nrw.read_general_netcdf(path+output_filename)\n",
    "\n",
    "for key in multi_nc.keys():\n",
    "    print(key, np.shape(multi_nc[key]))\n",
    "\n",
    "index_heated = 100\n",
    "inc_multi = (np.abs(multi_nc[\"ne\"][0,index_heated:] - n_crit)).argmin() + index_heated\n",
    "print(inc_multi)"
   ]
  },
  {
   "cell_type": "code",
   "execution_count": null,
   "id": "0f60dc4e-f30d-4ed3-8549-5a9b8f4d01d4",
   "metadata": {},
   "outputs": [],
   "source": [
    "fig, ax = plt.subplots()\n",
    "\n",
    "ax.plot(multi_data[\"charge_state\"][itime])"
   ]
  },
  {
   "cell_type": "code",
   "execution_count": null,
   "id": "7714687b-7ee6-445b-a10c-32f2cc225c12",
   "metadata": {
    "tags": []
   },
   "outputs": [],
   "source": [
    "fig, ax = plt.subplots()\n",
    "\n",
    "#ax.plot([aster_profiles[\"xs\"][inc_aster], aster_profiles[\"xs\"][inc_aster]],[1.0e-8, 1.0e1],\"k-.\")\n",
    "ax.plot([multi_nc[\"xs\"][inc_multi], multi_nc[\"xs\"][inc_multi]],[1.0e-8, 1.0e1],\"b:\")\n",
    "counter=0\n",
    "for param in list_params:\n",
    "    #ax.semilogy(aster_profiles[\"xs\"], aster_profiles[param][0,:]/np.max(aster_profiles[param][0,:]), color=list_colours[counter], linestyle=line_styles[1],label=param)\n",
    "    ax.semilogy(multi_nc[\"xs\"], np.abs(multi_nc[param][0,:]/np.max(multi_nc[param][0,:])), color=list_colours[counter], linestyle=line_styles[0], label=param)\n",
    "    counter+=1\n",
    "ax.legend()\n",
    "ax.set_xlim([0, 2000])\n",
    "ax.set_title(\"Normalised to max value\")\n",
    "plt.savefig(path+\"/N190204_003_comparison_aster_multi_semilog_all_params\" + savefile_type, dpi=300, bbox_inches='tight')"
   ]
  },
  {
   "cell_type": "code",
   "execution_count": null,
   "id": "ff70bfd6-b231-4809-84c8-e69f641dc9d4",
   "metadata": {
    "tags": []
   },
   "outputs": [],
   "source": [
    "#print(multi_nc[\"atomic_index\"])\n",
    "#print(multi_nc[\"znuc\"])\n",
    "#print(multi_nc[\"frac\"])"
   ]
  }
 ],
 "metadata": {
  "kernelspec": {
   "display_name": "Python 3 (ipykernel)",
   "language": "python",
   "name": "python3"
  },
  "language_info": {
   "codemirror_mode": {
    "name": "ipython",
    "version": 3
   },
   "file_extension": ".py",
   "mimetype": "text/x-python",
   "name": "python",
   "nbconvert_exporter": "python",
   "pygments_lexer": "ipython3",
   "version": "3.12.4"
  }
 },
 "nbformat": 4,
 "nbformat_minor": 5
}
