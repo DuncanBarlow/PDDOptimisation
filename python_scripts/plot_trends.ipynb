{
 "cells": [
  {
   "cell_type": "code",
   "execution_count": null,
   "id": "85587ad4-5637-4f7f-abe4-dbef116e8157",
   "metadata": {
    "tags": []
   },
   "outputs": [],
   "source": [
    "import numpy as np\n",
    "import csv\n",
    "import os\n",
    "import training_data_generation as tdg\n",
    "import netcdf_read_write as nrw\n",
    "import utils_intensity_map as uim"
   ]
  },
  {
   "cell_type": "code",
   "execution_count": null,
   "id": "a9037a23-3a24-43ac-abc4-42dda9a916f5",
   "metadata": {
    "tags": []
   },
   "outputs": [],
   "source": [
    "def extract_power_from_polar(heat_source, theta, phi):\n",
    "    theta_edges = (theta[1:] + theta[:-1]) / 2.0\n",
    "    theta_edges = np.append(0.0, theta_edges)\n",
    "    theta_edges = np.append(theta_edges, np.pi)\n",
    "    phi_edges = (phi[1:] + phi[:-1]) / 2.0\n",
    "    phi_edges = np.append(0.0, phi_edges)\n",
    "    phi_edges = np.append(phi_edges, 2.0*np.pi)\n",
    "\n",
    "    theta_grid, phi_grid = np.meshgrid(theta_edges, phi_edges)\n",
    "\n",
    "    dphi = phi_grid[1:,1:] - phi_grid[:-1,1:]\n",
    "    d_cos_theta = np.cos(theta_grid[1:,1:]) - np.cos(theta_grid[1:,:-1])\n",
    "    domega = np.abs(dphi * d_cos_theta)\n",
    "\n",
    "    total_pwr = np.sum(heat_source * domega)\n",
    "    return total_pwr"
   ]
  },
  {
   "cell_type": "code",
   "execution_count": null,
   "id": "64582773-d170-4715-bc7d-e2fbb840a6ca",
   "metadata": {
    "tags": []
   },
   "outputs": [],
   "source": [
    "def define_dataset(num):\n",
    "    dataset = {}\n",
    "    dataset[\"counter\"] = 0\n",
    "    dataset[\"labels\"] = num*[None]\n",
    "    dataset[\"wavelength\"] = np.zeros((num))\n",
    "    dataset[\"power_emitted\"] = np.zeros((num))\n",
    "    dataset[\"power_reflected\"] = np.zeros((num))\n",
    "    dataset[\"power_absorbed\"] = np.zeros((num))\n",
    "    dataset[\"power_absorbed_no_plasma\"] = np.zeros((num))\n",
    "    dataset[\"power_cbet\"] = np.zeros((num))\n",
    "    dataset[\"power_cbet_error\"] = np.zeros((num))\n",
    "    dataset[\"intensity\"] = np.zeros((num))\n",
    "    dataset[\"intensity_no_plasma\"] = np.zeros((num))\n",
    "    dataset[\"ablation_pressure\"] = np.zeros((num))\n",
    "    dataset[\"has_cbet_data\"] = num*[True]\n",
    "    \n",
    "    return dataset"
   ]
  },
  {
   "cell_type": "code",
   "execution_count": null,
   "id": "d6866532-693a-4b3c-9763-24066ea67fe0",
   "metadata": {
    "tags": []
   },
   "outputs": [],
   "source": [
    "def extract_cbet_data(run_location, dataset, iconfig, rt):\n",
    "    cbet_filename = \"cbet_report.txt\"\n",
    "    \n",
    "    line_is_data = False\n",
    "    cbet_data = []\n",
    "    with open(run_location + \"/\" + cbet_filename) as cbet_file:\n",
    "        for line in cbet_file:\n",
    "            if line_is_data:\n",
    "                x = np.array(line.split())\n",
    "                y = x.astype(float)\n",
    "                cbet_data.append(y)\n",
    "            if \"***\" in line:\n",
    "                line_is_data = True\n",
    "\n",
    "    cbet_data = np.stack(cbet_data[:-2], axis=0)\n",
    "    \n",
    "    power_emitted = cbet_data[:,1]\n",
    "    dataset[rt][\"power_emitted\"][iconfig] = np.sum(power_emitted)\n",
    "    power_reflected = cbet_data[:,2]\n",
    "    dataset[rt][\"power_reflected\"][iconfig] = np.sum(power_reflected)\n",
    "    power_cbet = cbet_data[:,3]\n",
    "    dataset[rt][\"power_cbet\"][iconfig] = np.sum(power_cbet)\n",
    "    power_absorbed = cbet_data[:,-3]\n",
    "    tot_power_absorbed = np.sum(power_absorbed)\n",
    "    dataset[rt][\"power_cbet_error\"][iconfig] = np.sum(power_emitted) - np.sum(power_reflected) - tot_power_absorbed\n",
    "    \n",
    "    return dataset\n",
    "\n",
    "def extract_no_plasma_absorption(run_location, dataset, iconfig, rt, sys_params, facility_spec):\n",
    "    surface_area = 4.0 * np.pi * (facility_spec['target_radius'] / 10000.0)**2\n",
    "\n",
    "    parameters = nrw.read_general_netcdf(run_location + \"/\" + sys_params[\"ifriit_ouput_name\"])\n",
    "    intensity_map = parameters[\"intensity\"]\n",
    "    intensity_map_normalized, avg_flux = uim.imap_norm(intensity_map)\n",
    "    dataset[rt][\"intensity_no_plasma\"][iconfig] = avg_flux\n",
    "    dataset[rt][\"power_absorbed_no_plasma\"][iconfig] = avg_flux * surface_area\n",
    "    return dataset\n",
    "\n",
    "def extract_ablation_pressure(run_location, dataset, iconfig, rt, sys_params):\n",
    "\n",
    "    file_name = sys_params[\"heat_source_nc\"]\n",
    "    hs_and_modes = nrw.read_general_netcdf(run_location + \"/\" + file_name)\n",
    "    dataset[rt][\"ablation_pressure\"][iconfig] = hs_and_modes[\"average_flux\"][0]\n",
    "    \n",
    "    dataset[rt][\"power_absorbed\"][iconfig] = extract_power_from_polar(hs_and_modes[\"heat_source\"], hs_and_modes[\"theta\"], hs_and_modes[\"phi\"])\n",
    "    \n",
    "    return dataset"
   ]
  },
  {
   "cell_type": "code",
   "execution_count": null,
   "id": "1060acf4-b1de-46e9-aaa2-11f243918c50",
   "metadata": {
    "tags": []
   },
   "outputs": [],
   "source": [
    "def allocate_wavelengths(dataset, iconfig, rt):\n",
    "    colour_tag = dataset[rt][\"labels\"][iconfig].split(\"_\")[0]\n",
    "    \n",
    "    if colour_tag == \"uv\":\n",
    "        dataset[rt][\"wavelength\"][iconfig] = 351.0\n",
    "    elif colour_tag == \"red\":\n",
    "        dataset[rt][\"wavelength\"][iconfig] = 1064.0\n",
    "    elif colour_tag == \"green\":\n",
    "        dataset[rt][\"wavelength\"][iconfig] = 520.0\n",
    "    elif colour_tag == \"arf\":\n",
    "        dataset[rt][\"wavelength\"][iconfig] = 192.0\n",
    "    \n",
    "    return dataset"
   ]
  },
  {
   "cell_type": "code",
   "execution_count": null,
   "id": "1fc8d51c-0c99-42ff-92d7-ddd879dbb929",
   "metadata": {
    "tags": []
   },
   "outputs": [],
   "source": [
    "def allocate_data_labels(dir_config, run_types):\n",
    "    split_name = dir_config.split(\"_\")#[-1]\n",
    "    run_type_ind = 0\n",
    "    for ind_term in range(len(run_types)):\n",
    "        word = run_types[ind_term]\n",
    "        if word in split_name:\n",
    "            run_type_ind = ind_term\n",
    "    return run_type_ind"
   ]
  },
  {
   "cell_type": "code",
   "execution_count": null,
   "id": "b057f896-d5d7-4a68-9713-5e7d82433465",
   "metadata": {
    "tags": []
   },
   "outputs": [],
   "source": [
    "diag_dir = \"Data_240716a_pdd_param_scan\"\n",
    "ind_profile = 0\n",
    "num_examples = 0\n",
    "power_emitted = 160.86*10**12\n",
    "\n",
    "dir_config_list = [name for name in os.listdir(diag_dir) if os.path.isdir(os.path.join(diag_dir, name))]\n",
    "num_configs = len(dir_config_list)\n",
    "rti_list = np.zeros(num_configs).astype(int)\n",
    "\n",
    "run_types = (\"normal\", \"nocbet\", \"bandwidth10\", \"bandwidth1\", \"bandwidth03\", \"bandwidth01\")\n",
    "run_type_labels = (\"default\", \"no CBET\", \"bandwidth 10%\", \"bandwidth 1%\", \"bandwidth 0.3%\", \"bandwidth 0.1%\")\n",
    "num_run_types = len(run_types)\n",
    "rt_counter = np.zeros(num_run_types).astype(int)\n",
    "\n",
    "for iconfig in range(num_configs):\n",
    "    dir_config = dir_config_list[iconfig]\n",
    "    rti_list[iconfig] = allocate_data_labels(dir_config, run_types)\n",
    "    rt_counter[rti_list[iconfig]]+=1\n",
    "    \n",
    "dataset = {}\n",
    "for itype in range(num_run_types):\n",
    "    dataset[run_types[itype]] = define_dataset(rt_counter[itype])\n",
    "    print(rt_counter[itype])\n",
    "\n",
    "sys_params = tdg.define_system_params(diag_dir)\n",
    "dataset_params, facility_spec = tdg.define_dataset_params(int(num_examples))\n",
    "surface_area = 4.0 * np.pi * (facility_spec['target_radius'] / 10000.0)**2\n"
   ]
  },
  {
   "cell_type": "code",
   "execution_count": null,
   "id": "f1503e3a-bec5-415d-b507-e5bf463cf3ea",
   "metadata": {
    "tags": []
   },
   "outputs": [],
   "source": [
    "\n",
    "for iconfig in range(num_configs):\n",
    "    dir_config = dir_config_list[iconfig]\n",
    "    rti = rti_list[iconfig]\n",
    "    rt = run_types[rti]\n",
    "    \n",
    "    iconfig2 = dataset[rt][\"counter\"]\n",
    "    dataset[rt][\"labels\"][iconfig2] = \"_\".join(dir_config.split(\"_\")[1:])\n",
    "    iex = dataset[rt][\"labels\"][iconfig2]\n",
    "    config_location = sys_params[\"data_dir\"] + \"/\" + sys_params[\"config_dir\"] + str(iex)\n",
    "    run_location = config_location + \"/\" + sys_params[\"sim_dir\"] + str(ind_profile)\n",
    "    \n",
    "    dataset = allocate_wavelengths(dataset, iconfig2, rt)\n",
    "    \n",
    "    try:\n",
    "        dataset = extract_cbet_data(run_location, dataset, iconfig2, rt)\n",
    "    except:\n",
    "        print(\"No CBET data found for: \"+str(iex))\n",
    "        dataset[rt][\"has_cbet_data\"][iconfig2]  = False\n",
    "\n",
    "    dataset = extract_no_plasma_absorption(run_location, dataset, iconfig2, rt, sys_params, facility_spec)\n",
    "    dataset = extract_ablation_pressure(run_location, dataset, iconfig2, rt, sys_params)\n",
    "    dataset[rt][\"counter\"]+=1\n"
   ]
  },
  {
   "cell_type": "code",
   "execution_count": null,
   "id": "0bd69691-5e3f-4ec9-ba65-9e6dec1ded44",
   "metadata": {
    "tags": []
   },
   "outputs": [],
   "source": [
    "import matplotlib.pyplot as plt\n",
    "%matplotlib inline\n",
    "plt.ion();\n",
    "\n",
    "plot_file_type = \".png\"\n",
    "\n",
    "trends_aspect_ratio = [6, 4]\n",
    "trends_axis_limits = [0.3, 0.15, 0.65, 0.8]\n",
    "\n",
    "marker_size = 8\n",
    "plot_markers = (\"o\", \"X\", \"*\",\"*\",\"*\",\"*\")\n",
    "\n",
    "print(dataset[run_types[0]].keys())"
   ]
  },
  {
   "cell_type": "code",
   "execution_count": null,
   "id": "9fef7c1b-19ed-46c3-906b-84b21d5c6dd1",
   "metadata": {
    "tags": []
   },
   "outputs": [],
   "source": [
    "fig1 = plt.figure(num=1, figsize=trends_aspect_ratio, facecolor='white')\n",
    "ax1 = fig1.add_axes(trends_axis_limits)\n",
    "fig2 = plt.figure(num=2, figsize=trends_aspect_ratio, facecolor='white')\n",
    "ax2 = fig2.add_axes(trends_axis_limits)\n",
    "fig3 = plt.figure(num=3, figsize=trends_aspect_ratio, facecolor='white')\n",
    "ax3 = fig3.add_axes(trends_axis_limits)\n",
    "fig4 = plt.figure(num=4, figsize=trends_aspect_ratio, facecolor='white')\n",
    "ax4 = fig4.add_axes(trends_axis_limits)\n",
    "#fig5 = plt.figure(num=5, figsize=trends_aspect_ratio, facecolor='white')\n",
    "#ax5 = fig5.add_axes(trends_axis_limits)\n",
    "\n",
    "for itype in range(num_run_types):\n",
    "    rt = run_types[itype]\n",
    "    ax1.plot(dataset[rt][\"wavelength\"], dataset[rt][\"ablation_pressure\"], plot_markers[itype], ms=marker_size)\n",
    "    ax2.plot(dataset[rt][\"wavelength\"], dataset[rt][\"power_absorbed\"] / power_emitted * 100.0, plot_markers[itype], ms=marker_size)\n",
    "    ax3.plot(dataset[rt][\"wavelength\"], dataset[rt][\"power_cbet\"]*10**12 / power_emitted * 100.0, plot_markers[itype], ms=marker_size)\n",
    "    ax4.plot(dataset[rt][\"wavelength\"], dataset[rt][\"power_cbet_error\"]*10**12 / power_emitted * 100.0, plot_markers[itype], ms=marker_size)\n",
    "    #print(rt, dataset[rt][\"labels\"])\n",
    "    #print(rt, dataset[rt][\"power_absorbed_no_plasma\"])\n",
    "\n",
    "ax1.set_ylim(bottom=0)\n",
    "ax1.set_xlabel(\"Wavelength\")\n",
    "ax1.set_ylabel(\"Ablation Pressure (Mbar)\")\n",
    "ax1.legend(run_type_labels)\n",
    "fig1.savefig(sys_params[\"figure_location\"]+\"/trends_ablation_pressure\" + plot_file_type, dpi=300, bbox_inches=\"tight\")\n",
    "\n",
    "ax2.set_ylim([0, 100])\n",
    "ax2.set_xlabel(\"Wavelength\")\n",
    "ax2.set_ylabel(\"Power Absorbed (%)\")\n",
    "ax2.legend(run_type_labels)\n",
    "fig2.savefig(sys_params[\"figure_location\"]+\"/trends_power_absorbed\" + plot_file_type, dpi=300, bbox_inches=\"tight\")\n",
    "\n",
    "ax3.set_ylim([0, 120])\n",
    "ax3.set_xlabel(\"Wavelength\")\n",
    "ax3.set_ylabel(\"Emitted Power Transferred via CBET (%)\")\n",
    "ax3.legend(run_type_labels)\n",
    "fig3.savefig(sys_params[\"figure_location\"]+\"/trends_cbet_transfer\" + plot_file_type, dpi=300, bbox_inches=\"tight\")\n",
    "\n",
    "#ax4.set_ylim([0, 120])\n",
    "ax4.set_xlabel(\"Wavelength\")\n",
    "ax4.set_ylabel(\"CBET error (%)\")\n",
    "ax4.legend(run_type_labels)\n",
    "fig4.savefig(sys_params[\"figure_location\"]+\"/trends_cbet_error\" + plot_file_type, dpi=300, bbox_inches=\"tight\")"
   ]
  },
  {
   "cell_type": "code",
   "execution_count": null,
   "id": "bb8bb173-3580-4a10-a9ab-e59ad1093766",
   "metadata": {
    "tags": []
   },
   "outputs": [],
   "source": [
    "fig1 = plt.figure(num=1, figsize=trends_aspect_ratio, facecolor='white')\n",
    "ax1 = fig1.add_axes(trends_axis_limits)\n",
    "fig2 = plt.figure(num=2, figsize=trends_aspect_ratio, facecolor='white')\n",
    "ax2 = fig2.add_axes(trends_axis_limits)\n",
    "fig3 = plt.figure(num=3, figsize=trends_aspect_ratio, facecolor='white')\n",
    "ax3 = fig3.add_axes(trends_axis_limits)\n",
    "fig4 = plt.figure(num=4, figsize=trends_aspect_ratio, facecolor='white')\n",
    "ax4 = fig4.add_axes(trends_axis_limits)\n",
    "\n",
    "itype = 4\n",
    "rt = run_types[itype]\n",
    "counter = 0\n",
    "for iconf in range(len(dataset[rt][\"wavelength\"])):\n",
    "    if dataset[rt][\"wavelength\"][iconf] == 351:\n",
    "        ax1.plot(dataset[rt][\"wavelength\"][iconf], dataset[rt][\"ablation_pressure\"][iconf], plot_markers[counter], ms=marker_size, label=dataset[rt][\"labels\"][iconf]) #, fillstyle=\"none\"\n",
    "        ax2.plot(dataset[rt][\"wavelength\"][iconf], dataset[rt][\"power_absorbed\"][iconf] / power_emitted * 100.0, plot_markers[counter], ms=marker_size, label=dataset[rt][\"labels\"][iconf])\n",
    "        ax3.plot(dataset[rt][\"wavelength\"][iconf], dataset[rt][\"power_cbet\"][iconf]*10**12 / power_emitted * 100.0, plot_markers[counter], ms=marker_size, label=dataset[rt][\"labels\"][iconf])\n",
    "        ax4.plot(dataset[rt][\"wavelength\"][iconf], dataset[rt][\"power_cbet_error\"][iconf]*10**12 / power_emitted * 100.0, plot_markers[counter], ms=marker_size, label=dataset[rt][\"labels\"][iconf])\n",
    "        counter+=1\n",
    "\n",
    "ax1.set_xlim(right=500)\n",
    "ax1.set_xlabel(\"Wavelength\")\n",
    "ax1.set_ylabel(\"Ablation Pressure (Mbar)\")\n",
    "ax1.legend(loc=\"best\")\n",
    "fig1.savefig(sys_params[\"figure_location\"]+\"/bandwidth_convergence_test_ablation_pressure\" + plot_file_type, dpi=300, bbox_inches=\"tight\")\n",
    "ax2.set_xlim(right=500)\n",
    "ax2.set_xlabel(\"Wavelength\")\n",
    "ax2.set_ylabel(\"Power Absorbed (%)\")\n",
    "ax2.legend()\n",
    "fig2.savefig(sys_params[\"figure_location\"]+\"/bandwidth_convergence_test_power_absorbed\" + plot_file_type, dpi=300, bbox_inches=\"tight\")\n",
    "ax3.set_xlim(right=500)\n",
    "ax3.set_xlabel(\"Wavelength\")\n",
    "ax3.set_ylabel(\"Emitted Power Transferred via CBET (%)\")\n",
    "ax3.legend()\n",
    "fig3.savefig(sys_params[\"figure_location\"]+\"/bandwidth_convergence_test_CBET_transfer\" + plot_file_type, dpi=300, bbox_inches=\"tight\")\n",
    "ax4.set_xlim(right=500)\n",
    "ax4.set_xlabel(\"Wavelength\")\n",
    "ax4.set_ylabel(\"CBET error (%)\")\n",
    "ax4.legend()\n",
    "fig4.savefig(sys_params[\"figure_location\"]+\"/bandwidth_convergence_test_CBET_error\" + plot_file_type, dpi=300, bbox_inches=\"tight\")"
   ]
  },
  {
   "cell_type": "markdown",
   "id": "6530570e-ac53-49d3-8864-2ee46c465135",
   "metadata": {
    "jp-MarkdownHeadingCollapsed": true,
    "tags": []
   },
   "source": [
    "# Compute time estimate"
   ]
  },
  {
   "cell_type": "code",
   "execution_count": null,
   "id": "3bd1fa63-ef0a-4ed5-9935-3d519890416b",
   "metadata": {},
   "outputs": [],
   "source": [
    "\n",
    "# duration of simulation\n",
    "t_sim = 0.40\n",
    "# number of OMP threads\n",
    "num_parallel_OMP = 10\n",
    "# number of MPI threads is equal to number of beams\n",
    "num_ports = 48\n",
    "beams_per_port = 4\n",
    "\n",
    "# CPU time required\n",
    "cpu_hours = t_sim * num_parallel_OMP * num_ports * beams_per_port\n",
    "print(cpu_hours)"
   ]
  },
  {
   "cell_type": "code",
   "execution_count": null,
   "id": "665dc62f-31f6-4710-923a-92f3204145c2",
   "metadata": {
    "tags": []
   },
   "outputs": [],
   "source": [
    "print(run_types)\n",
    "print(run_type_labels)\n",
    "rt = run_types[0]\n",
    "print(rt, dataset[rt][\"labels\"])"
   ]
  },
  {
   "cell_type": "code",
   "execution_count": null,
   "id": "768c7242-e477-4ba7-af65-9d57906b44b2",
   "metadata": {
    "tags": []
   },
   "outputs": [],
   "source": [
    "\n",
    "labels = ['red', 'green', 'uv', 'ArF']\n",
    "cputime_default = np.array([0, 419, 302, 257]) / 60\n",
    "cputime_nocbet = np.array([144, 111, 96, 90]) / 60\n",
    "cputime_bandwidth = np.array([1253, 1578, 1308, 1193]) / 60\n",
    "cputime_splitbeams = np.array([1054]) / 60\n",
    "cputime_splitbeams_nocbet = np.array([110]) / 60\n",
    "\n",
    "labels = ['default', 'No CBET', 'fuse quads (FQ)', 'FQ, no CBET', \"FQ, bandwidth\"]\n",
    "cputime_types = np.array([1054, 110, 302, 96, 1308]) / 60 / 60 * num_parallel_OMP * num_ports\n",
    "cputime_types[0:2] = cputime_types[0:2] * beams_per_port\n",
    "\n",
    "x = np.arange(len(labels))  # the label locations\n",
    "width = 0.35  # the width of the bars\n",
    "\n",
    "fig, ax = plt.subplots()\n",
    "rects1 = ax.bar(x, cputime_types, width, label='default')\n",
    "#rects2 = ax.bar(x + width/2, cputime_nocbet, width, label='no CBET')\n",
    "#rects3 = ax.bar(x + width/2, cputime_bandwidth, width, label='bandwidth')\n",
    "\n",
    "# Add some text for labels, title and custom x-axis tick labels, etc.\n",
    "ax.set_ylabel('CPU hours')\n",
    "ax.set_xlabel('')\n",
    "ax.set_xticks(x)\n",
    "ax.set_xticklabels(labels)\n",
    "#ax.legend()\n",
    "\n",
    "\n",
    "def autolabel(rects):\n",
    "    \"\"\"Attach a text label above each bar in *rects*, displaying its height.\"\"\"\n",
    "    for rect in rects:\n",
    "        height = rect.get_height()\n",
    "        ax.annotate('{}'.format(int(height)),\n",
    "                    xy=(rect.get_x() + rect.get_width() / 2, height),\n",
    "                    xytext=(0, 3),  # 3 points vertical offset\n",
    "                    textcoords=\"offset points\",\n",
    "                    ha='center', va='bottom')\n",
    "\n",
    "\n",
    "autolabel(rects1)\n",
    "#autolabel(rects2)\n",
    "\n",
    "fig.tight_layout()\n",
    "\n",
    "plt.show()"
   ]
  },
  {
   "cell_type": "code",
   "execution_count": null,
   "id": "a6fb00ce-384c-49fe-bb09-3cff4d26a2e1",
   "metadata": {},
   "outputs": [],
   "source": []
  }
 ],
 "metadata": {
  "kernelspec": {
   "display_name": "Python 3 (ipykernel)",
   "language": "python",
   "name": "python3"
  },
  "language_info": {
   "codemirror_mode": {
    "name": "ipython",
    "version": 3
   },
   "file_extension": ".py",
   "mimetype": "text/x-python",
   "name": "python",
   "nbconvert_exporter": "python",
   "pygments_lexer": "ipython3",
   "version": "3.12.4"
  }
 },
 "nbformat": 4,
 "nbformat_minor": 5
}
