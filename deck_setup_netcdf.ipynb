{
 "cells": [
  {
   "cell_type": "code",
   "execution_count": null,
   "id": "14d7501d-bdf3-4c91-b16e-b766b3e5aa73",
   "metadata": {
    "tags": []
   },
   "outputs": [],
   "source": [
    "import numpy as np\n",
    "import training_data_generation as tdg\n",
    "import matplotlib.pyplot as plt\n",
    "%matplotlib inline\n",
    "plt.ion();"
   ]
  },
  {
   "cell_type": "markdown",
   "id": "8a2a3408-6a59-4b28-bf5b-8212f4b7142c",
   "metadata": {
    "jp-MarkdownHeadingCollapsed": true,
    "tags": []
   },
   "source": [
    "# Generate and Save Training Data"
   ]
  },
  {
   "cell_type": "code",
   "execution_count": null,
   "id": "003b0786-34fb-4dcd-9df2-f351016e6ed3",
   "metadata": {},
   "outputs": [],
   "source": [
    "num_examples = 10\n",
    "run_dir = \"Data\"\n",
    "\n",
    "# Warning to save individual illumination data change \"sys_params[\"run_clean\"]\" to False in \"training_data_generation.py\"\n",
    "dataset, dataset_params, sys_params, facility_spec = tdg.main((_, run_dir, num_examples, random_seed))"
   ]
  },
  {
   "cell_type": "markdown",
   "id": "1638f51b-5ee7-41e1-b4e6-709e6d6a8353",
   "metadata": {
    "jp-MarkdownHeadingCollapsed": true,
    "tags": []
   },
   "source": [
    "# Diagnostic"
   ]
  },
  {
   "cell_type": "code",
   "execution_count": null,
   "id": "c815b9a9-0b10-4ab1-b8c9-a5883639828a",
   "metadata": {
    "tags": []
   },
   "outputs": [],
   "source": [
    "import healpy as hp\n",
    "import utils_intensity_map as uim\n",
    "import utils_deck_generation as idg\n",
    "import netcdf_read_write as nrw\n",
    "import training_data_generation as tdg\n",
    "import utils_healpy as uhp\n",
    "import os\n",
    "%matplotlib inline\n",
    "np_complex = np.vectorize(complex)"
   ]
  },
  {
   "cell_type": "code",
   "execution_count": null,
   "id": "92c98d8c-8caa-4621-ac48-385d261f64b7",
   "metadata": {
    "tags": []
   },
   "outputs": [],
   "source": [
    "diag_dir = \"Data\"\n",
    "iex = 0\n",
    "with_pointing_markers = True\n",
    "import_flipped = False\n",
    "old_format = False\n",
    "display_steradians = False\n",
    "sys_params = tdg.define_system_params(diag_dir)\n",
    "\n",
    "print_list1 = []\n",
    "print_list2 = []\n",
    "print_list3 = []"
   ]
  },
  {
   "cell_type": "markdown",
   "id": "b618fbce-5937-4ef9-bc52-c18e5afa9844",
   "metadata": {
    "jp-MarkdownHeadingCollapsed": true,
    "tags": []
   },
   "source": [
    "## Analyse optimization outputs"
   ]
  },
  {
   "cell_type": "code",
   "execution_count": null,
   "id": "0b00919f-2a5a-4e55-b85d-5db8ca6fba89",
   "metadata": {
    "tags": []
   },
   "outputs": [],
   "source": [
    "ind_profile = 0\n",
    "dataset_params = nrw.read_general_netcdf(sys_params[\"root_dir\"] + \"/\" + sys_params[\"dataset_params_filename\"])\n",
    "facility_spec = nrw.read_general_netcdf(sys_params[\"root_dir\"] + \"/\" + sys_params[\"facility_spec_filename\"])\n",
    "dataset = nrw.read_general_netcdf(sys_params[\"root_dir\"]+\"/\"+sys_params[\"trainingdata_filename\"])\n",
    "\n",
    "avg_flux = dataset[\"avg_flux\"][iex, ind_profile]\n",
    "real_modes = dataset[\"real_modes\"][iex,ind_profile,:]\n",
    "imag_modes = dataset[\"imag_modes\"][iex,ind_profile,:]\n",
    "rms = dataset[\"rms\"][iex, ind_profile]\n",
    "\n",
    "intensity_map_normalized = uhp.modes2imap(real_modes, imag_modes, dataset_params[\"imap_nside\"])\n",
    "intensity_map_sr = (intensity_map_normalized+1)*avg_flux\n",
    "\n",
    "if ind_profile == 0:\n",
    "    if display_steradians:\n",
    "        drive_map = intensity_map_sr\n",
    "        drive_units = r\"$\\rm{W/sr}$\"\n",
    "    else:\n",
    "        drive_map = (intensity_map_normalized+1)*avg_flux / (facility_spec['target_radius'] / 10000.0)**2\n",
    "        drive_units = r\"$\\rm{W/cm^2}$\"\n",
    "else:\n",
    "    drive_map = intensity_map_sr\n",
    "    drive_units = r\"$\\rm{Mbar}$\"\n",
    "\n",
    "hp.mollview(drive_map, unit=drive_units,flip=\"geo\")\n",
    "hp.graticule()\n",
    "\n",
    "complex_modes = np_complex(real_modes, imag_modes)\n",
    "power_spectrum = uhp.alms2power_spectrum(complex_modes, dataset_params[\"LMAX\"])\n",
    "\n",
    "LMAX = dataset_params[\"LMAX\"]\n",
    "fig = plt.figure()\n",
    "ax = plt.axes()\n",
    "plt.plot(np.arange(LMAX), np.sqrt(power_spectrum) * 100.0)\n",
    "ax.set_xticks(range(0, LMAX+1, int(LMAX/5)))\n",
    "plt.xlim([0, LMAX])\n",
    "plt.title(\"Intensity Modes\")\n",
    "plt.xlabel(\"l mode\")\n",
    "plt.ylabel(r\"amplitude ($\\%$)\")\n",
    "plt.savefig(sys_params[\"figure_location\"]+\"/modes_\"+str(iex) + \"_\" + str(ind_profile) + sys_params[\"plot_file_type\"], dpi=300, bbox_inches='tight')"
   ]
  },
  {
   "cell_type": "code",
   "execution_count": null,
   "id": "dea18cd0-7ab6-4bbd-adce-88207f996ba6",
   "metadata": {
    "tags": []
   },
   "outputs": [],
   "source": [
    "if with_pointing_markers:\n",
    "    hp.mollview(drive_map, unit=drive_units,flip=\"geo\")\n",
    "    hp.graticule()\n",
    "    \n",
    "    deck_gen_params = nrw.read_general_netcdf(sys_params[\"root_dir\"] + \"/\" + sys_params[\"deck_gen_params_filename\"])\n",
    "\n",
    "    print_list1, power_deposited = uim.readout_intensity(facility_spec, intensity_map_sr, use_ablation_pressure=ind_profile)\n",
    "    print_list2 = uim.extract_run_parameters(iex, ind_profile, power_deposited, dataset_params, facility_spec, sys_params, deck_gen_params, use_ablation_pressure=ind_profile)\n",
    "    print_list = print_list1 + print_list2\n",
    "    stats_filename = sys_params[\"figure_location\"]+\"/stats\"+str(iex) + \"_\" + str(ind_profile)+\".txt\"\n",
    "    uim.print_save_readout(print_list, stats_filename)\n",
    "    \n",
    "    port_theta = deck_gen_params[\"port_centre_theta\"]\n",
    "    port_phi = deck_gen_params[\"port_centre_phi\"]\n",
    "    \n",
    "    pointing_theta = np.squeeze(deck_gen_params[\"theta_pointings\"][iex,:])\n",
    "    pointing_phi = np.squeeze(deck_gen_params[\"phi_pointings\"][iex,:])\n",
    "\n",
    "    num_ifriit_beams = int(facility_spec['nbeams'] / facility_spec['beams_per_ifriit_beam'])\n",
    "    port_cartesian = np.zeros((num_ifriit_beams, 2))\n",
    "    portc_cartesian = np.zeros((num_ifriit_beams, 2))\n",
    "    pointing_cartesian = np.zeros((num_ifriit_beams, 2))\n",
    "    \n",
    "    for ibeam in range(0, num_ifriit_beams):\n",
    "        port_cartesian[ibeam,0], port_cartesian[ibeam,1] = uim.angle2moll(facility_spec[\"Theta\"][ibeam], facility_spec[\"Phi\"][ibeam])\n",
    "        portc_cartesian[ibeam,0], portc_cartesian[ibeam,1] = uim.angle2moll(deck_gen_params[\"port_centre_theta\"][ibeam], deck_gen_params[\"port_centre_phi\"][ibeam])\n",
    "        pointing_cartesian[ibeam,0], pointing_cartesian[ibeam,1] = uim.angle2moll(pointing_theta[ibeam], pointing_phi[ibeam])\n",
    "        dx = pointing_cartesian[ibeam,0] - portc_cartesian[ibeam,0]\n",
    "        dy = pointing_cartesian[ibeam,1] - portc_cartesian[ibeam,1]\n",
    "        # reduce line length to give space for arrow head\n",
    "        head_length = 0.05\n",
    "        shaft_angle = np.arctan2(dy, dx)\n",
    "        shaft_length = np.sqrt(dx**2 + dy**2) - head_length\n",
    "        if shaft_length > 0.0:\n",
    "            dx = shaft_length * np.cos(shaft_angle)\n",
    "            dy = shaft_length * np.sin(shaft_angle)\n",
    "            \n",
    "            if np.abs(dx) < 1.0: # don't plot arrow for pointings which cross the edge\n",
    "                plt.arrow(portc_cartesian[ibeam,0], portc_cartesian[ibeam,1], dx, dy, linewidth=3, head_width=head_length, head_length=head_length, fc='k', ec='k')\n",
    "        else:\n",
    "            plt.arrow(portc_cartesian[ibeam,0], portc_cartesian[ibeam,1], dx, dy)\n",
    "\n",
    "    plt.scatter(port_cartesian[:,0], port_cartesian[:,1],c=\"white\", marker=\"s\")\n",
    "    plt.scatter(pointing_cartesian[:,0], pointing_cartesian[:,1],c=\"white\", marker=\"x\")\n",
    "\n",
    "    plt.savefig(sys_params[\"figure_location\"]+'/intensity_mollweide_'+str(iex) + \"_\" + str(ind_profile) + sys_params[\"plot_file_type\"], dpi=300, bbox_inches='tight')"
   ]
  },
  {
   "cell_type": "markdown",
   "id": "26a59c81-7459-4770-a8d0-bd8c6d02707e",
   "metadata": {
    "jp-MarkdownHeadingCollapsed": true,
    "tags": []
   },
   "source": [
    "## Analysis from ifriit output"
   ]
  },
  {
   "cell_type": "code",
   "execution_count": null,
   "id": "2742531a-2e69-4073-a033-312f9b1a38f7",
   "metadata": {
    "tags": []
   },
   "outputs": [],
   "source": [
    "ind_profile = 0\n",
    "sys_params = tdg.define_system_params(diag_dir)\n",
    "sys_params[\"run_gen_deck\"] = False\n",
    "\n",
    "if old_format:\n",
    "    num_examples = 1\n",
    "    dataset_params, facility_spec = tdg.define_dataset_params(int(num_examples))\n",
    "else:\n",
    "    dataset_params = nrw.read_general_netcdf(diag_dir + \"/\" + sys_params[\"dataset_params_filename\"])\n",
    "    facility_spec = nrw.read_general_netcdf(diag_dir + \"/\" + sys_params[\"facility_spec_filename\"])\n",
    "    \n",
    "dataset_params[\"num_examples\"] = 1\n",
    "\n",
    "config_location = sys_params[\"root_dir\"] + \"/\" + sys_params[\"config_dir\"] + str(iex)\n",
    "run_location = config_location + \"/\" + sys_params[\"sim_dir\"] + str(ind_profile)"
   ]
  },
  {
   "cell_type": "code",
   "execution_count": null,
   "id": "257f48cf-98dd-47d2-9ff4-85ac31888714",
   "metadata": {
    "tags": []
   },
   "outputs": [],
   "source": [
    "parameters = nrw.read_general_netcdf(run_location + \"/\" + sys_params[\"ifriit_ouput_name\"])\n",
    "intensity_map = parameters[\"intensity\"]\n",
    "# convert from W/cm**2 to W/sr\n",
    "intensity_map_sr = parameters[\"intensity\"] * (facility_spec['target_radius'] / 10000.0)**2\n",
    "\n",
    "intensity_map_normalized, avg_flux = uim.imap_norm(intensity_map)\n",
    "rms = uim.extract_rms(intensity_map_normalized)\n",
    "\n",
    "print_list1, power_deposited = uim.readout_intensity(facility_spec, intensity_map_sr)\n",
    "stats_filename = run_location+\"/stats\"+str(iex)+\".txt\"\n",
    "print_list = print_list1 + print_list2 + print_list3\n",
    "uim.print_save_readout(print_list1, stats_filename)\n",
    "\n",
    "if display_steradians:\n",
    "    hp.mollview(intensity_map_sr, unit=r\"$\\rm{W/sr}$\", flip=\"geo\")\n",
    "else:\n",
    "    hp.mollview(intensity_map, unit=r\"$\\rm{W/cm^2}$\", flip=\"geo\")\n",
    "hp.graticule()\n",
    "plt.savefig(run_location+\"/init_illumination\" + sys_params[\"plot_file_type\"], dpi=300, bbox_inches='tight')"
   ]
  },
  {
   "cell_type": "code",
   "execution_count": null,
   "id": "cc1e7dff-4cce-43d5-8fbe-2d2d554a9eef",
   "metadata": {
    "tags": []
   },
   "outputs": [],
   "source": [
    "LMAX = dataset_params[\"LMAX\"]\n",
    "power_spectrum_unweighted = uhp.power_spectrum(intensity_map, LMAX)\n",
    "x_max = LMAX\n",
    "\n",
    "fig = plt.figure()\n",
    "ax = plt.axes()\n",
    "plt.plot(np.arange(LMAX), power_spectrum_unweighted * 100.0)\n",
    "ax.set_xticks(range(0, LMAX+1, int(LMAX/5)))\n",
    "plt.xlim([0, x_max])\n",
    "plt.title(\"Intensity Modes\")\n",
    "plt.xlabel(\"l mode\")\n",
    "plt.ylabel(r\"amplitude ($\\%$)\")\n",
    "plt.savefig(run_location+\"/init_modes\" + sys_params[\"plot_file_type\"], dpi=300, bbox_inches='tight')"
   ]
  },
  {
   "cell_type": "code",
   "execution_count": null,
   "id": "e5a4c119-b464-4f3a-a528-dd4b8c9155cf",
   "metadata": {
    "tags": []
   },
   "outputs": [],
   "source": [
    "intensity_map_normalized, avg_power = uim.imap_norm(intensity_map)\n",
    "hp.mollview((intensity_map_normalized+1)*avg_power, unit=r\"$\\rm{W/cm^2}$\", flip=\"geo\")\n",
    "\n",
    "real_modes, imag_modes = uhp.imap2modes(intensity_map_normalized, LMAX)\n",
    "intensity_map_normalized2 = uhp.modes2imap(real_modes, imag_modes, dataset_params[\"imap_nside\"])\n",
    "hp.mollview((intensity_map_normalized2+1)*avg_power, unit=r\"$\\rm{W/cm^2}$\", flip=\"geo\")"
   ]
  },
  {
   "cell_type": "markdown",
   "id": "45cda1ec-9eaa-40de-b584-1ea1a334c847",
   "metadata": {
    "jp-MarkdownHeadingCollapsed": true,
    "tags": []
   },
   "source": [
    "## Estimate for initial ablation pressure at 351nm"
   ]
  },
  {
   "cell_type": "code",
   "execution_count": null,
   "id": "06ad9a38-c957-4317-a1b6-f4ff2e897ee1",
   "metadata": {
    "tags": []
   },
   "outputs": [],
   "source": [
    "intensity_map_normalized, avg_power = uim.imap_norm(intensity_map)\n",
    "intensity_map_init = (intensity_map_normalized+1) * avg_power\n",
    "press_abla = 24.7 * (intensity_map_init / 1.0e14)**(2.0/3.0)\n",
    "hp.mollview(press_abla, unit=r\"$\\rm{Mbars}$\", flip=\"geo\")\n",
    "press_abla_mean = np.mean(press_abla)\n",
    "init_press_abla_rms = np.sqrt(np.mean((press_abla / press_abla_mean - 1.0)**2)) *100.0\n",
    "print('Initial ablation pressure RMS: {:.2f}%, '.format(init_press_abla_rms))\n",
    "print('Initial mean ablation pressure: {:.2f}Mbar, '.format(press_abla_mean))"
   ]
  },
  {
   "cell_type": "markdown",
   "id": "142f0966-2287-43e0-9fc4-87e3b9b5b3cf",
   "metadata": {
    "jp-MarkdownHeadingCollapsed": true,
    "tags": []
   },
   "source": [
    "## Open Ifriit heat source modes"
   ]
  },
  {
   "cell_type": "code",
   "execution_count": null,
   "id": "b62b2870-765c-4eec-b38f-ab1adac84492",
   "metadata": {
    "tags": []
   },
   "outputs": [],
   "source": [
    "ind_profile = 1\n",
    "sys_params = tdg.define_system_params(diag_dir)\n",
    "sys_params[\"run_gen_deck\"] = False\n",
    "\n",
    "if old_format:\n",
    "    num_examples = 1\n",
    "    dataset_params, facility_spec = tdg.define_dataset_params(int(num_examples))\n",
    "else:\n",
    "    dataset_params = nrw.read_general_netcdf(diag_dir + \"/\" + sys_params[\"dataset_params_filename\"])\n",
    "    facility_spec = nrw.read_general_netcdf(diag_dir + \"/\" + sys_params[\"facility_spec_filename\"])\n",
    "dataset_params[\"num_examples\"] = 1\n",
    "\n",
    "config_location = sys_params[\"root_dir\"] + \"/\" + sys_params[\"config_dir\"] + str(iex)\n",
    "run_location = config_location + \"/\" + sys_params[\"sim_dir\"] + str(ind_profile)"
   ]
  },
  {
   "cell_type": "code",
   "execution_count": null,
   "id": "0e7d6574-4cd8-47c8-863f-b1ca3aafb7af",
   "metadata": {
    "tags": []
   },
   "outputs": [],
   "source": [
    "file_name = sys_params[\"heat_source_nc\"]\n",
    "hs_and_modes = nrw.read_general_netcdf(run_location+\"/\"+file_name)\n",
    "\n",
    "if old_format:\n",
    "    dataset_params, facility_spec = tdg.define_dataset_params(int(num_examples))\n",
    "else:\n",
    "    dataset_params = nrw.read_general_netcdf(diag_dir + \"/\" + sys_params[\"dataset_params_filename\"])\n",
    "    facility_spec = nrw.read_general_netcdf(diag_dir + \"/\" + sys_params[\"facility_spec_filename\"])\n"
   ]
  },
  {
   "cell_type": "code",
   "execution_count": null,
   "id": "5d591f8f-f6b4-4bba-b6fb-37f7f4983c5a",
   "metadata": {
    "tags": []
   },
   "outputs": [],
   "source": [
    "avg_flux = hs_and_modes[\"average_flux\"][0]\n",
    "#print('Mean ablation pressure: {:.2f}Mbar, '.format(avg_flux))\n",
    "\n",
    "lmax = 30\n",
    "np_complex = np.vectorize(complex)\n",
    "X_train_complex = np_complex(hs_and_modes[\"complex_modes\"][0,:], hs_and_modes[\"complex_modes\"][1,:])\n",
    "\n",
    "intensity_map_normalized = hp.alm2map(X_train_complex, lmax)\n",
    "#hp.mollview(intensity_map_normalized, unit=r\"$\\rm{W/sr}$\",flip=\"geo\")\n",
    "hp.mollview((intensity_map_normalized+1)*avg_flux, unit=r\"$\\rm{Mbar}$\",flip=\"geo\")\n",
    "hp.graticule()\n",
    "plt.savefig(run_location+\"/ablation_pressure\" + sys_params[\"plot_file_type\"], dpi=300, bbox_inches='tight')\n",
    "\n",
    "print_list2, power_deposited = uim.readout_intensity(facility_spec, (intensity_map_normalized+1)*avg_flux, use_ablation_pressure=1)\n",
    "print_list = print_list1 + print_list2 + print_list3\n",
    "stats_filename = run_location+\"/stats\"+str(iex)+\".txt\"\n",
    "uim.print_save_readout(print_list, stats_filename)\n",
    "\n",
    "#hp.mollview((intensity_map_normalized+1)*avg_flux / (facility_spec['target_radius'] / 10000.0)**2, unit=r\"$\\rm{W/cm^2}$\",flip=\"geo\")\n",
    "\n",
    "power_spectrum = uhp.alms2power_spectrum(X_train_complex, lmax)\n",
    "#print(\"The rms direct from output modes: \", np.sqrt(np.sum(power_spectrum))*100.0, \"%\")\n",
    "\n",
    "fig = plt.figure()\n",
    "ax = plt.axes()\n",
    "plt.plot(np.arange(lmax), np.sqrt(power_spectrum) * 100.0)\n",
    "ax.set_xticks(range(0, lmax+1, int(lmax/5)))\n",
    "plt.xlim([0, lmax])\n",
    "plt.title(\"Pressure Modes\")\n",
    "plt.xlabel(\"l mode\")\n",
    "plt.ylabel(r\"amplitude ($\\%$)\")\n",
    "plt.savefig(run_location+\"/ablation_pressure_modes\" + sys_params[\"plot_file_type\"], dpi=300, bbox_inches='tight')"
   ]
  },
  {
   "cell_type": "code",
   "execution_count": null,
   "id": "2740a1a8-e0e5-4c39-89c7-6342c996cdb5",
   "metadata": {
    "tags": []
   },
   "outputs": [],
   "source": [
    "theta_edges = (hs_and_modes[\"theta\"][1:] + hs_and_modes[\"theta\"][:-1]) / 2.0\n",
    "theta_edges = np.append(0.0, theta_edges)\n",
    "theta_edges = np.append(theta_edges, np.pi)\n",
    "phi_edges = (hs_and_modes[\"phi\"][1:] + hs_and_modes[\"phi\"][:-1]) / 2.0\n",
    "phi_edges = np.append(0.0, phi_edges)\n",
    "phi_edges = np.append(phi_edges, 2.0*np.pi)\n",
    "\n",
    "theta_grid, phi_grid = np.meshgrid(theta_edges, phi_edges)\n",
    "\n",
    "dphi = phi_grid[1:,1:] - phi_grid[:-1,1:]\n",
    "d_cos_theta = np.cos(theta_grid[1:,1:]) - np.cos(theta_grid[1:,:-1])\n",
    "domega = np.abs(dphi * d_cos_theta)\n",
    "\n",
    "total_pwr = np.sum(hs_and_modes[\"heat_source\"] * domega)\n",
    "surface_area = 4.0 * np.pi * (facility_spec['target_radius'] / 10000.0)**2\n",
    "avg_flux = total_pwr / (4.0 * np.pi)\n",
    "\n",
    "print('Mean intensity is {:.2e}W/cm^2, '.format(total_pwr / surface_area)) #/ 4.0 / np.pi\n",
    "print('Intensity per steradian, {:.2e}W/sr'.format(avg_flux))"
   ]
  },
  {
   "cell_type": "code",
   "execution_count": null,
   "id": "b4010e21-e24c-474f-9ef0-190348d4f535",
   "metadata": {
    "tags": []
   },
   "outputs": [],
   "source": [
    "theta_grid, phi_grid = np.meshgrid(hs_and_modes[\"theta\"], hs_and_modes[\"phi\"])\n",
    "plt.pcolor(theta_grid, phi_grid, hs_and_modes[\"heat_source\"])\n",
    "plt.colorbar()\n",
    "\n",
    "nside_low = 16\n",
    "nside = 32\n",
    "\n",
    "pixel_ind = hp.ang2pix(nside_low, theta_grid.reshape(-1), phi_grid.reshape(-1))\n",
    "imap_low = np.zeros(hp.nside2npix(nside_low))\n",
    "imap_low[pixel_ind] = hs_and_modes[\"heat_source\"].reshape(-1)\n",
    "imap_upgrade = hp.ud_grade(imap_low, nside)\n",
    "\n",
    "pix_ind = hp.ang2pix(nside, theta_grid.reshape(-1), phi_grid.reshape(-1))\n",
    "imap_high = np.zeros(hp.nside2npix(nside))\n",
    "imap_upgrade[pix_ind] = hs_and_modes[\"heat_source\"].reshape(-1)\n",
    "\n",
    "# convert from W/sr to W/cm**2  \n",
    "hp.mollview(imap_upgrade / (facility_spec['target_radius'] / 10000.0)**2, unit=r\"$\\rm{W/cm^2}$\",flip=\"geo\")\n",
    "\n",
    "avg_flux = np.mean(imap_upgrade) / (facility_spec['target_radius'] / 10000.0)**2\n",
    "\n",
    "hp.graticule()\n",
    "plt.savefig(run_location+\"/heatsource\" + sys_params[\"plot_file_type\"], dpi=300, bbox_inches='tight')\n",
    "\n",
    "print_list3, power_deposited = uim.readout_intensity(facility_spec, imap_upgrade)\n",
    "print_list = print_list1 + print_list2 + print_list3\n",
    "stats_filename = run_location+\"/stats\"+str(iex)+\".txt\"\n",
    "uim.print_save_readout(print_list, stats_filename)\n",
    "\n",
    "LMAX = 30\n",
    "power_spectrum_unweighted = uhp.power_spectrum(imap_upgrade, LMAX)\n",
    "\n",
    "fig = plt.figure()\n",
    "ax = plt.axes()\n",
    "plt.plot(np.arange(LMAX), power_spectrum_unweighted * 100.0)\n",
    "ax.set_xticks(range(0, LMAX+1, int(LMAX/5)))\n",
    "plt.xlim([0, LMAX])\n",
    "plt.title(\"Intensity Modes\")\n",
    "plt.xlabel(\"l mode\")\n",
    "plt.ylabel(r\"amplitude ($\\%$)\")\n",
    "plt.savefig(run_location+\"/hs_modes\" + sys_params[\"plot_file_type\"], dpi=300, bbox_inches='tight')"
   ]
  },
  {
   "cell_type": "markdown",
   "id": "60862f20-3e73-4dd2-b37a-197b6ed77d7a",
   "metadata": {
    "jp-MarkdownHeadingCollapsed": true,
    "tags": []
   },
   "source": [
    "## Check aster input netcdf"
   ]
  },
  {
   "cell_type": "code",
   "execution_count": null,
   "id": "1117d134-5e4a-48e9-931c-61ae02ddfcb4",
   "metadata": {},
   "outputs": [],
   "source": [
    "file_name = \"ifriit_1davg_input.nc\" # \"ifriit_1davg_input.nc\"#\"N210519\" #\"N190204-003\"\n",
    "aster_input = nrw.read_general_netcdf(run_location+\"/\"+file_name)\n",
    "print(aster_input.keys())\n",
    "\n",
    "\"\"\"\n",
    "iex2 = iex #change comparison file here\n",
    "run_loc2 = sys_params[\"root_dir\"] + \"/\" + sys_params[\"sim_dir\"] + str(iex2) \n",
    "file_name = \"ifriit_input_chic.nc\" #\"N190204-003\"\n",
    "aster_input2 = nrw.read_general_netcdf(run_loc2+\"/\"+file_name)\n",
    "print(aster_input2.keys())\n",
    "\n",
    "for key in aster_input.keys():\n",
    "    print(key)\n",
    "    print(np.shape(aster_input[key]))\n",
    "    #print(np.shape(aster_input2[key]))\n",
    "#\"\"\"\n",
    "\n",
    "plt.figure()\n",
    "var = \"ne\"\n",
    "\n",
    "plt.semilogy(aster_input['xs'].reshape(-1),aster_input[var].reshape(-1),label=\"Aster, N21\")\n",
    "#plt.semilogy(aster_input2['xs'][:],aster_input2[var][0,:],label=\"Chic, foam target\")\n",
    "plt.xlabel(r\"Radius ($\\mu m$)\")\n",
    "plt.ylabel(var)\n",
    "#plt.xlim([0, 6000])\n",
    "#plt.ylim([25, 30])\n",
    "plt.legend()\n",
    "plt.savefig(run_location+\"/profiles_\" + var + sys_params[\"plot_file_type\"], dpi=300, bbox_inches='tight')\n"
   ]
  },
  {
   "cell_type": "code",
   "execution_count": null,
   "id": "3f02ebb0-d7b4-450e-ade0-347be5931149",
   "metadata": {},
   "outputs": [],
   "source": [
    "file_name = \"kHiper.nc\" #\"N190204-003\"\n",
    "chic_output = nrw.read_general_netcdf(run_location+\"/\"+file_name)\n",
    "print(chic_output.keys())\n",
    "\n",
    "time = 1.0e-9\n",
    "time_ind = np.argmin(np.abs(chic_output[\"temps\"]-time))\n",
    "print(time_ind, chic_output[\"temps\"][time_ind])\n",
    "\n",
    "var = \"ne\"\n",
    "print(np.shape(chic_output[\"xc\"][time_ind]))\n",
    "print(np.shape(chic_output[var][time_ind]))\n",
    "plt.plot(chic_output[\"xc\"][time_ind],chic_output[var][time_ind])"
   ]
  },
  {
   "cell_type": "markdown",
   "id": "904befe8-80b4-4a42-96b7-ddf8c61914dd",
   "metadata": {
    "jp-MarkdownHeadingCollapsed": true,
    "tags": []
   },
   "source": [
    "## Analyse aster (/dump32) output netcdf"
   ]
  },
  {
   "cell_type": "code",
   "execution_count": null,
   "id": "85841c27-185a-4d70-a5c6-e650594babbe",
   "metadata": {},
   "outputs": [],
   "source": [
    "from netCDF4 import Dataset"
   ]
  },
  {
   "cell_type": "code",
   "execution_count": null,
   "id": "5146e537-8dda-4447-b491-68876703db57",
   "metadata": {},
   "outputs": [],
   "source": [
    "def read_general_netcdf_test(filename):\n",
    "    parameters = {}\n",
    "\n",
    "    rootgrp = Dataset(filename)\n",
    "     \n",
    "    grp = rootgrp[\"data\"]\n",
    "    keys = list(grp.variables.keys())\n",
    "    for key in keys:\n",
    "        if np.shape(np.shape(grp[key]))[0] == 2:\n",
    "            parameters[key] = grp[key][:,:]\n",
    "        if np.shape(np.shape(grp[key]))[0] == 1:\n",
    "            parameters[key] = grp[key][:]\n",
    "    rootgrp.close()\n",
    "\n",
    "    return parameters"
   ]
  },
  {
   "cell_type": "code",
   "execution_count": null,
   "id": "1addb88f-34ff-4462-afdd-3d15bd62c79c",
   "metadata": {},
   "outputs": [],
   "source": [
    "sys_params = tdg.define_system_params(diag_dir)\n",
    "file_name = \"dump31_1davg.nc\"\n",
    "\n",
    "input_dir = run_location + \"/\" + file_name\n",
    "aster_output0 = read_general_netcdf_test(input_dir)\n",
    "\n",
    "for key in aster_output0.keys():\n",
    "    print(key, np.shape(aster_output0[key]))\n",
    "\n",
    "lmax = 30\n",
    "\n",
    "time_step = 50\n",
    "\n",
    "label_0 = \"run_\" + str(folder_num) + \", time {:.2f}ns\".format(aster_output0[\"time\"][time_step])\n",
    "shell_thickness = aster_output0[\"sph\"][time_step,0]\n",
    "aster_output0[\"sph\"][time_step,0] = 0.0\n",
    "plt.plot(aster_output0[\"sph\"][time_step,:lmax]/shell_thickness*100, label=label_0)\n",
    "rms = np.sqrt(np.sum((aster_output0[\"sph\"][time_step,1:lmax]/shell_thickness)**2))*100.0\n",
    "print(\"The RMS for \" + label_0 + \" is: \", rms, \"%\")\n",
    "\n",
    "\"\"\"\n",
    "folder_num = 1\n",
    "input_dir = sys_params[\"root_dir\"] + \"/\" + sys_params[\"sim_dir\"] + str(folder_num) + \"/\" + file_name\n",
    "aster_output1 = read_general_netcdf_test(input_dir)\n",
    "\n",
    "time_step = time_step + 0 #for time offset\n",
    "\n",
    "label_1 = \"run_\" + str(folder_num) + \", time {:.2f}ns\".format(aster_output1[\"time\"][time_step])\n",
    "shell_thickness = aster_output1[\"sph\"][time_step,0]\n",
    "aster_output1[\"sph\"][time_step,0] = 0.0\n",
    "plt.plot(aster_output1[\"sph\"][time_step,:lmax]/shell_thickness*100, label=label_1)\n",
    "rms = np.sqrt(np.sum((aster_output1[\"sph\"][time_step,1:lmax]/shell_thickness)**2))*100.0\n",
    "print(\"The RMS for \" + label_1 + \" is: \", rms, \"%\")\n",
    "#\"\"\"\n",
    "\n",
    "plt.title(\"Spherical harmonics for areal density\")\n",
    "plt.ylabel(\"Deviation from mean (%)\")\n",
    "plt.xlabel(\"Mode\")\n",
    "plt.legend()\n",
    "plt.savefig(run_location+\"/Comparison_spherical_modes_areal_density\" + sys_params[\"plot_file_type\"], dpi=300, bbox_inches='tight')"
   ]
  },
  {
   "cell_type": "markdown",
   "id": "f8364953-8f8f-4b68-9f90-a32ecd5de19c",
   "metadata": {
    "jp-MarkdownHeadingCollapsed": true,
    "tags": []
   },
   "source": [
    "# Combine Datasets"
   ]
  },
  {
   "cell_type": "code",
   "execution_count": null,
   "id": "f3ca18ad-2050-4a3c-9c6c-924a951feb15",
   "metadata": {},
   "outputs": [],
   "source": [
    "from netCDF4 import Dataset\n",
    "from os import path\n",
    "import os\n",
    "import numpy as np\n",
    "import netcdf_read_write as nrw\n",
    "sys_params = tdg.define_system_params(run_dir)"
   ]
  },
  {
   "cell_type": "code",
   "execution_count": null,
   "id": "d7f61a17-aa37-47bc-8e99-3262fdc70b52",
   "metadata": {},
   "outputs": [],
   "source": [
    "dataset1 = \"Data1\"\n",
    "dataset2 = \"Data2\"\n",
    "\n",
    "new_file = \"Data3\"\n",
    "\n",
    "filename_trainingdata = dataset1 + \"/\" + sys_params[\"trainingdata_filename\"] \n",
    "training_data = Dataset(filename_trainingdata)\n",
    "X_1 = training_data.variables[\"X_train\"][:]\n",
    "Y_1 = training_data.variables[\"Y_train\"][:]\n",
    "avg_powers_1 = training_data.variables[\"avg_powers\"][:]\n",
    "training_data.close()\n",
    "\n",
    "filename_trainingdata = dataset2 + \"/\" + sys_params[\"trainingdata_filename\"] \n",
    "training_data = Dataset(filename_trainingdata)\n",
    "X_2 = training_data.variables[\"X_train\"][:]\n",
    "Y_2 = training_data.variables[\"Y_train\"][:]\n",
    "avg_powers_2 = training_data.variables[\"avg_powers\"][:]\n",
    "training_data.close()\n",
    "\n",
    "X_train = np.hstack((X_1, X_2))\n",
    "Y_train = np.hstack((Y_1, Y_2))\n",
    "avg_powers = np.hstack((avg_powers_1, avg_powers_2))\n",
    "print(np.shape(X_train), np.shape(Y_train), np.shape(avg_powers))\n",
    "\n",
    "filename_trainingdata = new_file + \"/\" + sys_params[\"trainingdata_filename\"] \n",
    "nrw.save_training_data(X_train, Y_train, avg_powers, filename_trainingdata)"
   ]
  },
  {
   "cell_type": "markdown",
   "id": "9a9145b5-bc3a-4838-b506-7e5161ca8f6f",
   "metadata": {
    "jp-MarkdownHeadingCollapsed": true,
    "tags": []
   },
   "source": [
    "# Create time varying input deck"
   ]
  },
  {
   "cell_type": "code",
   "execution_count": null,
   "id": "63a119ce-bab5-4f9c-ac4a-34114f04fc97",
   "metadata": {},
   "outputs": [],
   "source": [
    "import csv\n",
    "import utils_intensity_map as uim\n",
    "import netcdf_read_write as nrw\n",
    "import utils_deck_generation as idg\n",
    "import os"
   ]
  },
  {
   "cell_type": "code",
   "execution_count": null,
   "id": "72c769bf-d5ef-4496-9d5c-d2a93edd5610",
   "metadata": {
    "tags": []
   },
   "outputs": [],
   "source": [
    "load_from_file = True\n",
    "iex = 0\n",
    "run_dir = \"Data\"\n",
    "\n",
    "num_examples = 0\n",
    "sys_params = tdg.define_system_params(run_dir)\n",
    "\n",
    "if load_from_file:\n",
    "    dataset, dataset_params, deck_gen_params, facility_spec = idg.load_data_dicts_from_file(sys_params)\n",
    "    \n",
    "    cone_multiplier = np.zeros((dataset_params[\"num_profiles_per_config\"], int(facility_spec['num_cones']/2)))\n",
    "    for ind_profile in range(dataset_params[\"num_profiles_per_config\"]):\n",
    "        index_offset = ind_profile - dataset_params[\"num_profiles_per_config\"]\n",
    "        power_slice = slice(dataset_params[\"num_variables_per_beam\"]+index_offset, dataset_params[\"num_input_params\"], dataset_params[\"num_variables_per_beam\"])\n",
    "        cone_multiplier[ind_profile,:] = deck_gen_params[\"sim_params\"][iex, power_slice]\n",
    "    print(cone_multiplier)\n",
    "    \n",
    "else:\n",
    "    dataset_params, facility_spec = tdg.define_dataset_params(int(num_examples))\n",
    "    cone_multiplier = np.zeros(facility_spec['num_cones']/2) + 1.0\n",
    "\n",
    "num_cones = int(facility_spec['num_cones']/2) # Symmetry in top bottom hemisphere\n"
   ]
  },
  {
   "cell_type": "markdown",
   "id": "025a4035-8f7b-4f44-a055-8334a92c30f8",
   "metadata": {
    "jp-MarkdownHeadingCollapsed": true,
    "tags": []
   },
   "source": [
    "## Read from \"requested power\" csv (per beam)"
   ]
  },
  {
   "cell_type": "code",
   "execution_count": null,
   "id": "1f06f76d-a71f-452b-bc0d-287b70f77d09",
   "metadata": {
    "tags": []
   },
   "outputs": [],
   "source": [
    "file_dirname = \"laser_pulse_data_pdd/N190204-003\"\n",
    "file_name = \"N190204-003-999_LEH_requested_beam_powers\"\n",
    "file_type = \".csv\"\n",
    "\n",
    "num_lines = sum(1 for line in open(file_dirname + \"/\" + file_name + file_type))\n",
    "\n",
    "beam_indices = [0] * facility_spec['nbeams']\n",
    "beam_names = [0] * facility_spec['nbeams']\n",
    "times = np.zeros((num_lines-1))\n",
    "powers = np.zeros((facility_spec['nbeams'],num_lines-1))\n",
    "\n",
    "total_power = 0\n",
    "\n",
    "pulse_file = open(file_dirname + \"/\" + file_name + file_type)\n",
    "pulse_data = csv.reader(pulse_file)\n",
    "\n",
    "backlighter_beams = (\"B161\",\"B162\",\"B163\",\"B164\",\"B415\",\"B416\",\"B417\",\"B418\")\n",
    "\n",
    "irow=0\n",
    "for row in pulse_data:\n",
    "    if irow == 0:\n",
    "        nbeams = len(row) - 1\n",
    "        for ibeam in range(0,nbeams):\n",
    "            #print(row[ibeam][2:])\n",
    "            beam_names[ibeam] = \"B\"+row[ibeam+1][2:]\n",
    "            beam_indices[ibeam] = np.where(facility_spec['Beam']==beam_names[ibeam])[0][0]\n",
    "    else:\n",
    "        times[irow-1] = row[0]\n",
    "        powers[0:,irow-1] = row[1:]\n",
    "    irow += 1\n",
    "pulse_file.close()\n",
    "\n",
    "backlighter_modified_beams = []\n",
    "idealized_total_power_profile = 0\n",
    "total_power_no_backlighter = 0\n",
    "\n",
    "fig = plt.figure()\n",
    "ax = plt.axes()\n",
    "for ibeam in range(0,nbeams):\n",
    "    if beam_names[ibeam] in backlighter_beams:\n",
    "        print(\"Beam: \" + beam_names[ibeam] + \" is for the backlighter\")\n",
    "    else:\n",
    "        total_power_no_backlighter += powers[ibeam,:]\n",
    "        plt.plot(times, powers[ibeam,:])\n",
    "    if np.max(powers[ibeam,:]) > 1.0:\n",
    "        backlighter_modified_beams.append(beam_names[ibeam])\n",
    "print(backlighter_modified_beams)\n",
    "#plt.xlim([-0.5, 5.0])\n",
    "plt.xlabel(\"Time (ns)\")\n",
    "plt.ylabel(\"Power per beam (TW)\")\n",
    "plt.savefig(file_dirname+'/laser_pulse_shape_per_beam' + sys_params[\"plot_file_type\"], dpi=300, bbox_inches='tight')\n",
    "\n",
    "total_power_with_backlighter = np.sum(powers, axis=0)\n",
    "total_energy_with_backlighter = np.trapz(total_power_with_backlighter, x=times)\n",
    "print(\"Total energy requested (with backlighter): {:.2f}\".format(total_energy_with_backlighter), \"kJ\")\n",
    "print(\"Max power (with backlighter): {:.2f}\".format(np.max(total_power_with_backlighter)), \"TW\")\n",
    "\n",
    "total_power = total_power_no_backlighter\n",
    "total_energy = np.trapz(total_power_no_backlighter, x=times)\n",
    "print(\"Total energy requested: {:.2f}\".format(total_energy), \"kJ\")\n",
    "print(\"Max power: {:.2f}\".format(np.max(total_power)), \"TW\")\n",
    "\n",
    "fig = plt.figure()\n",
    "ax = plt.axes()\n",
    "plt.plot(times, total_power_no_backlighter)\n",
    "#plt.xlim([-0.5, 5.0])\n",
    "plt.xlabel(\"Time (ns)\")\n",
    "plt.ylabel(\"Total Power (TW)\")\n",
    "plt.savefig(file_dirname+'/laser_pulse_shape_total' + sys_params[\"plot_file_type\"], dpi=300, bbox_inches='tight')\n",
    "\n",
    "idealized_power_profile = total_power / nbeams\n",
    "\n",
    "fig = plt.figure()\n",
    "ax = plt.axes()\n",
    "plt.plot(times, idealized_power_profile)\n",
    "#plt.xlim([-0.5, 5.0])\n",
    "plt.xlabel(\"Time (ns)\")\n",
    "plt.ylabel(\"Idealized Power Profile per beam, no backlighter (TW)\")\n",
    "plt.savefig(file_dirname+'/idealized_laser_pulse_shape_per_beam' + sys_params[\"plot_file_type\"], dpi=300, bbox_inches='tight')\n",
    "\n",
    "times_old = times\n",
    "powers_old = powers\n",
    "total_power_old = total_power\n",
    "times = np.zeros((num_cones,num_lines-1))\n",
    "powers = np.zeros((num_cones,num_lines-1))\n",
    "total_power = np.zeros((num_lines-1))\n",
    "\n",
    "for icone in range(0,num_cones):\n",
    "    powers[icone,:] = idealized_power_profile\n",
    "    times[icone,:] = times_old\n",
    "    total_power += powers[icone,:]"
   ]
  },
  {
   "cell_type": "markdown",
   "id": "f24705a3-be6d-4a18-bfd5-c2e53634a94f",
   "metadata": {
    "jp-MarkdownHeadingCollapsed": true,
    "tags": []
   },
   "source": [
    "## Create simplified laser pulse for multi"
   ]
  },
  {
   "cell_type": "code",
   "execution_count": null,
   "id": "2075f3d0-07d6-429d-899e-4a118b37fd26",
   "metadata": {
    "tags": []
   },
   "outputs": [],
   "source": [
    "print(range(96,196,20))"
   ]
  },
  {
   "cell_type": "code",
   "execution_count": null,
   "id": "fa4f1b34-778a-4fe4-8508-32ba960817b7",
   "metadata": {
    "tags": []
   },
   "outputs": [],
   "source": [
    "beam = facility_spec['Beam'][ibeam]\n",
    "file_name = file_dirname + \"/idealised_pulse_for_multi.txt\"\n",
    "string1 = \"\"\n",
    "string2 = \"\"\n",
    "with open(file_name,\"w\") as out:\n",
    "    for icol in range(96,196,5):\n",
    "        string1 = string1 + '{0:.2f},'.format(times[icol])\n",
    "        string2 = string2 + '{0:.2f},'.format(total_power_no_backlighter[icol])\n",
    "    out.write(string1)\n",
    "    out.write('\\r\\n')\n",
    "    out.write(string2)\n",
    "out.close()"
   ]
  },
  {
   "cell_type": "markdown",
   "id": "5c99c813-164b-4b30-9311-5195149b699a",
   "metadata": {
    "jp-MarkdownHeadingCollapsed": true,
    "tags": []
   },
   "source": [
    "## Read from \"experimentally delievered\" csv N21 (per beam)"
   ]
  },
  {
   "cell_type": "code",
   "execution_count": null,
   "id": "59bcfe85-f09d-487c-b580-f5c9ad527a7b",
   "metadata": {
    "tags": []
   },
   "outputs": [],
   "source": [
    "file_dirname = \"laser_pulse_data_pdd/N210519\"\n",
    "file_name = \"N210519-001-999_LEH_reported_fixed\"\n",
    "file_type = \".csv\"\n",
    "\n",
    "num_lines = sum(1 for line in open(file_dirname + \"/\" + file_name + file_type))\n",
    "\n",
    "nbeams = 188\n",
    "\n",
    "beam_indices = [0] * nbeams\n",
    "beam_names = [0] * nbeams\n",
    "times = np.zeros((num_lines-1))\n",
    "powers = np.zeros((nbeams,num_lines-1))\n",
    "\n",
    "total_power = 0\n",
    "\n",
    "pulse_file = open(file_dirname + \"/\" + file_name + file_type)\n",
    "pulse_data = csv.reader(pulse_file)\n",
    "\n",
    "backlighter_beams = (\"B161\",\"B162\",\"B163\",\"B164\",\"B415\",\"B416\",\"B417\",\"B418\")\n",
    "\n",
    "irow=0\n",
    "for row in pulse_data:\n",
    "    if irow == 0:\n",
    "        nbeams = len(row) - 1\n",
    "        for ibeam in range(0,nbeams):\n",
    "            beam_names[ibeam] = \"B\"+row[ibeam+1][2:]\n",
    "            beam_indices[ibeam] = np.where(facility_spec['Beam']==beam_names[ibeam])[0][0]\n",
    "    else:\n",
    "        times[irow-1] = row[0]\n",
    "        powers[0:,irow-1] = row[1:]\n",
    "    irow += 1\n",
    "pulse_file.close()\n",
    "\n",
    "backlighter_modified_beams = []\n",
    "idealized_total_power_profile = 0\n",
    "total_power_no_backlighter = 0\n",
    "\n",
    "fig = plt.figure()\n",
    "ax = plt.axes()\n",
    "for ibeam in range(0,nbeams):\n",
    "    if beam_names[ibeam] in backlighter_beams:\n",
    "        print(\"Beam: \" + beam_names[ibeam] + \" is for the backlighter\")\n",
    "        #plt.plot(times, powers[ibeam,:])\n",
    "    else:\n",
    "        total_power_no_backlighter += powers[ibeam,:]\n",
    "        plt.plot(times, powers[ibeam,:])\n",
    "    if np.max(powers[ibeam,:]) > 1.0:\n",
    "        backlighter_modified_beams.append(beam_names[ibeam])\n",
    "print(backlighter_modified_beams)\n",
    "#plt.xlim([-0.5, 11.0])\n",
    "plt.xlabel(\"Time (ns)\")\n",
    "plt.ylabel(\"Power per beam (TW)\")\n",
    "plt.savefig(file_dirname+'/laser_pulse_shape_per_beam' + sys_params[\"plot_file_type\"], dpi=300, bbox_inches='tight')\n",
    "\n",
    "total_power_with_backlighter = np.sum(powers, axis=0)\n",
    "total_energy_with_backlighter = np.trapz(total_power_with_backlighter, x=times)\n",
    "print(\"Total energy requested (with backlighter): {:.2f}\".format(total_energy_with_backlighter), \"kJ\")\n",
    "print(\"Max power (with backlighter): {:.2f}\".format(np.max(total_power_with_backlighter)), \"TW\")\n",
    "\n",
    "total_power = total_power_no_backlighter\n",
    "total_energy = np.trapz(total_power_no_backlighter, x=times)\n",
    "print(\"Total energy requested: {:.2f}\".format(total_energy), \"kJ\")\n",
    "print(\"Max power: {:.2f}\".format(np.max(total_power)), \"TW\")\n",
    "\n",
    "fig = plt.figure()\n",
    "ax = plt.axes()\n",
    "plt.plot(times, total_power_no_backlighter)\n",
    "#plt.xlim([-0.5, 11.0])\n",
    "plt.xlabel(\"Time (ns)\")\n",
    "plt.ylabel(\"Total Power (TW)\")\n",
    "plt.savefig(file_dirname+'/laser_pulse_shape_total' + sys_params[\"plot_file_type\"], dpi=300, bbox_inches='tight')\n",
    "\n",
    "idealized_power_profile = total_power / nbeams\n",
    "\n",
    "fig = plt.figure()\n",
    "ax = plt.axes()\n",
    "plt.plot(times, idealized_power_profile)\n",
    "#plt.xlim([-0.5, 11.0])\n",
    "plt.xlabel(\"Time (ns)\")\n",
    "plt.ylabel(\"Idealized Power Profile per beam, no backlighter (TW)\")\n",
    "plt.savefig(file_dirname+'/idealized_laser_pulse_shape_per_beam' + sys_params[\"plot_file_type\"], dpi=300, bbox_inches='tight')\n",
    "\n",
    "times_old = times\n",
    "powers_old = powers\n",
    "total_power_old = total_power\n",
    "times = np.zeros((num_cones,num_lines-1))\n",
    "powers = np.zeros((num_cones,num_lines-1))\n",
    "total_power = np.zeros((num_lines-1))\n",
    "\n",
    "for icone in range(0,num_cones):\n",
    "    powers[icone,:] = idealized_power_profile\n",
    "    times[icone,:] = times_old\n",
    "    total_power += powers[icone,:]"
   ]
  },
  {
   "cell_type": "markdown",
   "id": "841b06e9-2a9f-4ce7-8944-f346b58b9614",
   "metadata": {
    "jp-MarkdownHeadingCollapsed": true,
    "tags": []
   },
   "source": [
    "## Read from \"experimentally delievered\" csv N19 (per beam)"
   ]
  },
  {
   "cell_type": "code",
   "execution_count": null,
   "id": "e3e0c33a-eead-433e-8aaa-2f5e8a931ae0",
   "metadata": {
    "tags": []
   },
   "outputs": [],
   "source": [
    "file_dirname = \"laser_pulse_data_pdd/N190204-003\"\n",
    "file_name = \"N190204-003-999_LEH_beam_powers\"\n",
    "file_type = \".csv\"\n",
    "\n",
    "num_lines = sum(1 for line in open(file_dirname + \"/\" + file_name + file_type))\n",
    "\n",
    "beam_indices = [0] * facility_spec['nbeams']\n",
    "beam_names = [0] * facility_spec['nbeams']\n",
    "times = np.zeros((num_lines-1))\n",
    "powers = np.zeros((facility_spec['nbeams'],num_lines-1))\n",
    "\n",
    "total_power = 0\n",
    "\n",
    "pulse_file = open(file_dirname + \"/\" + file_name + file_type)\n",
    "pulse_data = csv.reader(pulse_file)\n",
    "\n",
    "backlighter_beams = (\"B161\",\"B162\",\"B163\",\"B164\",\"B415\",\"B416\",\"B417\",\"B418\")\n",
    "\n",
    "irow=0\n",
    "for row in pulse_data:\n",
    "    if irow == 0:\n",
    "        nbeams = len(row) - 1\n",
    "        for ibeam in range(0,nbeams):\n",
    "            beam_names[ibeam] = \"B\"+row[ibeam+1][2:]\n",
    "            beam_indices[ibeam] = np.where(facility_spec['Beam']==beam_names[ibeam])[0][0]\n",
    "    else:\n",
    "        times[irow-1] = row[0]\n",
    "        powers[0:,irow-1] = row[1:]\n",
    "    irow += 1\n",
    "pulse_file.close()\n",
    "\n",
    "backlighter_modified_beams = []\n",
    "idealized_total_power_profile = 0\n",
    "total_power_no_backlighter = 0\n",
    "\n",
    "fig = plt.figure()\n",
    "ax = plt.axes()\n",
    "for ibeam in range(0,nbeams):\n",
    "    if beam_names[ibeam] in backlighter_beams:\n",
    "        print(\"Beam: \" + beam_names[ibeam] + \" is for the backlighter\")\n",
    "    else:\n",
    "        total_power_no_backlighter += powers[ibeam,:]\n",
    "        plt.plot(times, powers[ibeam,:])\n",
    "    if np.max(powers[ibeam,:]) > 1.0:\n",
    "        backlighter_modified_beams.append(beam_names[ibeam])\n",
    "print(backlighter_modified_beams)\n",
    "#plt.xlim([-0.5, 5.0])\n",
    "plt.xlabel(\"Time (ns)\")\n",
    "plt.ylabel(\"Power per beam (TW)\")\n",
    "plt.savefig(file_dirname+'/laser_pulse_shape_per_beam' + sys_params[\"plot_file_type\"], dpi=300, bbox_inches='tight')\n",
    "\n",
    "total_power_with_backlighter = np.sum(powers, axis=0)\n",
    "total_energy_with_backlighter = np.trapz(total_power_with_backlighter, x=times)\n",
    "print(\"Total energy requested (with backlighter): {:.2f}\".format(total_energy_with_backlighter), \"kJ\")\n",
    "print(\"Max power (with backlighter): {:.2f}\".format(np.max(total_power_with_backlighter)), \"TW\")\n",
    "\n",
    "total_power = total_power_no_backlighter\n",
    "total_energy = np.trapz(total_power_no_backlighter, x=times)\n",
    "print(\"Total energy requested: {:.2f}\".format(total_energy), \"kJ\")\n",
    "print(\"Max power: {:.2f}\".format(np.max(total_power)), \"TW\")\n",
    "\n",
    "fig = plt.figure()\n",
    "ax = plt.axes()\n",
    "plt.plot(times, total_power_no_backlighter)\n",
    "#plt.xlim([-0.5, 5.0])\n",
    "plt.xlabel(\"Time (ns)\")\n",
    "plt.ylabel(\"Total Power (TW)\")\n",
    "plt.savefig(file_dirname+'/laser_pulse_shape_total' + sys_params[\"plot_file_type\"], dpi=300, bbox_inches='tight')\n",
    "\n",
    "idealized_power_profile = total_power / nbeams\n",
    "\n",
    "fig = plt.figure()\n",
    "ax = plt.axes()\n",
    "plt.plot(times, idealized_power_profile)\n",
    "#plt.xlim([-0.5, 5.0])\n",
    "plt.xlabel(\"Time (ns)\")\n",
    "plt.ylabel(\"Idealized Power Profile per beam, no backlighter (TW)\")\n",
    "plt.savefig(file_dirname+'/idealized_laser_pulse_shape_per_beam' + sys_params[\"plot_file_type\"], dpi=300, bbox_inches='tight')\n",
    "\n",
    "times_old = times\n",
    "powers_old = powers\n",
    "total_power_old = total_power\n",
    "times = np.zeros((num_cones,num_lines-1))\n",
    "powers = np.zeros((num_cones,num_lines-1))\n",
    "total_power = np.zeros((num_lines-1))\n",
    "\n",
    "for icone in range(0,num_cones):\n",
    "    powers[icone,:] = idealized_power_profile\n",
    "    times[icone,:] = times_old\n",
    "    total_power += powers[icone,:]"
   ]
  },
  {
   "cell_type": "markdown",
   "id": "3dcd3a2e-1f4c-4405-833d-5815551b06bd",
   "metadata": {
    "jp-MarkdownHeadingCollapsed": true,
    "tags": []
   },
   "source": [
    "## Read from \"Ring\" csv N21 (per beam)"
   ]
  },
  {
   "cell_type": "code",
   "execution_count": null,
   "id": "97868f2c-18d0-42b1-9947-9dc5334759e7",
   "metadata": {},
   "outputs": [],
   "source": [
    "file_dirname = \"laser_pulse_data_pdd/N210519\"\n",
    "file_name = \"I_PDD_BePDD_DDShap_EEE_Ring\"\n",
    "file_type = \".csv\"\n",
    "\n",
    "num_lines = sum(1 for line in open(file_dirname + \"/\" + file_name + str(1) + file_type))\n",
    "\n",
    "times = np.zeros((num_cones,num_lines))\n",
    "powers = np.zeros((num_cones,num_lines))\n",
    "fig = plt.figure()\n",
    "ax = plt.axes()\n",
    "\n",
    "total_power = 0\n",
    "for icone in range(num_cones):\n",
    "    pulse_file = open(file_dirname + \"/\" + file_name + str(icone+1) + file_type)\n",
    "    pulse_data = csv.reader(pulse_file)\n",
    "    i = 0\n",
    "    for row in pulse_data:\n",
    "        times[icone,i] = float(row[0])\n",
    "        powers[icone,i] = float(row[1])\n",
    "        i += 1\n",
    "\n",
    "    pulse_file.close()\n",
    "    \n",
    "    total_power += powers[icone,:] * facility_spec[\"beams_per_cone\"][icone] * 2\n",
    "    \n",
    "    plt.plot(times[icone,:], powers[icone,:], label=facility_spec['cone_names'][icone])\n",
    "plt.xlabel(\"Time (ns)\")\n",
    "plt.ylabel(\"Power per beam (TW)\")\n",
    "plt.legend()\n",
    "plt.savefig(file_dirname+'/laser_pulse_shape_per_beam' + sys_params[\"plot_file_type\"], dpi=300, bbox_inches='tight')\n",
    "\n",
    "total_energy = np.trapz(total_power, x=times[0,:])\n",
    "print(\"Total energy requested: {:.2f}\".format(total_energy), \"kJ\")\n",
    "print(\"Max power: {:.2f}\".format(np.max(total_power)), \"TW\")\n",
    "#total_power = powers[0,:] * 32 + powers[1,:] * 32 + powers[2,:] * 64 + powers[3,:] * 64\n",
    "\n",
    "fig = plt.figure()\n",
    "ax = plt.axes()\n",
    "plt.plot(times[0,:], total_power)\n",
    "plt.xlabel(\"Time (ns)\")\n",
    "plt.ylabel(\"Total Power (TW)\")\n",
    "plt.savefig(file_dirname+'/laser_pulse_shape_total' + sys_params[\"plot_file_type\"], dpi=300, bbox_inches='tight')"
   ]
  },
  {
   "cell_type": "markdown",
   "id": "ba86c11f-c5f7-4576-839a-17dd3a9ec6de",
   "metadata": {
    "jp-MarkdownHeadingCollapsed": true,
    "tags": []
   },
   "source": [
    "## Read from Olson paper data extraction (all beam pulse)"
   ]
  },
  {
   "cell_type": "code",
   "execution_count": null,
   "id": "f61fdeb2-eac4-4c17-be3a-808c1b755729",
   "metadata": {},
   "outputs": [],
   "source": [
    "file_dirname = \"laser_pulse_data_pdd/ABLE_campaign\"\n",
    "file_name = \"PDD_foam_target_olson_paper_pulse_data_extraction\"\n",
    "file_type = \".csv\"\n",
    "\n",
    "\n",
    "num_lines = sum(1 for line in open(file_dirname + \"/\" + file_name + file_type))\n",
    "\n",
    "total_power_times = np.zeros((num_lines))\n",
    "total_power = np.zeros((num_lines))\n",
    "\n",
    "pulse_file = open(file_dirname + \"/\" + file_name + file_type)\n",
    "pulse_data = csv.reader(pulse_file)\n",
    "i = 0\n",
    "for row in pulse_data:\n",
    "    total_power_times[i] = float(row[0])\n",
    "    total_power[i] = float(row[1])\n",
    "    i += 1\n",
    "\n",
    "pulse_file.close()\n",
    "\n",
    "total_energy = np.trapz(total_power, x=total_power_times)\n",
    "print(\"Total energy requested: {:.2f}\".format(total_energy), \"kJ\")\n",
    "#total_power = powers[0,:] * 32 + powers[1,:] * 32 + powers[2,:] * 64 + powers[3,:] * 64\n",
    "\n",
    "fig = plt.figure()\n",
    "ax = plt.axes()\n",
    "plt.plot(total_power_times, total_power)\n",
    "plt.xlabel(\"Time (ns)\")\n",
    "plt.ylabel(\"Total Power (TW)\")\n",
    "plt.savefig(file_dirname+'/laser_pulse_shape_total' + sys_params[\"plot_file_type\"], dpi=300, bbox_inches='tight')"
   ]
  },
  {
   "cell_type": "code",
   "execution_count": null,
   "id": "5a07bb7a-239e-4a09-af6a-1378195adaa9",
   "metadata": {},
   "outputs": [],
   "source": [
    "times = np.zeros((num_cones,num_lines))\n",
    "powers = np.zeros((num_cones,num_lines))\n",
    "for icone in range(num_cones):\n",
    "    times[icone,:] = total_power_times\n",
    "    powers[icone,:] = total_power / facility_spec[\"nbeams\"]\n",
    "\n",
    "# Add extra 8% power for 23.5 cones\n",
    "powers[0,:] = powers[0,:] * 1.08\n",
    "renorm_fac = (facility_spec[\"nbeams\"] - facility_spec[\"beams_per_cone\"][0] * 2 \n",
    "              + facility_spec[\"beams_per_cone\"][0] * 2 * 1.08) / 192\n",
    "powers = powers / renorm_fac\n",
    "\n",
    "fig = plt.figure()\n",
    "ax = plt.axes()\n",
    "total_energy = 0.0\n",
    "for icone in range(num_cones):\n",
    "    plt.plot(times[icone,:], powers[icone,:], label=facility_spec['cone_names'][icone])\n",
    "    cone_powers = powers[icone,:] * facility_spec[\"beams_per_cone\"][icone] * 2\n",
    "    cone_energy = np.trapz(cone_powers, x=times[icone,:])\n",
    "    print(cone_energy)\n",
    "    total_energy += cone_energy\n",
    "print(total_energy)\n",
    "plt.xlabel(\"Time (ns)\")\n",
    "plt.ylabel(\"Power per beam (TW)\")\n",
    "plt.legend()\n",
    "plt.savefig(file_dirname+'/laser_pulse_shape_per_beam' + sys_params[\"plot_file_type\"], dpi=300, bbox_inches='tight')"
   ]
  },
  {
   "cell_type": "markdown",
   "id": "ebe0c50c-74d1-4edf-85c6-4967858cefd7",
   "metadata": {
    "jp-MarkdownHeadingCollapsed": true,
    "tags": []
   },
   "source": [
    "## Output pulse shapes unmodified"
   ]
  },
  {
   "cell_type": "code",
   "execution_count": null,
   "id": "a31ef515-dfd7-4096-8adc-16f23ae11318",
   "metadata": {},
   "outputs": [],
   "source": [
    "\n",
    "\n",
    "for ibeam in range(facility_spec['nbeams']):\n",
    "    beam = facility_spec['Beam'][ibeam]\n",
    "    file_name = file_dirname + \"/pulse_\" + beam + \".txt\"\n",
    "    \n",
    "    cone_name = facility_spec[\"Cone\"][ibeam]\n",
    "    if (cone_name == 23.5):\n",
    "        icone = 0\n",
    "    elif (cone_name == 30):\n",
    "        icone = 1\n",
    "    elif (cone_name == 44.5):\n",
    "        icone = 2\n",
    "    else:\n",
    "        icone = 3\n",
    "    \n",
    "    with open(file_name,\"w\") as out:\n",
    "        for irow in range(len(times[0,:])):\n",
    "            out.write(str(times[icone,irow]) + ' ' + str(powers[icone,irow]))\n",
    "            out.write('\\r\\n')\n",
    "    out.close()\n"
   ]
  },
  {
   "cell_type": "markdown",
   "id": "8b565359-50f5-4953-b388-09150558bc14",
   "metadata": {
    "jp-MarkdownHeadingCollapsed": true,
    "tags": []
   },
   "source": [
    "## Output pulse shapes with cone power fractions (time varying)"
   ]
  },
  {
   "cell_type": "code",
   "execution_count": null,
   "id": "3c7424c6-17c8-42a9-85c1-6bcc6927c618",
   "metadata": {},
   "outputs": [],
   "source": [
    "#print(facility_spec['beams_per_cone'])\n",
    "#for icone in range(facility_spec['num_cones']):"
   ]
  },
  {
   "cell_type": "code",
   "execution_count": null,
   "id": "c8ff8278-f044-4221-9cd8-3c5a81c2822f",
   "metadata": {
    "tags": []
   },
   "outputs": [],
   "source": [
    "normalized_power = total_power / np.max(total_power)\n",
    "num_times = np.shape(times)[1]\n",
    "\n",
    "powers_reweighted = np.zeros((np.shape(times))) + 1.0\n",
    "cone_time_varying_weighting = np.zeros(np.shape(times))\n",
    "cone_power_multipliers_times = np.array((1.0, 4.5)) #(0.0, 4.0) #for N19\n",
    "print(np.shape(cone_time_varying_weighting))\n",
    "\n",
    "\n",
    "fig = plt.figure()\n",
    "ax = plt.axes()\n",
    "fig2 = plt.figure()\n",
    "ax2 = plt.axes()\n",
    "for icone in range(num_cones):\n",
    "    for tind in range(num_times):\n",
    "        #tind = 150\n",
    "        t0 = times[icone, tind]\n",
    "        if t0 <= cone_power_multipliers_times[0]:\n",
    "            cone_time_varying_weighting[icone,tind] = cone_multiplier[0,icone]\n",
    "\n",
    "        elif t0 >= cone_power_multipliers_times[-1]:\n",
    "            cone_time_varying_weighting[icone,tind] = cone_multiplier[-1,icone]\n",
    "\n",
    "        else:\n",
    "            ind_min = np.where(cone_power_multipliers_times < t0)[0][-1]\n",
    "            ind_max = ind_min + 1\n",
    "\n",
    "            diff_min_max = cone_power_multipliers_times[ind_max] - cone_power_multipliers_times[ind_min]\n",
    "\n",
    "            diff_min = (t0 - cone_power_multipliers_times[ind_min]) / diff_min_max\n",
    "            diff_max = (cone_power_multipliers_times[ind_max] - t0) / diff_min_max\n",
    "            cone_time_varying_weighting[icone,tind] = cone_multiplier[ind_min,icone] * diff_max + cone_multiplier[ind_max,icone] * diff_min\n",
    "            #print(cone_multiplier[ind_min,icone], diff_min)\n",
    "            #print(cone_multiplier[ind_max,icone], diff_max)\n",
    "        #print(times[icone,tind], cone_time_varying_weighting[icone,tind])\n",
    "\n",
    "    powers_reweighted = normalized_power * cone_time_varying_weighting\n",
    "    ax.plot(times[icone,:], cone_time_varying_weighting[icone,:])\n",
    "    ax2.plot(times[icone,:], powers_reweighted[icone,:])\n",
    "    \n",
    "#ax.set_xlim([-0.5, 8.0])\n",
    "#ax2.set_xlim([-0.5, 8.0])\n",
    "ax.set_xlabel(\"Time (ns)\")\n",
    "ax.set_ylabel(\"Weighting\")\n",
    "ax2.set_xlabel(\"Time (ns)\")\n",
    "ax2.set_ylabel(\"time varying per beam power (TW)\")\n"
   ]
  },
  {
   "cell_type": "code",
   "execution_count": null,
   "id": "4b803c1a-99cf-4dd1-beb0-053d2d844dc9",
   "metadata": {
    "tags": []
   },
   "outputs": [],
   "source": [
    "total_power_reweighted = 0.0\n",
    "\n",
    "for ibeam in range(facility_spec['nbeams']):\n",
    "    beam = facility_spec['Beam'][ibeam]\n",
    "    file_name = file_dirname + \"/pulse_\" + beam + \".txt\"\n",
    "    \n",
    "    cone_name = facility_spec[\"Cone\"][ibeam]\n",
    "    if (cone_name == 23.5):\n",
    "        icone = 0\n",
    "    elif (cone_name == 30):\n",
    "        icone = 1\n",
    "    elif (cone_name == 44.5):\n",
    "        icone = 2\n",
    "    else:\n",
    "        icone = 3\n",
    "    total_power_reweighted += powers_reweighted[icone,:]\n",
    "    \n",
    "    with open(file_name,\"w\") as out:\n",
    "        for irow in range(len(times[0,:])):\n",
    "            out.write(str(times[icone,irow]) + ' ' + str(powers_reweighted[icone,irow]))\n",
    "            out.write('\\r\\n')\n",
    "    out.close()\n",
    "\n",
    "print(np.max(powers_reweighted, axis=1))\n",
    "fig = plt.figure()\n",
    "ax = plt.axes()\n",
    "for icone in range(num_cones):\n",
    "    plt.plot(times[icone,:], powers_reweighted[icone,:], label=facility_spec['cone_names'][icone])\n",
    "plt.xlabel(\"Time (ns)\")\n",
    "plt.ylabel(\"Power per beam (TW)\")\n",
    "#plt.xlim([-0.5, 10.0])\n",
    "plt.legend()\n",
    "plt.savefig(file_dirname+'/new_laser_pulse_shape_per_beam' + sys_params[\"plot_file_type\"], dpi=300, bbox_inches='tight')\n",
    "\n",
    "total_energy_reweighted = np.trapz(total_power_reweighted, x=times[0,:])\n",
    "print(\"Total energy requested: {:.2f}\".format(total_energy_reweighted), \"kJ\")\n",
    "#total_power = powers[0,:] * 32 + powers[1,:] * 32 + powers[2,:] * 64 + powers[3,:] * 64\n",
    "print(\"Max power: {:.2f}\".format(np.max(total_power_reweighted)), \"TW\")\n",
    "\n",
    "fig = plt.figure()\n",
    "ax = plt.axes()\n",
    "plt.plot(times[0,:], total_power_reweighted)\n",
    "plt.xlabel(\"Time (ns)\")\n",
    "plt.ylabel(\"Total Power (TW)\")\n",
    "#plt.xlim([-0.5, 10.0])\n",
    "plt.savefig(file_dirname+'/new_laser_pulse_shape_total' + sys_params[\"plot_file_type\"], dpi=300, bbox_inches='tight')"
   ]
  },
  {
   "cell_type": "code",
   "execution_count": null,
   "id": "4cba4c48-f7eb-408b-8216-93c13b373556",
   "metadata": {
    "tags": []
   },
   "outputs": [],
   "source": [
    "scaling = total_energy / total_energy_reweighted\n",
    "print(scaling)"
   ]
  },
  {
   "cell_type": "markdown",
   "id": "53a042b5-d241-43e4-9ffe-e0ed1dc4be97",
   "metadata": {
    "jp-MarkdownHeadingCollapsed": true,
    "tags": []
   },
   "source": [
    "## Output pulse shapes with cone power fractions"
   ]
  },
  {
   "cell_type": "code",
   "execution_count": null,
   "id": "bca01c29-45f0-4fc0-b180-143a8f2932c2",
   "metadata": {
    "tags": []
   },
   "outputs": [],
   "source": [
    "normalized_power = total_power / np.max(total_power)\n",
    "total_power_reweighted = 0.0\n",
    "powers_reweighted = np.zeros((np.shape(times)))\n",
    "\n",
    "for ibeam in range(facility_spec['nbeams']):\n",
    "    beam = facility_spec['Beam'][ibeam]\n",
    "    file_name = file_dirname + \"/pulse_\" + beam + \".txt\"\n",
    "    \n",
    "    cone_name = facility_spec[\"Cone\"][ibeam]\n",
    "    if (cone_name == 23.5):\n",
    "        icone = 0\n",
    "    elif (cone_name == 30):\n",
    "        icone = 1\n",
    "    elif (cone_name == 44.5):\n",
    "        icone = 2\n",
    "    else:\n",
    "        icone = 3\n",
    "    powers_reweighted[icone,:] = normalized_power[:] * cone_multiplier[icone]\n",
    "    total_power_reweighted += powers_reweighted[icone,:]\n",
    "    \n",
    "    with open(file_name,\"w\") as out:\n",
    "        for irow in range(len(times[0,:])):\n",
    "            out.write(str(times[icone,irow]) + ' ' + str(powers_reweighted[icone,irow]))\n",
    "            out.write('\\r\\n')\n",
    "    out.close()\n",
    "\n",
    "print(np.max(powers_reweighted, axis=1))\n",
    "fig = plt.figure()\n",
    "ax = plt.axes()\n",
    "for icone in range(num_cones):\n",
    "    plt.plot(times[icone,:], powers_reweighted[icone,:], label=facility_spec['cone_names'][icone])\n",
    "plt.xlabel(\"Time (ns)\")\n",
    "plt.ylabel(\"Power per beam (TW)\")\n",
    "#plt.xlim([-0.5, 10.0])\n",
    "plt.legend()\n",
    "plt.savefig(file_dirname+'/new_laser_pulse_shape_per_beam' + sys_params[\"plot_file_type\"], dpi=300, bbox_inches='tight')\n",
    "\n",
    "total_energy_reweighted = np.trapz(total_power_reweighted, x=times[0,:])\n",
    "print(\"Total energy requested: {:.2f}\".format(total_energy_reweighted), \"kJ\")\n",
    "#total_power = powers[0,:] * 32 + powers[1,:] * 32 + powers[2,:] * 64 + powers[3,:] * 64\n",
    "print(\"Max power: {:.2f}\".format(np.max(total_power_reweighted)), \"TW\")\n",
    "\n",
    "fig = plt.figure()\n",
    "ax = plt.axes()\n",
    "plt.plot(times[0,:], total_power_reweighted)\n",
    "plt.xlabel(\"Time (ns)\")\n",
    "plt.ylabel(\"Total Power (TW)\")\n",
    "#plt.xlim([-0.5, 10.0])\n",
    "plt.savefig(file_dirname+'/new_laser_pulse_shape_total' + sys_params[\"plot_file_type\"], dpi=300, bbox_inches='tight')\n"
   ]
  },
  {
   "cell_type": "markdown",
   "id": "3ec7d477-ed67-4966-962b-7cfea4724fa9",
   "metadata": {
    "jp-MarkdownHeadingCollapsed": true,
    "tags": []
   },
   "source": [
    "## Rescale powers for same total energy"
   ]
  },
  {
   "cell_type": "code",
   "execution_count": null,
   "id": "30a0652e-1c90-4998-a177-c9948626a98d",
   "metadata": {
    "tags": []
   },
   "outputs": [],
   "source": [
    "scaling = total_energy / total_energy_reweighted\n",
    "print(scaling)\n",
    "\n",
    "normalized_power = total_power / np.max(total_power)\n",
    "total_power_reweighted = 0.0\n",
    "#powers_reweighted = np.zeros((np.shape(times)))\n",
    "\n",
    "for ibeam in range(facility_spec['nbeams']):\n",
    "    beam = facility_spec['Beam'][ibeam]\n",
    "    file_name = file_dirname + \"/pulse_\" + beam + \".txt\"\n",
    "    \n",
    "    cone_name = facility_spec[\"Cone\"][ibeam]\n",
    "    if (cone_name == 23.5):\n",
    "        icone = 0\n",
    "    elif (cone_name == 30):\n",
    "        icone = 1\n",
    "    elif (cone_name == 44.5):\n",
    "        icone = 2\n",
    "    else:\n",
    "        icone = 3\n",
    "    total_power_reweighted += powers_reweighted[icone,:] * scaling\n",
    "    \n",
    "    with open(file_name,\"w\") as out:\n",
    "        for irow in range(len(times[0,:])):\n",
    "            out.write(str(times[icone,irow]) + ' ' + str(powers_reweighted[icone,irow] * scaling))\n",
    "            out.write('\\r\\n')\n",
    "    out.close()\n",
    "\n",
    "print(np.max(powers_reweighted * scaling, axis=1))\n",
    "fig = plt.figure()\n",
    "ax = plt.axes()\n",
    "for icone in range(num_cones):\n",
    "    plt.plot(times[icone,:], powers_reweighted[icone,:] * scaling, label=facility_spec['cone_names'][icone])\n",
    "plt.xlabel(\"Time (ns)\")\n",
    "plt.ylabel(\"Power per beam (TW)\")\n",
    "plt.legend()\n",
    "#plt.xlim([-0.5, 8.0])\n",
    "plt.savefig(file_dirname+'/new_scaled_laser_pulse_shape_per_beam' + sys_params[\"plot_file_type\"], dpi=300, bbox_inches='tight')\n",
    "\n",
    "total_energy_reweighted = np.trapz(total_power_reweighted, x=times[0,:])\n",
    "print(\"Total energy requested: {:.2f}\".format(total_energy_reweighted), \"kJ\")\n",
    "#total_power = powers[0,:] * 32 + powers[1,:] * 32 + powers[2,:] * 64 + powers[3,:] * 64\n",
    "print(\"Max power: {:.2f}\".format(np.max(total_power_reweighted)), \"TW\")\n",
    "\n",
    "fig = plt.figure()\n",
    "ax = plt.axes()\n",
    "plt.plot(times[0,:], total_power_reweighted)\n",
    "plt.xlabel(\"Time (ns)\")\n",
    "plt.ylabel(\"Total Power (TW)\")\n",
    "#plt.xlim([-0.5, 8.0])\n",
    "plt.savefig(file_dirname+'/new_scaled_laser_pulse_shape_total' + sys_params[\"plot_file_type\"], dpi=300, bbox_inches='tight')\n"
   ]
  },
  {
   "cell_type": "markdown",
   "id": "5d11926a-4ffd-49d7-9c5a-5f87fabb4437",
   "metadata": {
    "jp-MarkdownHeadingCollapsed": true,
    "tags": []
   },
   "source": [
    "## Output decks with beam pointings"
   ]
  },
  {
   "cell_type": "code",
   "execution_count": null,
   "id": "07dcd4cd-55d9-465e-91c1-1ecf2eb9e491",
   "metadata": {},
   "outputs": [],
   "source": [
    "#sys_params = tdg.define_system_params(file_dirname)\n",
    "#sys_params[\"run_clean\"] = False\n",
    "laser_init_time = 0.0\n",
    "print(\"Lasers set to initialize at time: {:.2f}ns\".format(laser_init_time))\n",
    "deck_gen_params['t0'] = laser_init_time\n",
    "\n",
    "#dataset_params = idg.create_run_files(dataset_params, sys_params, facility_spec)\n",
    "\n",
    "#idg.generate_input_deck(facility_spec, file_dirname)\n",
    "\n",
    "if os.path.exists(file_dirname + \"/ifriit_inputs.txt\"):\n",
    "    os.remove(file_dirname + \"/ifriit_inputs.txt\")\n",
    "idg.generate_input_pointing_and_pulses(iex, _, facility_spec, deck_gen_params, file_dirname, dataset_params[\"run_type\"])"
   ]
  },
  {
   "cell_type": "markdown",
   "id": "701837e0-bb01-4d05-8c83-e9110a4498f1",
   "metadata": {
    "jp-MarkdownHeadingCollapsed": true,
    "tags": []
   },
   "source": [
    "# Beam Spot"
   ]
  },
  {
   "cell_type": "code",
   "execution_count": null,
   "id": "c14c4cf8-28bb-46ea-b7c3-007a895be50a",
   "metadata": {
    "tags": []
   },
   "outputs": [],
   "source": [
    "def nif_beam_spot(x, y, sup_gauss_dict):\n",
    "    \n",
    "    c0 = sup_gauss_dict[\"c0\"]\n",
    "    c1 = sup_gauss_dict[\"c1\"]\n",
    "    c2 = sup_gauss_dict[\"c2\"]\n",
    "    c3 = sup_gauss_dict[\"c3\"]\n",
    "    intensity = c0 * np.exp(-((x/c1)**2+(y/c2)**2)**(c3/2))\n",
    "    \n",
    "    return intensity"
   ]
  },
  {
   "cell_type": "code",
   "execution_count": null,
   "id": "5596b522-764f-40a3-8b05-d897077a6cc6",
   "metadata": {
    "tags": []
   },
   "outputs": [],
   "source": [
    "def nif_beam_spot_FWHM(x, y, sup_gauss_dict):\n",
    "    \n",
    "    c0 = sup_gauss_dict[\"c0\"]\n",
    "    FWHMx = sup_gauss_dict[\"FWHMx\"]\n",
    "    FWHMy = sup_gauss_dict[\"FWHMy\"]\n",
    "    c3 = sup_gauss_dict[\"c3\"]\n",
    "    c5 = 2.0**c3 * np.log(2.0)\n",
    "    intensity = c0 * np.exp(-c5*((x/FWHMx)**2+(y/FWHMy)**2)**(c3/2))\n",
    "    \n",
    "    return intensity"
   ]
  },
  {
   "cell_type": "code",
   "execution_count": null,
   "id": "34b6a0cb-741b-49fa-aed6-b424b065bae9",
   "metadata": {
    "tags": []
   },
   "outputs": [],
   "source": [
    "def nif_beam_spot_FWHM_mike(x, y, sup_gauss_dict):\n",
    "    \n",
    "    c0 = sup_gauss_dict[\"c0\"]\n",
    "    FWHMx = sup_gauss_dict[\"FWHMx\"]\n",
    "    FWHMy = sup_gauss_dict[\"FWHMy\"]\n",
    "    c3 = sup_gauss_dict[\"c3\"]\n",
    "    c5 = 2.0 * np.log(2.0)**c3\n",
    "    intensity = np.exp(-((-x/FWHMx)**2+(-y/FWHMy)**2)**(c3/2))\n",
    "    \n",
    "    return intensity"
   ]
  },
  {
   "cell_type": "code",
   "execution_count": null,
   "id": "a36b626a-9642-49cc-a128-7f4f769d6ad8",
   "metadata": {
    "tags": []
   },
   "outputs": [],
   "source": [
    "def nif_beam_spot_FWHM_xavier(x, y, sup_gauss_dict):\n",
    "    \n",
    "    c0 = sup_gauss_dict[\"c0\"]\n",
    "    FWHMx = sup_gauss_dict[\"FWHMx\"]\n",
    "    FWHMy = sup_gauss_dict[\"FWHMy\"]\n",
    "    c3x = sup_gauss_dict[\"c3x\"]\n",
    "    c3y = sup_gauss_dict[\"c3y\"]\n",
    "    c5 = 2.0 * np.log(2.0)**c3\n",
    "    \n",
    "    dr = np.sqrt(x**2 + y**2)\n",
    "    alpha = np.sqrt((c3x * x / dr)**2 + (c3y * y / dr)**2)\n",
    "    intensity = np.exp(-((-x / FWHMx)**2 + (-y / FWHMy)**2)**(alpha / 2))\n",
    "    \n",
    "    return intensity"
   ]
  },
  {
   "cell_type": "code",
   "execution_count": null,
   "id": "34ab07a7-0bae-4fa4-8a94-b1f5d228f67c",
   "metadata": {
    "tags": []
   },
   "outputs": [],
   "source": [
    "def super_gaussian_shape(c0, c1, c2, c3):\n",
    "    \n",
    "    sup_gauss_dict = {}\n",
    "    sup_gauss_dict[\"c0\"] = c0\n",
    "    sup_gauss_dict[\"c1\"] = c1\n",
    "    sup_gauss_dict[\"c2\"] = c2\n",
    "    sup_gauss_dict[\"c3\"] = c3\n",
    "    \n",
    "    return sup_gauss_dict"
   ]
  },
  {
   "cell_type": "code",
   "execution_count": null,
   "id": "b26545a4-9618-4c74-b9e3-0bd3cafba00c",
   "metadata": {
    "tags": []
   },
   "outputs": [],
   "source": [
    "run_dir = \"Data\"\n",
    "num_examples = 1\n",
    "sys_params = tdg.define_system_params(run_dir)\n",
    "dataset_params, facility_spec = tdg.define_dataset_params(int(num_examples))\n",
    "num_cones = int(facility_spec['num_cones']/2) # Symmetry in top bottom hemisphere"
   ]
  },
  {
   "cell_type": "markdown",
   "id": "89c6e212-7b77-400e-b340-674389576fbe",
   "metadata": {
    "jp-MarkdownHeadingCollapsed": true,
    "tags": []
   },
   "source": [
    "## All NIF CPP"
   ]
  },
  {
   "cell_type": "code",
   "execution_count": null,
   "id": "7470460c-a095-4d41-b530-7cf7001aefb8",
   "metadata": {
    "tags": []
   },
   "outputs": [],
   "source": [
    "mesh_lim = 1.5\n",
    "num_points = 1000\n",
    "x = np.linspace(-mesh_lim, mesh_lim, num_points)\n",
    "y = np.linspace(-mesh_lim, mesh_lim, num_points)\n",
    "X, Y = np.meshgrid(x,y)\n",
    "\n",
    "c0 = [0.55273, 0.62017, 1.30020, 1.46540]\n",
    "c1 = [0.93836, 0.89096, 0.67533, 0.65491]\n",
    "c2 = [0.66859, 0.63113, 0.40627, 0.37022]\n",
    "c3 = [8.7514,  7.8105,  4.3210,  4.3427]\n",
    "\n",
    "r_a = [0.882, 0.824, 0.635, 0.593]\n",
    "r_b = [0.631, 0.590, 0.367, 0.343]\n",
    "\n",
    "fig = plt.figure()\n",
    "for icone in range(0, num_cones):\n",
    "    sup_gauss_dict = super_gaussian_shape(c0[icone], c1[icone], c2[icone], c3[icone])\n",
    "    intensity = nif_beam_spot(X, Y, sup_gauss_dict)\n",
    "    fig.add_subplot(1, 4, icone+1)\n",
    "    plt.pcolormesh(X, Y, intensity)\n",
    "    plt.gca().set_aspect('equal', adjustable='box')\n",
    "    \n",
    "    # Tom Chapman uses a r_a threshold in his data\n",
    "    #intensity_threshold = nif_beam_spot(r_a[icone], 0.0, sup_gauss_dict)\n",
    "    # This is a more correct way to do the Chapman threshold\n",
    "    #intensity_threshold = nif_beam_spot(r_a[icone]/np.sqrt(2), r_b[icone]/np.sqrt(2), sup_gauss_dict)\n",
    "    # the 1/e\n",
    "    intensity_threshold = nif_beam_spot(c1[icone]/np.sqrt(2), c2[icone]/np.sqrt(2), sup_gauss_dict)\n",
    "    \n",
    "    print(intensity_threshold, np.max(intensity), c0[icone], np.exp(-1) * c0[icone])\n",
    "\n",
    "    inside_indices = np.where(intensity > intensity_threshold)\n",
    "    \n",
    "    power_inside = np.sum(intensity[inside_indices])\n",
    "    power_total = np.sum(intensity)\n",
    "    power_fraction = power_inside / power_total\n",
    "    print(\"Ring \", icone)\n",
    "    print(\"Power fraction enclosed by threshold {:.3f}, \".format(power_fraction))\n",
    "    print(\"Area of within threshold {:.3f}, \".format(np.shape(inside_indices)[1] * (2.0 * mesh_lim / num_points)**2))\n",
    "    print(\"Area of a.b ellipse {:.3f}, \".format(np.pi * r_a[icone] * r_b[icone]))\n",
    "    print(\"Area of c1.c2 ellipse {:.3f}, \".format(np.pi * c1[icone] * c2[icone]))\n"
   ]
  },
  {
   "cell_type": "code",
   "execution_count": null,
   "id": "1075c62e-6e0b-4b71-b664-9443d5d4a870",
   "metadata": {
    "tags": []
   },
   "outputs": [],
   "source": [
    "FWHMx = [1.800, 1.700, 1.241, 1.204]\n",
    "FWHMy = [1.282, 1.204, 0.7465, 0.6805]\n",
    "\n",
    "fig = plt.figure()\n",
    "for icone in range(0, num_cones):\n",
    "    sup_gauss_dict = super_gaussian_shape(c0[icone], c1[icone], c2[icone], c3[icone])\n",
    "    sup_gauss_dict[\"FWHMx\"] = FWHMx[icone]\n",
    "    sup_gauss_dict[\"FWHMy\"] = FWHMy[icone]\n",
    "    intensity = nif_beam_spot_FWHM(X, Y, sup_gauss_dict)\n",
    "    \n",
    "    fig.add_subplot(1, 4, icone+1)\n",
    "    plt.pcolormesh(X, Y, intensity)\n",
    "    plt.gca().set_aspect('equal', adjustable='box')\n",
    "    \n",
    "    #intensity_threshold = nif_beam_spot_FWHM(FWHMx[icone]/2.0, 0.0, sup_gauss_dict)\n",
    "    intensity_threshold = nif_beam_spot_FWHM(FWHMx[icone]/2.0/np.sqrt(2), FWHMy[icone]/2.0/np.sqrt(2), sup_gauss_dict)\n",
    "    #intensity_threshold = nif_beam_spot_FWHM(2.0*FWHMx[icone]*np.log(2.0)**(1.0/c3[icone]), 0.0, sup_gauss_dict)\n",
    "    inside_indices = np.where(intensity > intensity_threshold)\n",
    "    \n",
    "    power_inside = np.sum(intensity[inside_indices])\n",
    "    power_total = np.sum(intensity)\n",
    "    power_fraction = power_inside / power_total\n",
    "    print(\"Ring \", icone)\n",
    "    print(\"Power fraction enclosed by threshold {:.3f}, \".format(power_fraction))\n",
    "    print(\"Area of within threshold {:.3f}, \".format(np.shape(inside_indices)[1] * (2.0 * mesh_lim / num_points)**2))\n",
    "    print(\"Area of FWHMx/2.FWHMy/2 ellipse {:.3f}, \".format(np.pi * FWHMx[icone]/2.0 * FWHMy[icone]/2.0))\n",
    "    "
   ]
  },
  {
   "cell_type": "markdown",
   "id": "1921a31c-39fc-4049-bd6f-d8286a23288d",
   "metadata": {
    "jp-MarkdownHeadingCollapsed": true,
    "tags": []
   },
   "source": [
    "## 23.5 deg CPP "
   ]
  },
  {
   "cell_type": "code",
   "execution_count": null,
   "id": "e0e0420e-091c-4325-aa25-9957a5f2cdd3",
   "metadata": {
    "tags": []
   },
   "outputs": [],
   "source": [
    "\n",
    "x = np.linspace(-2,2,1000)\n",
    "y = np.linspace(-2,2,1000)\n",
    "X, Y = np.meshgrid(x,y)\n",
    "\n",
    "c0 = 0.55273\n",
    "c1 = 0.93836\n",
    "c2 = 0.66859\n",
    "c3 = 8.7514\n",
    "\n",
    "r_a = 0.882\n",
    "r_b = 0.631\n",
    "\n",
    "sup_gauss_dict = super_gaussian_shape(c0, c1, c2, c3)\n",
    "intensity = nif_beam_spot(x, 0.0, sup_gauss_dict)\n",
    "plt.figure()\n",
    "plt.plot(x,intensity)\n",
    "\n",
    "intensity = nif_beam_spot(X, Y, sup_gauss_dict)\n",
    "plt.figure()\n",
    "plt.pcolormesh(X, Y, intensity)\n",
    "plt.gca().set_aspect('equal', adjustable='box')\n",
    "\n",
    "intensity_threshold = nif_beam_spot(c1, 0.0, sup_gauss_dict)\n",
    "intensity_threshold = nif_beam_spot(c1/np.sqrt(2), c2/np.sqrt(2), sup_gauss_dict)\n",
    "intensity_threshold = nif_beam_spot(r_a, 0.0, sup_gauss_dict)\n",
    "print(intensity_threshold)\n",
    "print(nif_beam_spot(0.0, c2, sup_gauss_dict))\n",
    "\n",
    "inside_indices = np.where(intensity > intensity_threshold)\n",
    "print(np.shape(inside_indices))\n",
    "power_inside = np.sum(intensity[inside_indices])\n",
    "power_total = np.sum(intensity)\n",
    "power_fraction = power_inside / power_total\n",
    "print(power_fraction)\n",
    "\n",
    "intensity[inside_indices] = 0.0\n",
    "plt.figure()\n",
    "plt.pcolormesh(X, Y, intensity)\n",
    "plt.gca().set_aspect('equal', adjustable='box')\n"
   ]
  },
  {
   "cell_type": "markdown",
   "id": "9668bdd7-9168-4fdf-9e45-34d33f5a4e75",
   "metadata": {
    "jp-MarkdownHeadingCollapsed": true,
    "tags": []
   },
   "source": [
    "## LMJ-A CPP "
   ]
  },
  {
   "cell_type": "code",
   "execution_count": null,
   "id": "30d31bbb-26ba-4fe3-bb8b-71a93f0114cf",
   "metadata": {
    "tags": []
   },
   "outputs": [],
   "source": [
    "mesh_lim = 1.0\n",
    "num_points = 1000\n",
    "x = np.linspace(-mesh_lim, mesh_lim, num_points)\n",
    "y = np.linspace(-mesh_lim, mesh_lim, num_points)\n",
    "X, Y = np.meshgrid(x,y)\n",
    "\n",
    "c0 = np.array([1.0])     # Guess\n",
    "c1 = np.array([0.435]) # Guess\n",
    "c2 = np.array([0.225]) # Guess\n",
    "c3 = np.array([2.4])  # Guess\n",
    "\n",
    "r_a = np.array([0.435]) # Guess\n",
    "r_b = np.array([0.225])  # Guess\n",
    "\n",
    "icone = 0\n",
    "\n",
    "sup_gauss_dict = super_gaussian_shape(c0, c1, c2, c3)\n",
    "intensity = nif_beam_spot(x, 0.0, sup_gauss_dict)\n",
    "plt.figure()\n",
    "plt.plot(x,intensity)\n",
    "plt.xlabel(\"Width (mm)\")\n",
    "plt.ylabel(\"Intensity ($1/I_{max}$)\")\n",
    "plt.savefig('LMJ_spot_type_A_cross_section', dpi=300, bbox_inches='tight')\n",
    "intensity_old_def = intensity\n",
    "\n",
    "intensity = nif_beam_spot(X, Y, sup_gauss_dict)\n",
    "plt.figure()\n",
    "plt.pcolormesh(X, Y, intensity)\n",
    "plt.xlabel(\"Width (mm)\")\n",
    "plt.ylabel(\"Length (mm)\")\n",
    "plt.gca().set_aspect('equal', adjustable='box')\n",
    "plt.savefig('LMJ_spot_type_A_spot', dpi=300, bbox_inches='tight')\n",
    "\n",
    "sup_gauss_dict = super_gaussian_shape(c0[icone], c1[icone], c2[icone], c3[icone])\n",
    "intensity = nif_beam_spot(X, Y, sup_gauss_dict)\n",
    "    \n",
    "intensity_threshold = nif_beam_spot(c1[icone]/np.sqrt(2), c2[icone]/np.sqrt(2), sup_gauss_dict)\n",
    "    \n",
    "print(intensity_threshold, np.max(intensity), c0[icone], np.exp(-1) * c0[icone])\n",
    "intensity_threshold = 0.13 * np.max(intensity)\n",
    "\n",
    "inside_indices = np.where(intensity > intensity_threshold)\n",
    "    \n",
    "power_inside = np.sum(intensity[inside_indices])\n",
    "power_total = np.sum(intensity)\n",
    "power_fraction = power_inside / power_total\n",
    "print(\"Power fraction enclosed by threshold {:.3f}, \".format(power_fraction))\n",
    "print(\"Area of within threshold {:.3f}, \".format(np.shape(inside_indices)[1] * (2.0 * mesh_lim / num_points)**2))\n",
    "print(\"Area of a.b ellipse {:.3f}, \".format(np.pi * r_a[icone] * r_b[icone]))\n",
    "print(\"Area of c1.c2 ellipse {:.3f}, \".format(np.pi * c1[icone] * c2[icone]))\n"
   ]
  },
  {
   "cell_type": "code",
   "execution_count": null,
   "id": "734d12a5-467f-4d1b-bbfd-617b390248aa",
   "metadata": {
    "tags": []
   },
   "outputs": [],
   "source": [
    "# Mike Belyaev's method\n",
    "icone = 0\n",
    "c0 = np.array([1.0])     # Guess\n",
    "c1 = np.array([0.435]) # Guess\n",
    "c2 = np.array([0.225]) # Guess\n",
    "c3 = np.array([2.7])\n",
    "\n",
    "FWHMx = [0.435]\n",
    "FWHMy = [0.225]\n",
    "print(FWHMx[0] / np.cos(59*np.pi/180.0)) # Circular spot at 59degrees from LEH\n",
    "\n",
    "sup_gauss_dict = super_gaussian_shape(c0[icone], c1[icone], c2[icone], c3[icone])\n",
    "sup_gauss_dict[\"FWHMx\"] = FWHMx[icone]\n",
    "sup_gauss_dict[\"FWHMy\"] = FWHMy[icone]\n",
    "\n",
    "mesh_lim = 1.1\n",
    "num_points = 1000\n",
    "x = np.linspace(-mesh_lim, mesh_lim, num_points)\n",
    "y = np.linspace(-mesh_lim, mesh_lim, num_points)\n",
    "X, Y = np.meshgrid(x,y)\n",
    "\n",
    "intensity = nif_beam_spot_FWHM_mike(x, 0.0, sup_gauss_dict)\n",
    "plt.figure()\n",
    "plt.plot(x,intensity)\n",
    "plt.xlabel(\"Width (mm)\")\n",
    "plt.ylabel(\"Intensity ($1/I_{max}$)\")\n",
    "plt.savefig('LMJ_spot_type_A_cross_section', dpi=300, bbox_inches='tight')\n",
    "intensity_single_order_x = intensity\n",
    "\n",
    "intensity = nif_beam_spot_FWHM_mike(0.0, y, sup_gauss_dict)\n",
    "plt.figure()\n",
    "plt.plot(x,intensity)\n",
    "plt.xlabel(\"Width (mm)\")\n",
    "plt.ylabel(\"Intensity ($1/I_{max}$)\")\n",
    "plt.savefig('LMJ_spot_type_A_cross_section', dpi=300, bbox_inches='tight')\n",
    "intensity_single_order_y = intensity\n",
    "\n",
    "intensity = nif_beam_spot_FWHM_mike(X, Y, sup_gauss_dict)\n",
    "plt.figure()\n",
    "plt.pcolormesh(X, Y, intensity)\n",
    "plt.xlabel(\"Width (mm)\")\n",
    "plt.ylabel(\"Length (mm)\")\n",
    "plt.gca().set_aspect('equal', adjustable='box')\n",
    "plt.savefig('LMJ_spot_type_A_spot', dpi=300, bbox_inches='tight')"
   ]
  },
  {
   "cell_type": "code",
   "execution_count": null,
   "id": "34fb272f-69a0-403b-8d77-3472e3d40de9",
   "metadata": {
    "tags": []
   },
   "outputs": [],
   "source": [
    "# Xavier's method\n",
    "icone = 0\n",
    "c0 = np.array([1.0])     # Guess\n",
    "c1 = np.array([0.435]) # Guess\n",
    "c2 = np.array([0.225]) # Guess\n",
    "c3 = np.array([0.0])\n",
    "c3x = np.array([3.0])\n",
    "c3y = np.array([2.4])\n",
    "\n",
    "FWHMx = [0.435]\n",
    "FWHMy = [0.225]\n",
    "print(FWHMx[0] / np.cos(59*np.pi/180.0)) # Circular spot at 59degrees from LEH\n",
    "\n",
    "sup_gauss_dict = super_gaussian_shape(c0[icone], c1[icone], c2[icone], c3[icone])\n",
    "sup_gauss_dict[\"FWHMx\"] = FWHMx[icone]\n",
    "sup_gauss_dict[\"FWHMy\"] = FWHMy[icone]\n",
    "sup_gauss_dict[\"c3x\"] = c3x[icone]\n",
    "sup_gauss_dict[\"c3y\"] = c3y[icone]\n",
    "\n",
    "mesh_lim = 1.0\n",
    "num_points = 1000\n",
    "x = np.linspace(-mesh_lim, mesh_lim, num_points)\n",
    "y = np.linspace(-mesh_lim, mesh_lim, num_points)\n",
    "X, Y = np.meshgrid(x,y)\n",
    "\n",
    "intensity = nif_beam_spot_FWHM_xavier(x, 0.0, sup_gauss_dict)\n",
    "plt.figure()\n",
    "plt.plot(x,intensity)\n",
    "plt.plot(x,intensity_single_order_x)\n",
    "plt.xlabel(\"Width (mm)\")\n",
    "plt.ylabel(\"Intensity ($1/I_{max}$)\")\n",
    "plt.savefig('LMJ_spot_type_A_cross_section', dpi=300, bbox_inches='tight')\n",
    "\n",
    "intensity = nif_beam_spot_FWHM_xavier(0.0, y, sup_gauss_dict)\n",
    "plt.figure()\n",
    "plt.plot(x,intensity)\n",
    "plt.plot(x,intensity_single_order_y)\n",
    "plt.xlabel(\"Width (mm)\")\n",
    "plt.ylabel(\"Intensity ($1/I_{max}$)\")\n",
    "plt.savefig('LMJ_spot_type_A_cross_section', dpi=300, bbox_inches='tight')\n",
    "\n",
    "intensity = nif_beam_spot_FWHM_xavier(X, Y, sup_gauss_dict)\n",
    "plt.figure()\n",
    "plt.pcolormesh(X, Y, intensity)\n",
    "plt.xlabel(\"Width (mm)\")\n",
    "plt.ylabel(\"Length (mm)\")\n",
    "plt.gca().set_aspect('equal', adjustable='box')\n",
    "plt.savefig('LMJ_spot_type_A_spot', dpi=300, bbox_inches='tight')"
   ]
  },
  {
   "cell_type": "markdown",
   "id": "8eee166f-969d-4bf9-a1b4-f8d3d386d9b5",
   "metadata": {
    "jp-MarkdownHeadingCollapsed": true,
    "tags": []
   },
   "source": [
    "## LMJ-A CPP, quadsplitting"
   ]
  },
  {
   "cell_type": "code",
   "execution_count": null,
   "id": "13754940-297e-4809-b653-921726a71066",
   "metadata": {},
   "outputs": [],
   "source": [
    "x_offset = 0.31\n",
    "y_offset = 0.16\n",
    "\n",
    "mesh_lim = 2.0\n",
    "num_points = 1000\n",
    "x = np.linspace(-mesh_lim, mesh_lim, num_points)\n",
    "y = np.linspace(-mesh_lim, mesh_lim, num_points)\n",
    "X, Y = np.meshgrid(x,y)\n",
    "\n",
    "# Xavier's method\n",
    "icone = 0\n",
    "c0 = np.array([1.0])     # Guess\n",
    "c1 = np.array([0.435]) # Guess\n",
    "c2 = np.array([0.225]) # Guess\n",
    "c3 = np.array([2.7])\n",
    "\n",
    "FWHMx = [0.435]\n",
    "FWHMy = [0.225]\n",
    "print(FWHMx[0] / np.cos(59*np.pi/180.0)) # Circular spot at 59degrees from LEH\n",
    "\n",
    "sup_gauss_dict = super_gaussian_shape(c0[icone], c1[icone], c2[icone], c3[icone])\n",
    "sup_gauss_dict[\"FWHMx\"] = FWHMx[icone]\n",
    "sup_gauss_dict[\"FWHMy\"] = FWHMy[icone]\n",
    "\n",
    "intensity_sup_pos1 = nif_beam_spot_FWHM_mike(x+x_offset, 0.0-y_offset, sup_gauss_dict)\n",
    "intensity_sup_pos2 = nif_beam_spot_FWHM_mike(x-x_offset, 0.0-y_offset, sup_gauss_dict)\n",
    "intensity_sup_pos3 = nif_beam_spot_FWHM_mike(x+x_offset, 0.0+y_offset, sup_gauss_dict)\n",
    "intensity_sup_pos4 = nif_beam_spot_FWHM_mike(x-x_offset, 0.0+y_offset, sup_gauss_dict)\n",
    "intensity = intensity_sup_pos1 + intensity_sup_pos2 + intensity_sup_pos3 + intensity_sup_pos4\n",
    "plt.figure()\n",
    "plt.plot(x,intensity)\n",
    "plt.xlabel(\"Width (mm)\")\n",
    "plt.ylabel(\"Intensity ($1/I_{max}$)\")\n",
    "plt.savefig('LMJ_spot_type_A_quad_splitting', dpi=300, bbox_inches='tight')\n",
    "\n",
    "intensity_sup_pos1 = nif_beam_spot_FWHM_mike(0.0+x_offset, y-y_offset, sup_gauss_dict)\n",
    "intensity_sup_pos2 = nif_beam_spot_FWHM_mike(0.0-x_offset, y-y_offset, sup_gauss_dict)\n",
    "intensity_sup_pos3 = nif_beam_spot_FWHM_mike(0.0+x_offset, y+y_offset, sup_gauss_dict)\n",
    "intensity_sup_pos4 = nif_beam_spot_FWHM_mike(0.0-x_offset, y+y_offset, sup_gauss_dict)\n",
    "intensity = intensity_sup_pos1 + intensity_sup_pos2 + intensity_sup_pos3 + intensity_sup_pos4\n",
    "plt.figure()\n",
    "plt.plot(x,intensity)\n",
    "plt.xlabel(\"Width (mm)\")\n",
    "plt.ylabel(\"Intensity ($1/I_{max}$)\")\n",
    "plt.savefig('LMJ_spot_type_A_quad_splitting', dpi=300, bbox_inches='tight')\n",
    "\n",
    "intensity_sup_pos1 = nif_beam_spot_FWHM_mike(X+x_offset, Y-y_offset, sup_gauss_dict)\n",
    "intensity_sup_pos2 = nif_beam_spot_FWHM_mike(X-x_offset, Y-y_offset, sup_gauss_dict)\n",
    "intensity_sup_pos3 = nif_beam_spot_FWHM_mike(X+x_offset, Y+y_offset, sup_gauss_dict)\n",
    "intensity_sup_pos4 = nif_beam_spot_FWHM_mike(X-x_offset, Y+y_offset, sup_gauss_dict)\n",
    "intensity = intensity_sup_pos1 + intensity_sup_pos2 + intensity_sup_pos3 + intensity_sup_pos4\n",
    "plt.figure()\n",
    "plt.pcolormesh(X, Y, intensity)\n",
    "plt.xlabel(\"Width (mm)\")\n",
    "plt.ylabel(\"Length (mm)\")\n",
    "plt.gca().set_aspect('equal', adjustable='box')\n",
    "plt.savefig('LMJ_spot_type_A_spot', dpi=300, bbox_inches='tight')"
   ]
  },
  {
   "cell_type": "markdown",
   "id": "c1e04be0-dff1-4c79-a184-b319c8db9015",
   "metadata": {
    "jp-MarkdownHeadingCollapsed": true,
    "tags": []
   },
   "source": [
    "## LMJ-A CPP, quadsplitting, defocused 20mm"
   ]
  },
  {
   "cell_type": "code",
   "execution_count": null,
   "id": "ffba6ac0-134f-4c4a-a510-483ccea84ba4",
   "metadata": {
    "tags": []
   },
   "outputs": [],
   "source": [
    "# Mike Belyaev's method\n",
    "icone = 0\n",
    "c0 = np.array([1.0])     # Guess\n",
    "c1 = np.array([0.600]) # Guess\n",
    "c2 = np.array([0.400]) # Guess\n",
    "c3 = np.array([2.7])\n",
    "\n",
    "FWHMx = [0.600]\n",
    "FWHMy = [0.400]\n",
    "print(FWHMx[0] / np.cos(59*np.pi/180.0)) # Circular spot at 59degrees from LEH\n",
    "\n",
    "sup_gauss_dict = super_gaussian_shape(c0[icone], c1[icone], c2[icone], c3[icone])\n",
    "sup_gauss_dict[\"FWHMx\"] = FWHMx[icone]\n",
    "sup_gauss_dict[\"FWHMy\"] = FWHMy[icone]\n",
    "\n",
    "x_offset = 0.43\n",
    "y_offset = 0.28\n",
    "\n",
    "mesh_lim = 2.0\n",
    "num_points = 1000\n",
    "x = np.linspace(-mesh_lim, mesh_lim, num_points)\n",
    "y = np.linspace(-mesh_lim, mesh_lim, num_points)\n",
    "X, Y = np.meshgrid(x,y)\n",
    "\n",
    "intensity_sup_pos1 = nif_beam_spot_FWHM_mike(x+x_offset, 0.0-y_offset, sup_gauss_dict)\n",
    "intensity_sup_pos2 = nif_beam_spot_FWHM_mike(x-x_offset, 0.0-y_offset, sup_gauss_dict)\n",
    "intensity_sup_pos3 = nif_beam_spot_FWHM_mike(x+x_offset, 0.0+y_offset, sup_gauss_dict)\n",
    "intensity_sup_pos4 = nif_beam_spot_FWHM_mike(x-x_offset, 0.0+y_offset, sup_gauss_dict)\n",
    "intensity = intensity_sup_pos1 + intensity_sup_pos2 + intensity_sup_pos3 + intensity_sup_pos4\n",
    "plt.figure()\n",
    "plt.plot(x,intensity)\n",
    "plt.xlabel(\"Width (mm)\")\n",
    "plt.ylabel(\"Intensity ($1/I_{max}$)\")\n",
    "plt.savefig('LMJ_spot_type_A_quad_splitting', dpi=300, bbox_inches='tight')\n",
    "\n",
    "intensity_sup_pos1 = nif_beam_spot_FWHM_mike(0.0+x_offset, y-y_offset, sup_gauss_dict)\n",
    "intensity_sup_pos2 = nif_beam_spot_FWHM_mike(0.0-x_offset, y-y_offset, sup_gauss_dict)\n",
    "intensity_sup_pos3 = nif_beam_spot_FWHM_mike(0.0+x_offset, y+y_offset, sup_gauss_dict)\n",
    "intensity_sup_pos4 = nif_beam_spot_FWHM_mike(0.0-x_offset, y+y_offset, sup_gauss_dict)\n",
    "intensity = intensity_sup_pos1 + intensity_sup_pos2 + intensity_sup_pos3 + intensity_sup_pos4\n",
    "plt.figure()\n",
    "plt.plot(x,intensity)\n",
    "plt.xlabel(\"Width (mm)\")\n",
    "plt.ylabel(\"Intensity ($1/I_{max}$)\")\n",
    "plt.savefig('LMJ_spot_type_A_quad_splitting', dpi=300, bbox_inches='tight')\n",
    "\n",
    "intensity_sup_pos1 = nif_beam_spot_FWHM_mike(X+x_offset, Y-y_offset, sup_gauss_dict)\n",
    "intensity_sup_pos2 = nif_beam_spot_FWHM_mike(X-x_offset, Y-y_offset, sup_gauss_dict)\n",
    "intensity_sup_pos3 = nif_beam_spot_FWHM_mike(X+x_offset, Y+y_offset, sup_gauss_dict)\n",
    "intensity_sup_pos4 = nif_beam_spot_FWHM_mike(X-x_offset, Y+y_offset, sup_gauss_dict)\n",
    "intensity = intensity_sup_pos1 + intensity_sup_pos2 + intensity_sup_pos3 + intensity_sup_pos4\n",
    "plt.figure()\n",
    "plt.pcolormesh(X, Y, intensity)\n",
    "plt.xlabel(\"Width (mm)\")\n",
    "plt.ylabel(\"Length (mm)\")\n",
    "plt.gca().set_aspect('equal', adjustable='box')\n",
    "plt.savefig('LMJ_spot_type_A_spot', dpi=300, bbox_inches='tight')"
   ]
  },
  {
   "cell_type": "markdown",
   "id": "561e47b7-df8b-49ac-9827-101af82d99d7",
   "metadata": {
    "jp-MarkdownHeadingCollapsed": true,
    "tags": []
   },
   "source": [
    "# Check Polar Coord Generation"
   ]
  },
  {
   "cell_type": "code",
   "execution_count": null,
   "id": "f1ed2582-f808-480a-9a44-6880ae36e583",
   "metadata": {},
   "outputs": [],
   "source": [
    "import healpy_pointings as hpoint"
   ]
  },
  {
   "cell_type": "code",
   "execution_count": null,
   "id": "2c70a6b7-a902-4c6f-a80c-fd7740760028",
   "metadata": {},
   "outputs": [],
   "source": [
    "nr = 10000\n",
    "\n",
    "x = np.random.rand(nr) * 2.0 - 1.0\n",
    "y = np.random.rand(nr) * 2.0 - 1.0\n",
    "theta_max = np.pi / 4.0\n",
    "\n",
    "cart_x_coords = np.zeros((nr))\n",
    "cart_y_coords = np.zeros((nr))\n",
    "polar_p_coords = np.zeros((nr))\n",
    "polar_t_coords = np.zeros((nr))\n",
    "for ir in range(nr):\n",
    "    cart_x_coords[ir] = x[ir]\n",
    "    cart_y_coords[ir] = y[ir]\n",
    "\n",
    "    r, offset_phi = hpoint.square2disk(x[ir], y[ir])\n",
    "    offset_theta = theta_max * r\n",
    "\n",
    "    polar_p_coords[ir] = offset_phi\n",
    "    polar_t_coords[ir] = offset_theta\n",
    "\n",
    "X = cart_x_coords\n",
    "Y = cart_y_coords\n",
    "\n",
    "fig = plt.figure()\n",
    "plt.plot(X,Y,\"*\")\n",
    "\n",
    "print(np.min(polar_p_coords))\n",
    "print(np.max(polar_p_coords))\n",
    "\n",
    "U = np.degrees(polar_t_coords * np.cos(polar_p_coords))\n",
    "V = np.degrees(polar_t_coords * np.sin(polar_p_coords))\n",
    "\n",
    "fig1 = plt.figure()\n",
    "plt.plot(U,V,\"*\")"
   ]
  },
  {
   "cell_type": "code",
   "execution_count": null,
   "id": "be455f8c-4ea8-4881-b2df-462e7c88f2d2",
   "metadata": {},
   "outputs": [],
   "source": [
    "nx = 50\n",
    "ny = 50\n",
    "\n",
    "x = np.linspace(-1, 1, nx)\n",
    "y = np.linspace(-1, 1, ny)\n",
    "theta_max = np.pi / 4.0\n",
    "\n",
    "cart_x_coords = np.zeros((nx,ny))\n",
    "cart_y_coords = np.zeros((nx,ny))\n",
    "polar_p_coords = np.zeros((nx,ny))\n",
    "polar_t_coords = np.zeros((nx,ny))\n",
    "for ix in range(nx):\n",
    "    for iy in range(ny):\n",
    "        cart_x_coords[ix,iy] = x[ix]\n",
    "        cart_y_coords[ix,iy] = y[iy]\n",
    "        \n",
    "        r, offset_phi = hpoint.square2disk(x[ix], y[iy])\n",
    "        offset_theta = theta_max * r\n",
    "        \n",
    "        polar_p_coords[ix,iy] = offset_phi\n",
    "        polar_t_coords[ix,iy] = offset_theta\n",
    "\n",
    "X = cart_x_coords.flatten()\n",
    "Y = cart_y_coords.flatten()\n",
    "\n",
    "fig = plt.figure()\n",
    "plt.plot(X,Y,\"*\")\n",
    "\n",
    "phi = polar_p_coords.flatten()\n",
    "theta = polar_t_coords.flatten()\n",
    "U = np.degrees(theta * np.cos(phi))\n",
    "V = np.degrees(theta * np.sin(phi))\n",
    "\n",
    "fig1 = plt.figure()\n",
    "plt.plot(U,V,\"*\")"
   ]
  },
  {
   "cell_type": "markdown",
   "id": "bb279fd2-8b48-4aa9-aed9-4c3b26e8e6b8",
   "metadata": {
    "jp-MarkdownHeadingCollapsed": true,
    "tags": []
   },
   "source": [
    "# Neural Network"
   ]
  },
  {
   "cell_type": "code",
   "execution_count": null,
   "id": "de6da9c7-8191-482e-b0ab-d13f829a9c77",
   "metadata": {},
   "outputs": [],
   "source": [
    "import neural_network_generation as nng\n",
    "num_epochs = 20\n",
    "num_nn = 1\n",
    "use_final_sigmoid = 1"
   ]
  },
  {
   "cell_type": "code",
   "execution_count": null,
   "id": "40bdaf13-ba04-4d45-9497-eeed75253eba",
   "metadata": {},
   "outputs": [],
   "source": [
    "nn_params, nn_dataset, sys_params, nn_hyperparams = nng.main((_, run_dir, num_epochs, num_nn, use_final_sigmoid))"
   ]
  },
  {
   "cell_type": "code",
   "execution_count": null,
   "id": "ca83dee1-93b7-441b-b51d-3edb0ff82602",
   "metadata": {},
   "outputs": [],
   "source": [
    "fig = plt.figure()\n",
    "ax1 = plt.axes()\n",
    "ax1.plot(nn_hyperparams[\"initialize_seed\"], nn_hyperparams[\"test_acc\"], \"x\")\n",
    "ax1.set_ylabel('Absolute Test Accuracy')\n",
    "ax1.set_xlabel('Neural Network Random Seed')"
   ]
  },
  {
   "cell_type": "markdown",
   "id": "02ea891e-857c-41f2-a1b2-f8bf873ee386",
   "metadata": {
    "jp-MarkdownHeadingCollapsed": true,
    "tags": []
   },
   "source": [
    "## Compare NN"
   ]
  },
  {
   "cell_type": "code",
   "execution_count": null,
   "id": "baf11021-9c18-421d-9373-d4ee4f9a22e2",
   "metadata": {},
   "outputs": [],
   "source": [
    "import netcdf_read_write as nrw"
   ]
  },
  {
   "cell_type": "code",
   "execution_count": null,
   "id": "19ce9079-4973-47ee-90a4-d0b976b7f377",
   "metadata": {},
   "outputs": [],
   "source": [
    "filename_hyperparams = nn_params[\"dir_nn_weights\"] + \"/\" + nn_params[\"filename_hyperparams\"]\n",
    "nn_hyperparams = nrw.read_nn_weights(filename_hyperparams)\n",
    "\n",
    "fig = plt.figure()\n",
    "ax1 = plt.axes()\n",
    "ax1.plot(nn_hyperparams[\"initialize_seed\"], nn_hyperparams[\"test_acc\"], \"x\")\n",
    "ax1.set_ylabel('Absolute Test Accuracy')\n",
    "ax1.set_xlabel('Random Seed')"
   ]
  },
  {
   "cell_type": "markdown",
   "id": "262af551-6a7e-4f2b-8984-2b9bc03a346a",
   "metadata": {
    "jp-MarkdownHeadingCollapsed": true,
    "tags": []
   },
   "source": [
    "## Compare NN accuracy from weights"
   ]
  },
  {
   "cell_type": "code",
   "execution_count": null,
   "id": "cfc20971-38c5-4f6d-92b6-0e5d88888043",
   "metadata": {},
   "outputs": [],
   "source": [
    "import tf_neural_network as tfnn\n",
    "import netcdf_read_write as nrw\n",
    "import neural_network_generation as nng"
   ]
  },
  {
   "cell_type": "code",
   "execution_count": null,
   "id": "bc40e807-b330-4193-a955-8a030efc408b",
   "metadata": {},
   "outputs": [],
   "source": [
    "num_nn = 1"
   ]
  },
  {
   "cell_type": "code",
   "execution_count": null,
   "id": "93b05412-ffe3-435b-9265-afc09868a1a8",
   "metadata": {},
   "outputs": [],
   "source": [
    "initialize_seed = np.arange(num_nn)\n",
    "test_acc = np.zeros(num_nn)\n",
    "\n",
    "sys_params = tdg.define_system_params(run_dir)\n",
    "X_all, Y_all, avg_powers_all = nrw.import_training_data(sys_params)\n",
    "\n",
    "nn_params = nng.define_nn_params(num_nn)\n",
    "filename_hyperparams = nn_params[\"dir_nn_weights\"] + \"/\" + nn_params[\"filename_hyperparams\"]\n",
    "nn_hyperparams = nrw.read_nn_weights(filename_hyperparams)\n",
    "\n",
    "for inn in range(num_nn):\n",
    "    nn_dataset = nng.seperate_test_set(X_all, Y_all, avg_powers_all, nn_params)\n",
    "    nn_dataset = nng.normalise(nn_dataset, mean=nn_hyperparams[\"mu\"][inn], std_dev=nn_hyperparams[\"sigma\"][inn])\n",
    "    nn_weights = nrw.read_nn_weights(nn_params[\"dir_nn_weights\"] + \"/\" + \"NN\" + str(inn))\n",
    "    y_pred = tfnn.apply_network(nn_dataset[\"X_test\"], nn_weights, nn_hyperparams[\"use_final_sigmoid\"][inn])\n",
    "    test_acc[inn] = np.mean(np.abs(nn_dataset[\"Y_test\"] - y_pred.T))\n",
    "\n",
    "fig = plt.figure()\n",
    "ax1 = plt.axes()\n",
    "ax1.plot(initialize_seed, test_acc, \"x\")\n",
    "ax1.set_ylabel('Absolute Test Accuracy')\n",
    "ax1.set_xlabel('Neural Network Random Seed')\n",
    "plt.savefig(sys_params[\"figure_location\"]+\"/Compare_NN\" + sys_params[\"plot_file_type\"], dpi=300, bbox_inches='tight')"
   ]
  },
  {
   "cell_type": "markdown",
   "id": "5b51179e-499f-4223-966d-197c700663c5",
   "metadata": {
    "jp-MarkdownHeadingCollapsed": true,
    "tags": []
   },
   "source": [
    "## Run Prediction Through Ifriit"
   ]
  },
  {
   "cell_type": "code",
   "execution_count": null,
   "id": "be8a7bf3-10c4-486c-90a8-b724d9b9f717",
   "metadata": {},
   "outputs": [],
   "source": [
    "import matplotlib.pyplot as plt\n",
    "import healpy as hp\n",
    "import tf_neural_network as tfnn\n",
    "import netcdf_read_write as nrw\n",
    "import utils_deck_generation as idg\n",
    "import training_data_generation as tdg\n",
    "import utils_intensity_map as uim\n",
    "import neural_network_generation as nng\n",
    "%matplotlib inline\n",
    "num_epochs = 10"
   ]
  },
  {
   "cell_type": "code",
   "execution_count": null,
   "id": "1692c090-ec2a-4393-ab0e-eade2a85348c",
   "metadata": {},
   "outputs": [],
   "source": [
    "run_dir = \"Data\"\n",
    "test_pred_dir = \"Data_test_pred_1\"\n",
    "\n",
    "# choose neural network\n",
    "inn = 0\n",
    "num_nn = 1\n",
    "nn_params = nng.define_nn_params(num_nn)\n",
    "nn_weights = nrw.read_nn_weights(nn_params[\"dir_nn_weights\"] + \"/\" + \"NN\" + str(inn))\n",
    "filename_hyperparams = nn_params[\"dir_nn_weights\"] + \"/\" + nn_params[\"filename_hyperparams\"]\n",
    "nn_hyperparams = nrw.read_nn_weights(filename_hyperparams)\n",
    "\n",
    "# choose test data set\n",
    "sys_params = tdg.define_system_params(run_dir)\n",
    "X_all, Y_all, avg_powers_all = nrw.import_training_data(sys_params)\n",
    "nn_params = nng.define_nn_params(num_nn)\n",
    "nn_params[\"use_test_set\"] = False\n",
    "nn_dataset = nng.seperate_test_set(X_all, Y_all, avg_powers_all, nn_params)\n",
    "\n",
    "nn_dataset = nng.normalise(nn_dataset, mean=nn_hyperparams[\"mu\"][inn], std_dev=nn_hyperparams[\"sigma\"][inn])\n",
    "dataset_params, facility_spec = tdg.define_dataset_params(nn_params[\"num_examples\"])\n",
    "LMAX = dataset_params[\"LMAX\"]\n",
    "dataset_params[\"Y_train\"] = nn_dataset[\"Y_train\"].T\n",
    "dataset_params[\"X_train\"] = nn_dataset[\"X_train\"].T\n",
    "ifriit_inputs_true = Y_all\n",
    "modes_true_all = X_all\n",
    "\n",
    "# Change the number of modes to LMAX\n",
    "modes_true = nng.change_number_modes(modes_true_all, avg_powers_all, LMAX)\n",
    "\n",
    "# apply neural net to test set\n",
    "sys_params = tdg.define_system_params(test_pred_dir)\n",
    "ifriit_inputs_pred = tfnn.apply_network(nn_dataset[\"X_train\"], nn_weights, nn_hyperparams[\"use_final_sigmoid\"][inn])\n",
    "dataset_params[\"Y_train\"] = ifriit_inputs_pred\n",
    "\n",
    "mean_true_val = np.mean(ifriit_inputs_true)\n",
    "print(\"The absolute error is: \", np.mean(np.abs(ifriit_inputs_true - ifriit_inputs_pred)))\n",
    "print(\"The percentage error relative to the mean is: \", np.mean((np.abs(ifriit_inputs_true - ifriit_inputs_pred))) / mean_true_val * 100, \"%\")\n",
    "\n",
    "abs_error = np.mean(np.abs(ifriit_inputs_true - ifriit_inputs_pred), axis=1)\n",
    "rel_error = np.mean(np.abs(ifriit_inputs_true - ifriit_inputs_pred)/ ifriit_inputs_true , axis=1) * 100\n",
    "print(np.shape(abs_error))\n",
    "print(abs_error)\n",
    "print(rel_error)\n",
    "\n",
    "for icone in range(4):\n",
    "    print(\"Cone \", icone+1, \" error: {:.2f}%\".format(np.sum(abs_error[slice(icone,16,4)]) / 4.0 * 100.0 / mean_true_val))\n",
    "\n",
    "parameter_names = [\"offset_theta\", \"offset_phi\", \"cone_defocus\", \"cone_power\"]\n",
    "for icone in range(4):\n",
    "    print(parameter_names[icone], \" error: {:.2f}%\".format(np.sum(abs_error[icone*4:(icone+1)*4]) / 4.0 * 100.0 / mean_true_val))"
   ]
  },
  {
   "cell_type": "code",
   "execution_count": null,
   "id": "c36284a2-24ef-4e1e-9f23-43ef55cff211",
   "metadata": {},
   "outputs": [],
   "source": [
    "# Create new run files\n",
    "sys_params[\"run_clean\"] = False\n",
    "dataset_params = idg.create_run_files(dataset_params, sys_params, facility_spec)\n",
    "tdg.generate_training_data(dataset_params, sys_params, facility_spec)"
   ]
  },
  {
   "cell_type": "code",
   "execution_count": null,
   "id": "37fd5975-6f37-49d6-bace-6d560fe49149",
   "metadata": {},
   "outputs": [],
   "source": [
    "sys_params = tdg.define_system_params(test_pred_dir)\n",
    "num_nn = 1\n",
    "X_all, Y_all, avg_powers_all = nrw.import_training_data(sys_params)\n",
    "modes_pred = uim.change_number_modes(X_all, avg_powers_all, LMAX)\n",
    "\n",
    "mean_val_true = np.mean(np.abs(modes_true))\n",
    "print(\"The absolute error is: \", np.mean(np.abs(modes_true - modes_pred)))\n",
    "print(\"Guessing zero for all modes gives error: \", np.mean(np.abs(modes_true)))\n",
    "print(\"The percentage relative error is: \", np.mean(np.abs(modes_true - modes_pred) / modes_true) * 100.0, \"%\")\n",
    "\n",
    "abs_error = np.mean(np.abs(modes_true - modes_pred), axis=1)\n",
    "rel_error = np.mean(np.abs(modes_true - modes_pred) / modes_true, axis=1) * 100.0\n",
    "print(np.shape(abs_error))\n",
    "print(abs_error)\n",
    "print(rel_error)\n",
    "\n",
    "fig = plt.figure()\n",
    "ax = plt.axes()\n",
    "plt.plot(abs_error)\n",
    "plt.xlabel(\"Mode\")\n",
    "plt.ylabel(\"Average Absolute Error\")\n",
    "plt.savefig(sys_params[\"figure_location\"]+'/absolute_error_averaged_'+ str(nn_params[\"num_examples\"]) +\"ex\" + sys_params[\"plot_file_type\"], dpi=300, bbox_inches='tight')"
   ]
  },
  {
   "cell_type": "markdown",
   "id": "7ded1b73-8762-43d2-9dd8-e85c084d96be",
   "metadata": {
    "jp-MarkdownHeadingCollapsed": true,
    "tags": []
   },
   "source": [
    "## Automate Finding Minima"
   ]
  },
  {
   "cell_type": "code",
   "execution_count": null,
   "id": "9abd6b05-c5dc-494b-9602-14d43327d599",
   "metadata": {},
   "outputs": [],
   "source": [
    "test_pred_dir = \"Data_minima3\"\n",
    "\n",
    "# choose neural network\n",
    "inn = 0\n",
    "num_nn = 1\n",
    "nn_params = nng.define_nn_params(num_nn)\n",
    "nn_weights = nrw.read_nn_weights(nn_params[\"dir_nn_weights\"] + \"/\" + \"NN\" + str(inn))\n",
    "filename_hyperparams = nn_params[\"dir_nn_weights\"] + \"/\" + nn_params[\"filename_hyperparams\"]\n",
    "nn_hyperparams = nrw.read_nn_weights(filename_hyperparams)\n",
    "\n",
    "# choose test data set\n",
    "sys_params = tdg.define_system_params(\"Data_220713_100ex\")\n",
    "X_all, Y_all, avg_powers_all = nrw.import_training_data(sys_params)\n",
    "nn_params = nng.define_nn_params(num_nn)\n",
    "nn_params[\"use_test_set\"] = False\n",
    "nn_dataset = nng.seperate_test_set(X_all, Y_all, avg_powers_all, nn_params)\n",
    "\n",
    "nn_dataset = nng.normalise(nn_dataset, mean=nn_hyperparams[\"mu\"][inn], std_dev=nn_hyperparams[\"sigma\"][inn])\n",
    "#print(nn_dataset[\"X_train\"][1,0], nn_hyperparams[\"mu\"][inn]/nn_hyperparams[\"sigma\"][inn], nn_hyperparams[\"mu\"][inn]-nn_hyperparams[\"sigma\"][inn])\n",
    "#print(np.shape(nn_dataset[\"X_train\"]))\n",
    "#print(nn_dataset[\"X_train\"][0,:])\n",
    "new_min = nn_hyperparams[\"mu\"][inn]/nn_hyperparams[\"sigma\"][inn]\n",
    "nn_dataset[\"X_train\"] = - new_min + new_min * np.random.rand(np.shape(nn_dataset[\"X_train\"])[0], np.shape(nn_dataset[\"X_train\"])[1])\n",
    "#print(np.shape(nn_dataset[\"X_train\"]))\n",
    "#print(nn_dataset[\"X_train\"][0,:])\n",
    "dataset_params, facility_spec = tdg.define_dataset_params(nn_params[\"num_examples\"])\n",
    "dataset_params[\"Y_train\"] = nn_dataset[\"Y_train\"].T\n",
    "y_true = dataset_params[\"Y_train\"]\n",
    "\n",
    "# apply neural net to test set\n",
    "sys_params = tdg.define_system_params(test_pred_dir)\n",
    "y_pred = tfnn.apply_network(nn_dataset[\"X_train\"], nn_weights, nn_hyperparams[\"use_final_sigmoid\"][inn])\n",
    "dataset_params[\"Y_train\"] = y_pred"
   ]
  },
  {
   "cell_type": "code",
   "execution_count": null,
   "id": "23b8c4e8-6fff-4c33-ba73-0c4932e727a5",
   "metadata": {},
   "outputs": [],
   "source": [
    "# Create new run files\n",
    "sys_params[\"run_clean\"] = False\n",
    "dataset_params = idg.create_run_files(dataset_params, sys_params, facility_spec)\n",
    "tdg.generate_training_data(dataset_params, sys_params, facility_spec)"
   ]
  },
  {
   "cell_type": "code",
   "execution_count": null,
   "id": "434b07e0-d32e-4f43-a4d0-f0a6b5909af6",
   "metadata": {},
   "outputs": [],
   "source": [
    "iex = 0\n",
    "\n",
    "num_examples = 1\n",
    "sys_params = tdg.define_system_params(test_pred_dir)\n",
    "sys_params[\"run_gen_deck\"] = False\n",
    "X_all, Y_all, avg_powers_all = nrw.import_training_data(sys_params)\n",
    "\n",
    "dataset_params, facility_spec = tdg.define_dataset_params(int(num_examples))\n",
    "dataset_params[\"Y_train\"] = Y_all[:,iex]\n",
    "dataset_params = idg.create_run_files(dataset_params, sys_params, facility_spec)\n",
    "\n",
    "mean_power_fraction = uim.extract_run_parameters(dataset_params, facility_spec, sys_params)\n",
    "\n",
    "run_location = sys_params[\"root_dir\"] + \"/\" + sys_params[\"sim_dir\"] + str(iex)\n",
    "intensity_map = nrw.read_intensity(run_location, dataset_params[\"imap_nside\"], run_data['target_radius'])\n",
    "intensity_map_rms_spatial = uim.readout_intensity(facility_spec, intensity_map, mean_power_fraction)\n",
    "\n",
    "\n",
    "# convert from W/sr to W/cm**2\n",
    "intensity_map = intensity_map * (facility_spec['target_radius'] / 10000.0)**2\n",
    "hp.mollview(intensity_map,unit=r\"$\\rm{W/cm^2}$\",flip=\"geo\")\n",
    "hp.graticule()\n",
    "port_theta = facility_spec[\"Port_centre_theta\"]\n",
    "port_phi = facility_spec[\"Port_centre_phi\"]\n",
    "hp.projscatter(port_theta, port_phi)\n",
    "hp.projscatter(np.squeeze(dataset_params[\"theta_pointings\"]), np.squeeze(dataset_params[\"phi_pointings\"]))\n",
    "plt.savefig(sys_params[\"figure_location\"]+'/intensity_mollweide_'+ str(iex) + \"low_rms\" + sys_params[\"plot_file_type\"], dpi=300, bbox_inches='tight')"
   ]
  },
  {
   "cell_type": "code",
   "execution_count": null,
   "id": "e5e2f769-79ab-41b4-90f7-1cf8873b0a05",
   "metadata": {},
   "outputs": [],
   "source": [
    "LMAX = dataset_params[\"LMAX\"]\n",
    "power_spectrum_unweighted, power_spectrum_weighted = uim.power_spectrum(intensity_map, LMAX)\n",
    "x_max = LMAX\n",
    "\n",
    "fig = plt.figure()\n",
    "ax = plt.axes()\n",
    "plt.plot(np.arange(LMAX), power_spectrum_unweighted * 100.0)\n",
    "ax.set_xticks(range(0, LMAX+1, int(LMAX/5)))\n",
    "plt.xlim([0, x_max])\n",
    "plt.title(\"Unweighted Modes\")\n",
    "plt.xlabel(\"l mode\")\n",
    "plt.ylabel(r\"amplitude ($\\%$)\")\n",
    "plt.savefig(sys_params[\"figure_location\"]+\"/unweighted_modes_\"+ str(iex) +\"low_rms\" + sys_params[\"plot_file_type\"], dpi=300, bbox_inches='tight')\n",
    "\n",
    "fig = plt.figure()\n",
    "ax = plt.axes()\n",
    "plt.plot(np.arange(LMAX), power_spectrum_weighted * 100.0)\n",
    "ax.set_xticks(range(0, LMAX+1, int(LMAX/5)))\n",
    "plt.xlim([0, x_max])\n",
    "plt.title(\"Weighted Modes\")\n",
    "plt.xlabel(\"l mode\")\n",
    "plt.ylabel(r\"amplitude ($\\%$)\")\n",
    "plt.savefig(sys_params[\"figure_location\"]+\"/weighted_modes\" + sys_params[\"plot_file_type\"], dpi=300, bbox_inches='tight')"
   ]
  },
  {
   "cell_type": "markdown",
   "id": "c4342d71-5259-4713-9617-7a8afe1fc32f",
   "metadata": {
    "jp-MarkdownHeadingCollapsed": true,
    "tags": []
   },
   "source": [
    "## Run PDD through NN"
   ]
  },
  {
   "cell_type": "code",
   "execution_count": null,
   "id": "a46a796c-497d-4c33-96c8-28649184f06c",
   "metadata": {},
   "outputs": [],
   "source": [
    "import matplotlib.pyplot as plt\n",
    "import healpy as hp\n",
    "import tf_neural_network as tfnn\n",
    "import netcdf_read_write as nrw\n",
    "import utils_deck_generation as idg\n",
    "import training_data_generation as tdg\n",
    "import utils_intensity_map as uim\n",
    "import neural_network_generation as nng\n",
    "import utils_intensity_map as uim\n",
    "%matplotlib inline\n",
    "num_epochs = 10\n",
    "num_examples = 1\n",
    "nif_pdd_dir = \"Data_pdd\"\n",
    "nif_pdd_pred_dir = \"Data_pdd_pred\""
   ]
  },
  {
   "cell_type": "code",
   "execution_count": null,
   "id": "a893b857-3b3e-44f5-b437-88b3ab38ad4f",
   "metadata": {},
   "outputs": [],
   "source": [
    "imap_nside = 256\n",
    "LMAX = 30\n",
    "input_size = 992\n",
    "output_size = 16\n",
    "target_radius_microns = 1100\n",
    "\n",
    "run_location = nif_pdd_dir + \"/run_0\"\n",
    "intensity_map = nrw.read_intensity(run_location, imap_nside, target_radius_microns)\n",
    "X_train, avg_powers_all = uim.create_xtrain(intensity_map, LMAX)\n",
    "X_all = np.reshape(X_train, (-1,input_size))\n",
    "Y_all = np.zeros(output_size)\n",
    "\n",
    "# choose neural network\n",
    "inn = 0\n",
    "num_nn = 1\n",
    "nn_params = nng.define_nn_params(num_nn)\n",
    "nn_weights = nrw.read_nn_weights(\"neural_network_weights\" + \"/\" + \"NN\" + str(inn))\n",
    "filename_hyperparams = nn_params[\"dir_nn_weights\"] + \"/\" + nn_params[\"filename_hyperparams\"]\n",
    "nn_hyperparams = nrw.read_nn_weights(filename_hyperparams)\n",
    "\n",
    "# param setup\n",
    "sys_params = tdg.define_system_params(nif_pdd_pred_dir)\n",
    "nn_params[\"use_test_set\"] = False\n",
    "nn_dataset = nng.seperate_test_set(X_all, Y_all, avg_powers_all, nn_params)\n",
    "nn_dataset = nng.normalise(nn_dataset, mean=nn_hyperparams[\"mu\"][inn], std_dev=nn_hyperparams[\"sigma\"][inn])\n",
    "\n",
    "y_pred = tfnn.apply_network(nn_dataset[\"X_train\"].T, nn_weights, nn_hyperparams[\"use_final_sigmoid\"][inn])\n",
    "\n",
    "dataset_params, facility_spec = tdg.define_dataset_params(num_examples)\n",
    "dataset_params[\"Y_train\"] = y_pred"
   ]
  },
  {
   "cell_type": "code",
   "execution_count": null,
   "id": "50ea6769-e780-4fca-8384-895e06de53b3",
   "metadata": {},
   "outputs": [],
   "source": [
    "# Create new run files\n",
    "sys_params[\"run_clean\"] = False\n",
    "dataset_params = idg.create_run_files(dataset_params, sys_params, facility_spec)\n",
    "tdg.generate_training_data(dataset_params, sys_params, facility_spec)"
   ]
  },
  {
   "cell_type": "markdown",
   "id": "1687afd6-ac0c-44bf-8a4f-c967f4f2dcd5",
   "metadata": {
    "jp-MarkdownHeadingCollapsed": true,
    "tags": []
   },
   "source": [
    "# NN as surrogate for Ifriit"
   ]
  },
  {
   "cell_type": "code",
   "execution_count": null,
   "id": "15906c20-bef1-4bce-890f-b9e23d2f1a78",
   "metadata": {},
   "outputs": [],
   "source": [
    "import matplotlib.pyplot as plt\n",
    "import healpy as hp\n",
    "import tf_neural_network as tfnn\n",
    "import netcdf_read_write as nrw\n",
    "import utils_deck_generation as idg\n",
    "import training_data_generation as tdg\n",
    "import utils_intensity_map as uim\n",
    "import neural_network_generation as nng\n",
    "%matplotlib inline\n",
    "num_epochs = 10\n",
    "num_nn = 1\n",
    "run_dir = \"Data\"\n",
    "imap_nside = 256\n",
    "LMAX = 30\n",
    "filename_flipped_trainingdata = \"flipped_training_data_and_labels.nc\"\n",
    "use_final_sigmoid = 0"
   ]
  },
  {
   "cell_type": "code",
   "execution_count": null,
   "id": "bee2c33d-4e9a-47b1-928b-f01b401cf6bb",
   "metadata": {},
   "outputs": [],
   "source": [
    "# choose test data set\n",
    "sys_params = tdg.define_system_params(run_dir)\n",
    "nn_params = nng.define_nn_params(num_nn)\n",
    "\n",
    "X_all, Y_all, avg_powers_all = nrw.import_training_data_reversed(sys_params, LMAX)\n",
    "filename_trainingdata = run_dir + '/' + filename_flipped_trainingdata \n",
    "nrw.save_training_data(X_all, Y_all, avg_powers_all, filename_trainingdata)"
   ]
  },
  {
   "cell_type": "code",
   "execution_count": null,
   "id": "e97548e5-d199-4f08-920d-e6df5e86e083",
   "metadata": {},
   "outputs": [],
   "source": [
    "sys_params = tdg.define_system_params(run_dir)\n",
    "sys_params[\"trainingdata_filename\"] = filename_flipped_trainingdata\n",
    "X_all, Y_all, avg_powers_all = nrw.import_training_data(sys_params)"
   ]
  },
  {
   "cell_type": "code",
   "execution_count": null,
   "id": "6f05a888-59b5-4233-93bf-1e63f8bcdc17",
   "metadata": {},
   "outputs": [],
   "source": [
    "nn_dataset = nng.seperate_test_set(X_all, Y_all, avg_powers_all, nn_params)\n",
    "#nn_dataset = nng.normalise(nn_dataset)\n",
    "nn_hyperparams = nng.define_nn_hyperparams(num_epochs, num_nn, use_final_sigmoid=use_final_sigmoid)\n",
    "nn_hyperparams = nng.multiple_nn(nn_params, nn_dataset, sys_params, nn_hyperparams)"
   ]
  },
  {
   "cell_type": "markdown",
   "id": "17a40cc8-36d8-4452-afc8-b9e8c7879732",
   "metadata": {
    "jp-MarkdownHeadingCollapsed": true,
    "tags": []
   },
   "source": [
    "## Check performance on test set"
   ]
  },
  {
   "cell_type": "code",
   "execution_count": null,
   "id": "38d7d997-3758-4e0f-95bf-d44d22145530",
   "metadata": {},
   "outputs": [],
   "source": [
    "use_final_sigmoid = 0\n",
    "filename_hyperparams = nn_params[\"dir_nn_weights\"] + \"/NN0\"\n",
    "nn_weights = nrw.read_nn_weights(filename_hyperparams)\n",
    "y_pred = tfnn.apply_network(nn_dataset[\"X_test\"], nn_weights, use_final_sigmoid)"
   ]
  },
  {
   "cell_type": "code",
   "execution_count": null,
   "id": "76d5401a-7ab9-43b3-99dd-a24217cc01e0",
   "metadata": {},
   "outputs": [],
   "source": [
    "iex = 0\n",
    "\n",
    "fig = plt.figure()\n",
    "ax = plt.axes()\n",
    "plt.plot(np.arange(LMAX), nn_dataset[\"Y_test\"][iex,:] * 100.0)\n",
    "#plt.plot(np.arange(LMAX), Y_all[:,iex])\n",
    "ax.set_xticks(range(0, LMAX+1, int(LMAX/5)))\n",
    "plt.title(\"Unweighted Modes, Ifriit Inverse Ray Trace\")\n",
    "plt.xlabel(\"l mode\")\n",
    "plt.ylabel(r\"amplitude ($\\%$)\")\n",
    "plt.savefig(sys_params[\"figure_location\"]+\"/unweighted_modes_\"+str(iex)+\"original\" + sys_params[\"plot_file_type\"], dpi=300, bbox_inches='tight')\n",
    "\n",
    "fig = plt.figure()\n",
    "ax = plt.axes()\n",
    "plt.plot(np.arange(LMAX), y_pred[:,iex] * 100.0)\n",
    "ax.set_xticks(range(0, LMAX+1, int(LMAX/5)))\n",
    "plt.title(\"Unweighted Modes, NN Surrogate Model\")\n",
    "plt.xlabel(\"l mode\")\n",
    "plt.ylabel(r\"amplitude ($\\%$)\")\n",
    "plt.savefig(sys_params[\"figure_location\"]+\"/unweighted_modes_\"+str(iex)+\"nn\" + sys_params[\"plot_file_type\"], dpi=300, bbox_inches='tight')"
   ]
  },
  {
   "cell_type": "markdown",
   "id": "76709ac4-c630-4be5-b04f-2e73af9fdda5",
   "metadata": {
    "jp-MarkdownHeadingCollapsed": true,
    "tags": []
   },
   "source": [
    "## Test on Independent Set"
   ]
  },
  {
   "cell_type": "code",
   "execution_count": null,
   "id": "86f767c8-2be0-4123-9f96-de8389fbebc8",
   "metadata": {},
   "outputs": [],
   "source": [
    "run_dir = \"Data_220713_100ex\"\n",
    "filename_flipped_trainingdata = \"flipped_training_data_and_labels.nc\"\n",
    "\n",
    "# choose neural network\n",
    "inn = 0\n",
    "num_nn = 1\n",
    "nn_params = nng.define_nn_params(num_nn)\n",
    "nn_weights = nrw.read_nn_weights(nn_params[\"dir_nn_weights\"] + \"/\" + \"NN\" + str(inn))\n",
    "filename_hyperparams = nn_params[\"dir_nn_weights\"] + \"/\" + nn_params[\"filename_hyperparams\"]\n",
    "nn_hyperparams = nrw.read_nn_weights(filename_hyperparams)\n",
    "\n",
    "# choose test data set\n",
    "sys_params = tdg.define_system_params(run_dir)\n",
    "sys_params[\"trainingdata_filename\"] = filename_flipped_trainingdata\n",
    "X_all, Y_all, avg_powers_all = nrw.import_training_data(sys_params)\n",
    "\n",
    "nn_params = nng.define_nn_params(num_nn)\n",
    "nn_params[\"use_test_set\"] = False\n",
    "nn_dataset = nng.seperate_test_set(X_all, Y_all, avg_powers_all, nn_params, use_test_set=False)\n",
    "\n",
    "dataset_params, facility_spec = tdg.define_dataset_params(nn_params[\"num_examples\"])\n",
    "dataset_params[\"Y_train\"] = nn_dataset[\"Y_train\"].T\n",
    "dataset_params[\"X_train\"] = nn_dataset[\"X_train\"].T\n",
    "ifriit_inputs_true = dataset_params[\"X_train\"]\n",
    "modes_true = dataset_params[\"Y_train\"]\n",
    "\n",
    "# apply neural net to test set\n",
    "modes_pred = tfnn.apply_network(nn_dataset[\"X_train\"], nn_weights, nn_hyperparams[\"use_final_sigmoid\"][inn])"
   ]
  },
  {
   "cell_type": "code",
   "execution_count": null,
   "id": "5946f98a-f285-4e17-ba88-f068c612d8a2",
   "metadata": {},
   "outputs": [],
   "source": [
    "mean_val_true = np.mean(np.abs(modes_true))\n",
    "print(\"The absolute error is: \", np.mean(np.abs(modes_true - modes_pred)))\n",
    "print(\"Guessing zero for all modes gives error: \", np.mean(np.abs(modes_true)))\n",
    "print(\"The percentage relative error is: \", np.mean(np.abs(modes_true - modes_pred) / modes_true) * 100.0, \"%\")\n",
    "\n",
    "abs_error = np.mean(np.abs(modes_true - modes_pred), axis=1)\n",
    "rel_error = np.mean(np.abs(modes_true - modes_pred) / modes_true, axis=1) * 100.0\n",
    "print(np.shape(abs_error))\n",
    "print(abs_error)\n",
    "print(rel_error)\n",
    "\n",
    "fig = plt.figure()\n",
    "ax = plt.axes()\n",
    "plt.plot(abs_error)\n",
    "plt.xlabel(\"Mode\")\n",
    "plt.ylabel(\"Average Absolute Error\")\n",
    "plt.savefig(sys_params[\"figure_location\"]+'/absolute_error_averaged_'+ str(nn_params[\"num_examples\"]) + \"ex\" + sys_params[\"plot_file_type\"], dpi=300, bbox_inches='tight')"
   ]
  },
  {
   "cell_type": "markdown",
   "id": "2704acc9-3dc7-4ad3-ba1e-cc4df0151a89",
   "metadata": {
    "jp-MarkdownHeadingCollapsed": true,
    "tags": []
   },
   "source": [
    "## Find Minimum in Train set"
   ]
  },
  {
   "cell_type": "code",
   "execution_count": null,
   "id": "870c7cf6-70f0-4ce5-ba82-72f1d8037efd",
   "metadata": {},
   "outputs": [],
   "source": [
    "use_final_sigmoid = 0\n",
    "filename_hyperparams = nn_params[\"dir_nn_weights\"] + \"/NN0\"\n",
    "nn_weights = nrw.read_nn_weights(filename_hyperparams)\n",
    "y_pred = tfnn.apply_network(X_all.T, nn_weights, use_final_sigmoid)"
   ]
  },
  {
   "cell_type": "code",
   "execution_count": null,
   "id": "de313dc1-f109-47f5-b6c4-71337571eccf",
   "metadata": {},
   "outputs": [],
   "source": [
    "mindex = np.argmin(np.mean(Y_all, axis=0))\n",
    "print(mindex, \" out of \", np.shape(Y_all))\n",
    "mindex = np.argmin(np.sqrt(np.sum(Y_all**2, axis=0)))\n",
    "print(mindex, \" out of \", np.shape(Y_all))\n",
    "print(np.sqrt(np.sum(Y_all[:,mindex]**2, axis=0)))\n",
    "print(np.shape(Y_all[:,mindex]), X_all[:,mindex])"
   ]
  },
  {
   "cell_type": "code",
   "execution_count": null,
   "id": "77f632ec-670a-4e58-9c66-5802a954b99a",
   "metadata": {},
   "outputs": [],
   "source": [
    "fig = plt.figure()\n",
    "ax = plt.axes()\n",
    "plt.plot(np.arange(LMAX), Y_all[:,mindex] * 100.0)\n",
    "#plt.plot(np.arange(LMAX), Y_all[:,iex])\n",
    "ax.set_xticks(range(0, LMAX+1, int(LMAX/5)))\n",
    "plt.title(\"Unweighted Modes, Ifriit Inverse Ray Trace\")\n",
    "plt.xlabel(\"l mode\")\n",
    "plt.ylabel(r\"amplitude ($\\%$)\")\n",
    "plt.savefig(sys_params[\"figure_location\"]+\"/unweighted_modes_\"+str(mindex)+\"original\" + sys_params[\"plot_file_type\"], dpi=300, bbox_inches='tight')\n",
    "\n",
    "fig = plt.figure()\n",
    "ax = plt.axes()\n",
    "plt.plot(np.arange(LMAX), y_pred[:,mindex] * 100.0)\n",
    "ax.set_xticks(range(0, LMAX+1, int(LMAX/5)))\n",
    "plt.title(\"Unweighted Modes, NN Surrogate Model\")\n",
    "plt.xlabel(\"l mode\")\n",
    "plt.ylabel(r\"amplitude ($\\%$)\")\n",
    "plt.savefig(sys_params[\"figure_location\"]+\"/unweighted_modes_\"+str(mindex)+\"nn\" + sys_params[\"plot_file_type\"], dpi=300, bbox_inches='tight')"
   ]
  },
  {
   "cell_type": "code",
   "execution_count": null,
   "id": "f4d6e094-923f-42cf-9508-a37fd521a790",
   "metadata": {},
   "outputs": [],
   "source": [
    "num_examples = 10\n",
    "run_dir = \"Data_min10\"\n",
    "\n",
    "#min_slice = np.argsort(np.mean(Y_all, axis=0))[:num_examples]\n",
    "min_slice = np.argsort(np.sqrt(np.sum(Y_all**2, axis=0)))[:num_examples]\n",
    "print(min_slice)\n",
    "\n",
    "dataset_params, facility_spec = tdg.define_dataset_params(num_examples)\n",
    "dataset_params[\"Y_train\"] = X_all[:,min_slice]"
   ]
  },
  {
   "cell_type": "code",
   "execution_count": null,
   "id": "a8648861-609d-4222-9e3d-71be0b04dc07",
   "metadata": {},
   "outputs": [],
   "source": [
    "sys_params = tdg.define_system_params(run_dir)\n",
    "\n",
    "# Create new run files\n",
    "#sys_params[\"run_clean\"] = False\n",
    "dataset_params = idg.create_run_files(dataset_params, sys_params, facility_spec)\n",
    "#facility_spec['target_radius'] = 1053.0\n",
    "#facility_spec['default_power'] = 2.5"
   ]
  },
  {
   "cell_type": "code",
   "execution_count": null,
   "id": "a37419f2-8b9c-4e59-8d55-64d65fb94c2d",
   "metadata": {},
   "outputs": [],
   "source": [
    "tdg.generate_training_data(dataset_params, sys_params, facility_spec)"
   ]
  },
  {
   "cell_type": "markdown",
   "id": "92b12b8f-fb09-4c5b-8768-e7b22609df5b",
   "metadata": {
    "jp-MarkdownHeadingCollapsed": true,
    "tags": []
   },
   "source": [
    "## Search for Minima"
   ]
  },
  {
   "cell_type": "code",
   "execution_count": null,
   "id": "1c862111-6b89-4d4b-a872-946f57bb57c0",
   "metadata": {},
   "outputs": [],
   "source": [
    "num_nn = 1\n",
    "nn_params = nng.define_nn_params(num_nn)\n",
    "x_test_random = np.random.rand(1000000,16)\n",
    "print(x_test_random[0,:])"
   ]
  },
  {
   "cell_type": "code",
   "execution_count": null,
   "id": "00f86162-ba3d-408f-b887-6c4d1d2a0bf2",
   "metadata": {},
   "outputs": [],
   "source": [
    "use_final_sigmoid = 0\n",
    "filename_hyperparams = nn_params[\"dir_nn_weights\"] + \"/NN0\"\n",
    "nn_weights = nrw.read_nn_weights(filename_hyperparams)\n",
    "#y_pred = tfnn.apply_network(X_all.T, nn_weights, use_final_sigmoid)\n",
    "y_pred = tfnn.apply_network(x_test_random, nn_weights, use_final_sigmoid)"
   ]
  },
  {
   "cell_type": "code",
   "execution_count": null,
   "id": "34102f0d-8bac-41af-8370-765e94fe11ca",
   "metadata": {},
   "outputs": [],
   "source": [
    "num_examples = 10\n",
    "iex = 0\n",
    "mindex = np.argmin(np.mean(y_pred, axis=0))\n",
    "min_slice = np.argsort(np.mean(y_pred, axis=0))[:num_examples]\n",
    "print(mindex)\n",
    "print(np.shape(x_test_random[min_slice[:],:].T))\n",
    "\n",
    "fig = plt.figure()\n",
    "ax = plt.axes()\n",
    "plt.plot(np.arange(LMAX), y_pred[:,min_slice[iex]] * 100.0)\n",
    "ax.set_xticks(range(0, LMAX+1, int(LMAX/5)))\n",
    "plt.title(\"Unweighted Modes, NN Surrogate find minimum\")\n",
    "plt.xlabel(\"l mode\")\n",
    "plt.ylabel(r\"amplitude ($\\%$)\")\n",
    "plt.savefig(sys_params[\"figure_location\"]+\"/unweighted_modes_\"+str(iex)+\"nn\" + sys_params[\"plot_file_type\"], dpi=300, bbox_inches='tight')"
   ]
  },
  {
   "cell_type": "code",
   "execution_count": null,
   "id": "c570542d-cff2-4c05-8657-b38c63ed3956",
   "metadata": {},
   "outputs": [],
   "source": [
    "dataset_params, facility_spec = tdg.define_dataset_params(num_examples)\n",
    "#print(np.shape(dataset_params[\"Y_train\"]))\n",
    "#print(np.shape(x_test_random[min_slice,:]))\n",
    "dataset_params[\"Y_train\"] = x_test_random[min_slice[:],:].T\n",
    "\n",
    "run_dir = \"Data_nn_find_min\"\n",
    "sys_params = tdg.define_system_params(run_dir)\n",
    "\n",
    "# Create new run files\n",
    "sys_params[\"run_clean\"] = False\n",
    "dataset_params = idg.create_run_files(dataset_params, sys_params, facility_spec)\n",
    "tdg.generate_training_data(dataset_params, sys_params, facility_spec)"
   ]
  },
  {
   "cell_type": "code",
   "execution_count": null,
   "id": "743da53a-4ded-4ebb-bc0d-3a389b4399a3",
   "metadata": {},
   "outputs": [],
   "source": [
    "# choose test data set\n",
    "sys_params = tdg.define_system_params(run_dir)\n",
    "\n",
    "X_all, Y_all, avg_powers_all = nrw.import_training_data_reversed(sys_params, LMAX)\n",
    "filename_trainingdata = run_dir + '/' + filename_flipped_trainingdata \n",
    "nrw.save_training_data(X_all, Y_all, avg_powers_all, filename_trainingdata)\n",
    "dataset_params, facility_spec = tdg.define_dataset_params(np.shape(X_all)[1])\n",
    "\n",
    "#mindex = np.argmin(np.mean(Y_all, axis=0))\n",
    "mindex = np.argmin(np.sqrt(np.sum(Y_all**2, axis=0)))\n",
    "print(mindex)"
   ]
  },
  {
   "cell_type": "code",
   "execution_count": null,
   "id": "a22145e0-c824-4118-b22d-0ed0d5badf94",
   "metadata": {},
   "outputs": [],
   "source": [
    "iex = 0\n",
    "with_pointing_markers = True\n",
    "\n",
    "print(dataset_params[\\\"Y_train\\\"][iex])\n",
    "\n",
    "num_examples = 1\n",
    "sys_params = tdg.define_system_params(run_dir)\n",
    "sys_params[\"run_gen_deck\"] = False\n",
    "dataset_params, facility_spec = tdg.define_dataset_params(int(num_examples))\n",
    "\n",
    "run_location = sys_params[\"root_dir\"] + \"/\" + sys_params[\"sim_dir\"] + str(iex)\n",
    "intensity_map = nrw.read_intensity(run_location, dataset_params[\"imap_nside\"], facility_spec['target_radius'])"
   ]
  },
  {
   "cell_type": "code",
   "execution_count": null,
   "id": "63ea36c0-e1c7-451c-873c-cd4ae220d186",
   "metadata": {},
   "outputs": [],
   "source": [
    "LMAX = dataset_params[\"LMAX\"]\n",
    "power_spectrum_unweighted, power_spectrum_weighted = uim.power_spectrum(intensity_map, LMAX)\n",
    "x_max = LMAX\n",
    "\n",
    "fig = plt.figure()\n",
    "ax = plt.axes()\n",
    "plt.plot(np.arange(LMAX), y_pred[:,min_slice[iex]] * 100.0)\n",
    "ax.set_xticks(range(0, LMAX+1, int(LMAX/5)))\n",
    "plt.title(\"Unweighted Modes, NN Surrogate find Minimum\")\n",
    "plt.xlabel(\"l mode\")\n",
    "plt.ylabel(r\"amplitude ($\\%$)\")\n",
    "plt.savefig(sys_params[\"figure_location\"]+\"/unweighted_modes_\"+str(iex)+\"nn_min_guess\" + sys_params[\"plot_file_type\"], dpi=300, bbox_inches='tight')\n",
    "\n",
    "fig = plt.figure()\n",
    "ax = plt.axes()\n",
    "plt.plot(np.arange(LMAX), power_spectrum_unweighted * 100.0)\n",
    "ax.set_xticks(range(0, LMAX+1, int(LMAX/5)))\n",
    "plt.xlim([0, x_max])\n",
    "plt.title(\"Unweighted Modes\")\n",
    "plt.xlabel(\"l mode\")\n",
    "plt.ylabel(r\"amplitude ($\\%$)\")\n",
    "plt.savefig(sys_params[\"figure_location\"]+\"/unweighted_modes_\"+str(iex)+\"ifriit\" + sys_params[\"plot_file_type\"], dpi=300, bbox_inches='tight')\n",
    "\n",
    "fig = plt.figure()\n",
    "ax = plt.axes()\n",
    "plt.plot(np.arange(LMAX), power_spectrum_weighted * 100.0)\n",
    "ax.set_xticks(range(0, LMAX+1, int(LMAX/5)))\n",
    "plt.xlim([0, x_max])\n",
    "plt.title(\"Weighted Modes\")\n",
    "plt.xlabel(\"l mode\")\n",
    "plt.ylabel(r\"amplitude ($\\%$)\")\n",
    "plt.savefig(sys_params[\"figure_location\"]+\"/weighted_modes\" + sys_params[\"plot_file_type\"], dpi=300, bbox_inches='tight')"
   ]
  }
 ],
 "metadata": {
  "kernelspec": {
   "display_name": "Python 3 (ipykernel)",
   "language": "python",
   "name": "python3"
  },
  "language_info": {
   "codemirror_mode": {
    "name": "ipython",
    "version": 3
   },
   "file_extension": ".py",
   "mimetype": "text/x-python",
   "name": "python",
   "nbconvert_exporter": "python",
   "pygments_lexer": "ipython3",
   "version": "3.10.9"
  }
 },
 "nbformat": 4,
 "nbformat_minor": 5
}
